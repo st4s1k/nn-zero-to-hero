{
  "cells": [
    {
      "cell_type": "markdown",
      "metadata": {
        "id": "YMbhhm84vFTu"
      },
      "source": [
        "# The spelled-out intro to neural networks and backpropagation: building micrograd"
      ]
    },
    {
      "cell_type": "markdown",
      "metadata": {
        "id": "9XdOE2l_vFTx"
      },
      "source": [
        "## Derivative of a simple function with one input"
      ]
    },
    {
      "cell_type": "code",
      "execution_count": 1,
      "metadata": {
        "id": "jdQqMcdivFTy"
      },
      "outputs": [],
      "source": [
        "import math\n",
        "import numpy as np\n",
        "import matplotlib.pyplot as plt\n",
        "%matplotlib inline"
      ]
    },
    {
      "cell_type": "code",
      "execution_count": 2,
      "metadata": {
        "id": "3wgcDjzUvFTz"
      },
      "outputs": [],
      "source": [
        "def f(x):\n",
        "    return 3*x**2 - 4*x + 5"
      ]
    },
    {
      "cell_type": "code",
      "execution_count": 3,
      "metadata": {
        "colab": {
          "base_uri": "https://localhost:8080/"
        },
        "id": "oz70J7FDvFTz",
        "outputId": "290fe150-f5f8-48c6-b9ac-6323899799ff"
      },
      "outputs": [
        {
          "data": {
            "text/plain": [
              "20.0"
            ]
          },
          "execution_count": 3,
          "metadata": {},
          "output_type": "execute_result"
        }
      ],
      "source": [
        "f(3.0)"
      ]
    },
    {
      "cell_type": "code",
      "execution_count": 4,
      "metadata": {
        "colab": {
          "base_uri": "https://localhost:8080/",
          "height": 447
        },
        "id": "gnmDie_rvFT0",
        "outputId": "12413555-24e6-435f-84f3-11bc0951fffb"
      },
      "outputs": [
        {
          "data": {
            "text/plain": [
              "[<matplotlib.lines.Line2D at 0x7f02cf0c17b0>]"
            ]
          },
          "execution_count": 4,
          "metadata": {},
          "output_type": "execute_result"
        },
        {
          "data": {
            "image/png": "[encoded data removed]",
            "text/plain": [
              "<Figure size 640x480 with 1 Axes>"
            ]
          },
          "metadata": {},
          "output_type": "display_data"
        }
      ],
      "source": [
        "xs = np.arange(-5, 5, 0.25)\n",
        "ys = f(xs)\n",
        "plt.plot(xs, ys)"
      ]
    },
    {
      "cell_type": "code",
      "execution_count": 5,
      "metadata": {
        "colab": {
          "base_uri": "https://localhost:8080/"
        },
        "id": "TGMTFQLYvFT1",
        "outputId": "41c04d4f-7c37-465a-e34f-6dc5d98b2d39"
      },
      "outputs": [
        {
          "name": "stdout",
          "output_type": "stream",
          "text": [
            "20.0\n",
            "20.000014000003002\n"
          ]
        }
      ],
      "source": [
        "h = 0.000001\n",
        "x = 3.0\n",
        "print(f(x))\n",
        "print(f(x + h))"
      ]
    },
    {
      "cell_type": "markdown",
      "metadata": {
        "id": "Q-P_DYKWvFT2"
      },
      "source": [
        "### Slope"
      ]
    },
    {
      "cell_type": "code",
      "execution_count": 6,
      "metadata": {
        "id": "3R1_3zKXvFT2"
      },
      "outputs": [],
      "source": [
        "def slope_at(x):\n",
        "    return (f(x + h) - f(x)) / h"
      ]
    },
    {
      "cell_type": "code",
      "execution_count": 7,
      "metadata": {
        "colab": {
          "base_uri": "https://localhost:8080/"
        },
        "id": "60qiHuYnvFT2",
        "outputId": "8bb994a4-fb8f-414f-b019-23856bca3781"
      },
      "outputs": [
        {
          "name": "stdout",
          "output_type": "stream",
          "text": [
            "14.000003002223593\n",
            "-21.999997002808414\n",
            "2.999378523327323e-06\n"
          ]
        }
      ],
      "source": [
        "print(slope_at(3.0))\n",
        "print(slope_at(-3.0))\n",
        "print(slope_at(2/3))"
      ]
    },
    {
      "cell_type": "markdown",
      "metadata": {
        "id": "IiL4VtX_vFT3"
      },
      "source": [
        "## Derivative of a function with multiple inputs"
      ]
    },
    {
      "cell_type": "code",
      "execution_count": 8,
      "metadata": {
        "colab": {
          "base_uri": "https://localhost:8080/"
        },
        "id": "NZpB5MgCvFT3",
        "outputId": "12550ef7-85ab-491e-e7b3-d79950d7deab"
      },
      "outputs": [
        {
          "name": "stdout",
          "output_type": "stream",
          "text": [
            "4.0\n"
          ]
        }
      ],
      "source": [
        "a = 2.0\n",
        "b = -3.0\n",
        "c = 10.0\n",
        "d = a * b + c\n",
        "print(d)"
      ]
    },
    {
      "cell_type": "code",
      "execution_count": 9,
      "metadata": {
        "colab": {
          "base_uri": "https://localhost:8080/"
        },
        "id": "QcEh6VnYvFT3",
        "outputId": "3a7d7230-2506-499e-9b5a-cfc6aecaf6d9"
      },
      "outputs": [
        {
          "name": "stdout",
          "output_type": "stream",
          "text": [
            "h 0.0001\n",
            "a1 2.0\n",
            "a2 2.0001\n",
            "a2 - a1 0.00010000000000021103\n",
            "d1 4.0\n",
            "d2 3.999699999999999\n",
            "d2 - d1 -0.0003000000000010772\n",
            "(d2 - d1) / (a2 - a1) -3.000000000004441\n",
            "(d2 - d1) / h -3.000000000010772\n"
          ]
        }
      ],
      "source": [
        "h = 0.0001\n",
        "\n",
        "# inputs\n",
        "a1 = 2.0\n",
        "b = -3.0\n",
        "c = 10.0\n",
        "\n",
        "d1 = a1 * b + c\n",
        "a2 = a1 + h\n",
        "\n",
        "d2 = a2 * b + c\n",
        "\n",
        "print('h', h)\n",
        "print('a1', a1)\n",
        "print('a2', a2)\n",
        "print('a2 - a1', a2 - a1)\n",
        "print('d1', d1)\n",
        "print('d2', d2)\n",
        "print('d2 - d1', d2 - d1)\n",
        "print('(d2 - d1) / (a2 - a1)', (d2 - d1) / (a2 - a1))\n",
        "print('(d2 - d1) / h', (d2 - d1) / h)"
      ]
    },
    {
      "cell_type": "markdown",
      "metadata": {
        "id": "Z_NZ-dJvvFT4"
      },
      "source": [
        "## Starting at the core Value object of micrograd and its visualization"
      ]
    },
    {
      "cell_type": "markdown",
      "metadata": {
        "id": "pDlKaJ16vFT4"
      },
      "source": [
        "### Value class"
      ]
    },
    {
      "cell_type": "code",
      "execution_count": 10,
      "metadata": {
        "id": "AbdGcWybvFT4"
      },
      "outputs": [],
      "source": [
        "class Value:\n",
        "\n",
        "    def __init__(self, data, _label=None, _op=None, _children=()) -> None:\n",
        "        self.data = data\n",
        "        self.grad = 0.0\n",
        "        self._backward = lambda: None\n",
        "        self._label = _label\n",
        "        self._exp_label = None\n",
        "\n",
        "        if _op != None:\n",
        "            if len(_children) == 1:\n",
        "                if _children[0]._label == None:\n",
        "                    if _children[0]._exp_label != None:\n",
        "                        child_label = f\"{_children[0]._exp_label}\"\n",
        "                    else:\n",
        "                        child_label = f\"{_children[0].data}\"\n",
        "                else:\n",
        "                    child_label = _children[0]._label\n",
        "                self._exp_label = f\"{_op}({child_label})\"\n",
        "            elif len(_children) == 2:\n",
        "                if _children[0]._label == None:\n",
        "                    if _children[0]._exp_label != None:\n",
        "                        if len(_children[0]._prev) > 1:\n",
        "                            child_1_label = f\"({_children[0]._exp_label})\"\n",
        "                        else:\n",
        "                            child_1_label = f\"{_children[0]._exp_label}\"\n",
        "                    else:\n",
        "                        child_1_label = f\"{_children[0].data}\"\n",
        "                else:\n",
        "                    child_1_label = _children[0]._label\n",
        "                if _children[1]._label == None:\n",
        "                    if _children[1]._exp_label != None:\n",
        "                        child_2_label = f\"({_children[1]._exp_label})\"\n",
        "                    else:\n",
        "                        child_2_label = f\"{_children[1].data}\"\n",
        "                else:\n",
        "                    child_2_label = _children[1]._label\n",
        "                self._exp_label = f\"{child_1_label} {_op} {child_2_label}\"\n",
        "\n",
        "        self._prev = _children\n",
        "        self._op = _op\n",
        "\n",
        "    def label(self, _label):\n",
        "        self._label = _label\n",
        "        return self\n",
        "\n",
        "    def __repr__(self) -> str:\n",
        "        out = \"%.4f\" % self.data\n",
        "        if self._label != None:\n",
        "            out = f\"{self._label}={out}\"\n",
        "        if self._exp_label != None:\n",
        "            out = f\"{out} [{self._exp_label}]\"\n",
        "        return out\n",
        "\n",
        "    def __add__(self, other):\n",
        "        if not isinstance(other, Value):\n",
        "            other = Value(other).label(f\"{other}\")\n",
        "        out = Value(\n",
        "            data=self.data + other.data,\n",
        "            _op=\"+\",\n",
        "            _children=(self, other)\n",
        "        )\n",
        "\n",
        "        def _backward():\n",
        "            # d(self+other)/dself = 1\n",
        "            self.grad += out.grad\n",
        "            # d(self+other)/dother = 1\n",
        "            other.grad += out.grad\n",
        "        out._backward = _backward\n",
        "\n",
        "        return out\n",
        "\n",
        "    def __radd__(self, other):\n",
        "        return Value(other) + self\n",
        "\n",
        "    def __sub__(self, other):\n",
        "        if not isinstance(other, Value):\n",
        "            other = Value(other).label(f\"{other}\")\n",
        "        out = Value(\n",
        "            data=self.data - other.data,\n",
        "            _op=\"-\",\n",
        "            _children=(self, other)\n",
        "        )\n",
        "\n",
        "        def _backward():\n",
        "            # d(self-other)/dself = 1\n",
        "            self.grad += out.grad\n",
        "            # d(self-other)/dother = -1\n",
        "            other.grad -= out.grad\n",
        "        out._backward = _backward\n",
        "\n",
        "        return out\n",
        "\n",
        "    def __rsub__(self, other):\n",
        "        return Value(other) - self\n",
        "\n",
        "    def __mul__(self, other):\n",
        "        if not isinstance(other, Value):\n",
        "            other = Value(other).label(f\"{other}\")\n",
        "        out = Value(\n",
        "            data=self.data * other.data,\n",
        "            _op=\"*\",\n",
        "            _children=(self, other)\n",
        "        )\n",
        "\n",
        "        def _backward():\n",
        "            # d(self*other)/dself = other\n",
        "            self.grad += other.data * out.grad\n",
        "            # d(self*other)/dother = self\n",
        "            other.grad += self.data * out.grad\n",
        "        out._backward = _backward\n",
        "\n",
        "        return out\n",
        "\n",
        "    def __rmul__(self, other):\n",
        "        return Value(other) * self\n",
        "\n",
        "    def __truediv__(self, other):\n",
        "        if not isinstance(other, Value):\n",
        "            other = Value(other).label(f\"{other}\")\n",
        "        out = Value(\n",
        "            data=self.data / other.data,\n",
        "            _op=\"/\",\n",
        "            _children=(self, other)\n",
        "        )\n",
        "\n",
        "        def _backward():\n",
        "            # d(self/other)/dself = 1/other\n",
        "            self.grad += out.grad / other.data\n",
        "            # d(self/other)/dother = -self/other**2\n",
        "            other.grad -= (self.data * out.grad) / (other.data**2)\n",
        "        out._backward = _backward\n",
        "\n",
        "        return out\n",
        "\n",
        "    def __rtruediv__(self, other):\n",
        "        return Value(other) / self\n",
        "\n",
        "    def __pow__(self, other):\n",
        "        if not isinstance(other, Value):\n",
        "            other = Value(other).label(f\"{other}\")\n",
        "            out = Value(\n",
        "                data=self.data ** other.data,\n",
        "                _op=\"**\",\n",
        "                _children=(self, other)\n",
        "            )\n",
        "\n",
        "            def _backward():\n",
        "                # d(self**other)/dself = other * self**(other-1)\n",
        "                self.grad += other.data * (self.data ** (other.data - 1)) * out.grad\n",
        "                \n",
        "                if self.data > 0:\n",
        "                    # d(self**other)/dother = (self**other) * log(self)\n",
        "                    other.grad += (self.data ** other.data) * math.log(self.data) * out.grad\n",
        "                else:\n",
        "                    # Handle the case where self.data <= 0 appropriately, if necessary\n",
        "                    pass\n",
        "            out._backward = _backward\n",
        "\n",
        "        return out\n",
        "\n",
        "    def __rpow__(self, other):\n",
        "        return Value(other) ** self\n",
        "\n",
        "    def exp(self):\n",
        "        out = Value(\n",
        "            data=math.exp(self.data),\n",
        "            _op=\"exp\",\n",
        "            _children=(self,)\n",
        "        )\n",
        "\n",
        "        def _backward():\n",
        "            # d(exp(self))/dself = exp(self)\n",
        "            self.grad += out.data * out.grad\n",
        "\n",
        "        out._backward = _backward\n",
        "        return out\n",
        "\n",
        "    def tanh(self):\n",
        "        n = self\n",
        "        t = (((2*n).exp() - 1) / ((2*n).exp() + 1)).data\n",
        "        out = Value(\n",
        "            data=t,\n",
        "            _op=\"tanh\",\n",
        "            _children=(self,)\n",
        "        )\n",
        "\n",
        "        def _backward():\n",
        "            # d(tanh(self))/dself = 1 - tanh**2\n",
        "            self.grad = (1 - t**2) * out.grad\n",
        "        out._backward = _backward\n",
        "\n",
        "        return out\n",
        "\n",
        "    def __neg__(self):\n",
        "        out = Value(-self.data)\n",
        "        if self._label == None and self._exp_label != None and len(self._prev) > 1:\n",
        "            out._exp_label = f\"-({self._exp_label})\"\n",
        "        return out\n",
        "\n",
        "    def backward(self):\n",
        "        topo = []\n",
        "        visited = set()\n",
        "\n",
        "        def build_topo(v):\n",
        "            if v not in visited:\n",
        "                visited.add(v)\n",
        "                for child in v._prev:\n",
        "                    build_topo(child)\n",
        "                topo.append(v)\n",
        "        build_topo(self)\n",
        "\n",
        "        self.grad = 1.0\n",
        "        for node in reversed(topo):\n",
        "            node._backward()\n",
        "\n",
        "    def my_backward(self):\n",
        "        self._backward()\n",
        "        for child in self._prev:\n",
        "            child.my_backward()\n"
      ]
    },
    {
      "cell_type": "markdown",
      "metadata": {
        "id": "7JpbMzA1vFT5"
      },
      "source": [
        "### Defining the expression"
      ]
    },
    {
      "cell_type": "code",
      "execution_count": 11,
      "metadata": {
        "colab": {
          "base_uri": "https://localhost:8080/"
        },
        "id": "_4WMZNwZvFT5",
        "outputId": "c9d6b685-96f5-4488-f393-e27ef862b5dc"
      },
      "outputs": [
        {
          "name": "stdout",
          "output_type": "stream",
          "text": [
            "a=2.0000\n",
            "b=-3.0000\n",
            "c=10.0000\n",
            "e=-6.0000 [a * b]\n",
            "d=4.0000 [e + c]\n",
            "f=-2.0000\n",
            "L=-8.0000 [d * f]\n"
          ]
        }
      ],
      "source": [
        "a = Value(2.0).label(\"a\")\n",
        "b = Value(-3.0).label(\"b\")\n",
        "c = Value(10.0).label(\"c\")\n",
        "e = (a * b).label(\"e\")\n",
        "d = (e + c).label(\"d\")\n",
        "f = Value(-2.0).label(\"f\")\n",
        "L = (d * f).label(\"L\")\n",
        "print(a)\n",
        "print(b)\n",
        "print(c)\n",
        "print(e)\n",
        "print(d)\n",
        "print(f)\n",
        "print(L)"
      ]
    },
    {
      "cell_type": "markdown",
      "metadata": {
        "id": "sm2NJBJdvFT6"
      },
      "source": [
        "### Graph drawing function"
      ]
    },
    {
      "cell_type": "code",
      "execution_count": 12,
      "metadata": {
        "id": "LEG9dRaTvFT8"
      },
      "outputs": [],
      "source": [
        "from graphviz import Digraph\n",
        "\n",
        "\n",
        "def trace(root):\n",
        "    # build a set of all nodes and edges in the graph\n",
        "    nodes, edges = set(), set()\n",
        "\n",
        "    def build(v):\n",
        "        if v not in nodes:\n",
        "            nodes.add(v)\n",
        "            for child in v._prev:\n",
        "                edges.add((child, v))\n",
        "                build(child)\n",
        "    build(root)\n",
        "    return nodes, edges\n",
        "\n",
        "\n",
        "def draw_dot(root):\n",
        "    dot = Digraph(format='svg', graph_attr={\n",
        "                  'rankdir': 'LR'})  # LR = left to right\n",
        "\n",
        "    nodes, edges = trace(root)\n",
        "    for n in nodes:\n",
        "        uid = str(id(n))\n",
        "        # for any value in the graph, create a rectangular ('record') node for it\n",
        "        n_label = n._label if n._label != None else n._exp_label if n._exp_label != None else n.data\n",
        "        dot.node(name=uid, label=\"{ %s | data %.4f | grad %.4f }\" %\n",
        "                 (n_label, n.data, n.grad), shape='record')\n",
        "        if n._op:\n",
        "            # if this value is a result of some operation, create an op node for it\n",
        "            dot.node(name=uid + n._op, label=n._op)\n",
        "            # and connect this node to it\n",
        "            dot.edge(uid + n._op, uid)\n",
        "\n",
        "    for n1, n2 in edges:\n",
        "        # connect n1 to the op node of n2\n",
        "        dot.edge(str(id(n1)), str(id(n2)) + n2._op)\n",
        "\n",
        "    return dot\n"
      ]
    },
    {
      "cell_type": "markdown",
      "metadata": {
        "id": "blGqayjYvFT8"
      },
      "source": [
        "### Visualizing the graph of the expression"
      ]
    },
    {
      "cell_type": "code",
      "execution_count": 13,
      "metadata": {
        "colab": {
          "base_uri": "https://localhost:8080/",
          "height": 212
        },
        "id": "xUrI7xTgvFT9",
        "outputId": "f0cb30d7-fa67-4ad0-faf3-149adb50e40a"
      },
      "outputs": [
        {
          "data": {
            "image/svg+xml": "<?xml version=\"1.0\" encoding=\"UTF-8\" standalone=\"no\"?>\n<!DOCTYPE svg PUBLIC \"-//W3C//DTD SVG 1.1//EN\"\n \"http://www.w3.org/Graphics/SVG/1.1/DTD/svg11.dtd\">\n<!-- Generated by graphviz version 2.43.0 (0)\n -->\n<!-- Title: %3 Pages: 1 -->\n<svg width=\"1332pt\" height=\"156pt\"\n viewBox=\"0.00 0.00 1332.00 156.00\" xmlns=\"http://www.w3.org/2000/svg\" xmlns:xlink=\"http://www.w3.org/1999/xlink\">\n<g id=\"graph0\" class=\"graph\" transform=\"scale(1 1) rotate(0) translate(4 152)\">\n<title>%3</title>\n<polygon fill=\"white\" stroke=\"transparent\" points=\"-4,4 -4,-152 1328,-152 1328,4 -4,4\"/>\n<!-- 139650041134192 -->\n<g id=\"node1\" class=\"node\">\n<title>139650041134192</title>\n<polygon fill=\"none\" stroke=\"black\" points=\"0,-111.5 0,-147.5 237,-147.5 237,-111.5 0,-111.5\"/>\n<text text-anchor=\"middle\" x=\"13\" y=\"-125.8\" font-family=\"Times,serif\" font-size=\"14.00\">b</text>\n<polyline fill=\"none\" stroke=\"black\" points=\"26,-111.5 26,-147.5 \"/>\n<text text-anchor=\"middle\" x=\"79.5\" y=\"-125.8\" font-family=\"Times,serif\" font-size=\"14.00\">data &#45;3.0000</text>\n<polyline fill=\"none\" stroke=\"black\" points=\"133,-111.5 133,-147.5 \"/>\n<text text-anchor=\"middle\" x=\"185\" y=\"-125.8\" font-family=\"Times,serif\" font-size=\"14.00\">grad 0.0000</text>\n</g>\n<!-- 139650041129344* -->\n<g id=\"node8\" class=\"node\">\n<title>139650041129344*</title>\n<ellipse fill=\"none\" stroke=\"black\" cx=\"300\" cy=\"-101.5\" rx=\"27\" ry=\"18\"/>\n<text text-anchor=\"middle\" x=\"300\" y=\"-97.8\" font-family=\"Times,serif\" font-size=\"14.00\">*</text>\n</g>\n<!-- 139650041134192&#45;&gt;139650041129344* -->\n<g id=\"edge4\" class=\"edge\">\n<title>139650041134192&#45;&gt;139650041129344*</title>\n<path fill=\"none\" stroke=\"black\" d=\"M234.96,-111.49C245.12,-109.91 254.8,-108.4 263.41,-107.05\"/>\n<polygon fill=\"black\" stroke=\"black\" points=\"264.02,-110.5 273.36,-105.5 262.94,-103.58 264.02,-110.5\"/>\n</g>\n<!-- 139650041134816 -->\n<g id=\"node2\" class=\"node\">\n<title>139650041134816</title>\n<polygon fill=\"none\" stroke=\"black\" points=\"728.5,-55.5 728.5,-91.5 960.5,-91.5 960.5,-55.5 728.5,-55.5\"/>\n<text text-anchor=\"middle\" x=\"741.5\" y=\"-69.8\" font-family=\"Times,serif\" font-size=\"14.00\">d</text>\n<polyline fill=\"none\" stroke=\"black\" points=\"754.5,-55.5 754.5,-91.5 \"/>\n<text text-anchor=\"middle\" x=\"805.5\" y=\"-69.8\" font-family=\"Times,serif\" font-size=\"14.00\">data 4.0000</text>\n<polyline fill=\"none\" stroke=\"black\" points=\"856.5,-55.5 856.5,-91.5 \"/>\n<text text-anchor=\"middle\" x=\"908.5\" y=\"-69.8\" font-family=\"Times,serif\" font-size=\"14.00\">grad 0.0000</text>\n</g>\n<!-- 139650041135056* -->\n<g id=\"node10\" class=\"node\">\n<title>139650041135056*</title>\n<ellipse fill=\"none\" stroke=\"black\" cx=\"1024\" cy=\"-45.5\" rx=\"27\" ry=\"18\"/>\n<text text-anchor=\"middle\" x=\"1024\" y=\"-41.8\" font-family=\"Times,serif\" font-size=\"14.00\">*</text>\n</g>\n<!-- 139650041134816&#45;&gt;139650041135056* -->\n<g id=\"edge8\" class=\"edge\">\n<title>139650041134816&#45;&gt;139650041135056*</title>\n<path fill=\"none\" stroke=\"black\" d=\"M959.67,-55.49C969.61,-53.92 979.08,-52.43 987.53,-51.1\"/>\n<polygon fill=\"black\" stroke=\"black\" points=\"988.31,-54.52 997.64,-49.5 987.22,-47.6 988.31,-54.52\"/>\n</g>\n<!-- 139650041134816+ -->\n<g id=\"node3\" class=\"node\">\n<title>139650041134816+</title>\n<ellipse fill=\"none\" stroke=\"black\" cx=\"665\" cy=\"-73.5\" rx=\"27\" ry=\"18\"/>\n<text text-anchor=\"middle\" x=\"665\" y=\"-69.8\" font-family=\"Times,serif\" font-size=\"14.00\">+</text>\n</g>\n<!-- 139650041134816+&#45;&gt;139650041134816 -->\n<g id=\"edge1\" class=\"edge\">\n<title>139650041134816+&#45;&gt;139650041134816</title>\n<path fill=\"none\" stroke=\"black\" d=\"M692.19,-73.5C699.78,-73.5 708.61,-73.5 718.11,-73.5\"/>\n<polygon fill=\"black\" stroke=\"black\" points=\"718.24,-77 728.24,-73.5 718.24,-70 718.24,-77\"/>\n</g>\n<!-- 139650041126128 -->\n<g id=\"node4\" class=\"node\">\n<title>139650041126128</title>\n<polygon fill=\"none\" stroke=\"black\" points=\"3,-56.5 3,-92.5 234,-92.5 234,-56.5 3,-56.5\"/>\n<text text-anchor=\"middle\" x=\"15.5\" y=\"-70.8\" font-family=\"Times,serif\" font-size=\"14.00\">a</text>\n<polyline fill=\"none\" stroke=\"black\" points=\"28,-56.5 28,-92.5 \"/>\n<text text-anchor=\"middle\" x=\"79\" y=\"-70.8\" font-family=\"Times,serif\" font-size=\"14.00\">data 2.0000</text>\n<polyline fill=\"none\" stroke=\"black\" points=\"130,-56.5 130,-92.5 \"/>\n<text text-anchor=\"middle\" x=\"182\" y=\"-70.8\" font-family=\"Times,serif\" font-size=\"14.00\">grad 0.0000</text>\n</g>\n<!-- 139650041126128&#45;&gt;139650041129344* -->\n<g id=\"edge9\" class=\"edge\">\n<title>139650041126128&#45;&gt;139650041129344*</title>\n<path fill=\"none\" stroke=\"black\" d=\"M234.2,-91.75C244.55,-93.31 254.43,-94.8 263.21,-96.12\"/>\n<polygon fill=\"black\" stroke=\"black\" points=\"262.92,-99.61 273.33,-97.64 263.96,-92.69 262.92,-99.61\"/>\n</g>\n<!-- 139650041127232 -->\n<g id=\"node5\" class=\"node\">\n<title>139650041127232</title>\n<polygon fill=\"none\" stroke=\"black\" points=\"363,-28.5 363,-64.5 602,-64.5 602,-28.5 363,-28.5\"/>\n<text text-anchor=\"middle\" x=\"375\" y=\"-42.8\" font-family=\"Times,serif\" font-size=\"14.00\">c</text>\n<polyline fill=\"none\" stroke=\"black\" points=\"387,-28.5 387,-64.5 \"/>\n<text text-anchor=\"middle\" x=\"442.5\" y=\"-42.8\" font-family=\"Times,serif\" font-size=\"14.00\">data 10.0000</text>\n<polyline fill=\"none\" stroke=\"black\" points=\"498,-28.5 498,-64.5 \"/>\n<text text-anchor=\"middle\" x=\"550\" y=\"-42.8\" font-family=\"Times,serif\" font-size=\"14.00\">grad 0.0000</text>\n</g>\n<!-- 139650041127232&#45;&gt;139650041134816+ -->\n<g id=\"edge7\" class=\"edge\">\n<title>139650041127232&#45;&gt;139650041134816+</title>\n<path fill=\"none\" stroke=\"black\" d=\"M602.13,-64.25C611.53,-65.65 620.47,-66.99 628.48,-68.19\"/>\n<polygon fill=\"black\" stroke=\"black\" points=\"628.03,-71.66 638.44,-69.68 629.07,-64.74 628.03,-71.66\"/>\n</g>\n<!-- 139650041134912 -->\n<g id=\"node6\" class=\"node\">\n<title>139650041134912</title>\n<polygon fill=\"none\" stroke=\"black\" points=\"728,-0.5 728,-36.5 961,-36.5 961,-0.5 728,-0.5\"/>\n<text text-anchor=\"middle\" x=\"739\" y=\"-14.8\" font-family=\"Times,serif\" font-size=\"14.00\">f</text>\n<polyline fill=\"none\" stroke=\"black\" points=\"750,-0.5 750,-36.5 \"/>\n<text text-anchor=\"middle\" x=\"803.5\" y=\"-14.8\" font-family=\"Times,serif\" font-size=\"14.00\">data &#45;2.0000</text>\n<polyline fill=\"none\" stroke=\"black\" points=\"857,-0.5 857,-36.5 \"/>\n<text text-anchor=\"middle\" x=\"909\" y=\"-14.8\" font-family=\"Times,serif\" font-size=\"14.00\">grad 0.0000</text>\n</g>\n<!-- 139650041134912&#45;&gt;139650041135056* -->\n<g id=\"edge5\" class=\"edge\">\n<title>139650041134912&#45;&gt;139650041135056*</title>\n<path fill=\"none\" stroke=\"black\" d=\"M961.42,-36.13C970.75,-37.55 979.64,-38.9 987.61,-40.12\"/>\n<polygon fill=\"black\" stroke=\"black\" points=\"987.11,-43.58 997.52,-41.62 988.16,-36.66 987.11,-43.58\"/>\n</g>\n<!-- 139650041129344 -->\n<g id=\"node7\" class=\"node\">\n<title>139650041129344</title>\n<polygon fill=\"none\" stroke=\"black\" points=\"364.5,-83.5 364.5,-119.5 600.5,-119.5 600.5,-83.5 364.5,-83.5\"/>\n<text text-anchor=\"middle\" x=\"377\" y=\"-97.8\" font-family=\"Times,serif\" font-size=\"14.00\">e</text>\n<polyline fill=\"none\" stroke=\"black\" points=\"389.5,-83.5 389.5,-119.5 \"/>\n<text text-anchor=\"middle\" x=\"443\" y=\"-97.8\" font-family=\"Times,serif\" font-size=\"14.00\">data &#45;6.0000</text>\n<polyline fill=\"none\" stroke=\"black\" points=\"496.5,-83.5 496.5,-119.5 \"/>\n<text text-anchor=\"middle\" x=\"548.5\" y=\"-97.8\" font-family=\"Times,serif\" font-size=\"14.00\">grad 0.0000</text>\n</g>\n<!-- 139650041129344&#45;&gt;139650041134816+ -->\n<g id=\"edge6\" class=\"edge\">\n<title>139650041129344&#45;&gt;139650041134816+</title>\n<path fill=\"none\" stroke=\"black\" d=\"M599.6,-83.49C609.91,-81.89 619.74,-80.37 628.46,-79.01\"/>\n<polygon fill=\"black\" stroke=\"black\" points=\"629.18,-82.44 638.52,-77.45 628.1,-75.53 629.18,-82.44\"/>\n</g>\n<!-- 139650041129344*&#45;&gt;139650041129344 -->\n<g id=\"edge2\" class=\"edge\">\n<title>139650041129344*&#45;&gt;139650041129344</title>\n<path fill=\"none\" stroke=\"black\" d=\"M327.25,-101.5C335.09,-101.5 344.27,-101.5 354.17,-101.5\"/>\n<polygon fill=\"black\" stroke=\"black\" points=\"354.28,-105 364.28,-101.5 354.28,-98 354.28,-105\"/>\n</g>\n<!-- 139650041135056 -->\n<g id=\"node9\" class=\"node\">\n<title>139650041135056</title>\n<polygon fill=\"none\" stroke=\"black\" points=\"1087,-27.5 1087,-63.5 1324,-63.5 1324,-27.5 1087,-27.5\"/>\n<text text-anchor=\"middle\" x=\"1100\" y=\"-41.8\" font-family=\"Times,serif\" font-size=\"14.00\">L</text>\n<polyline fill=\"none\" stroke=\"black\" points=\"1113,-27.5 1113,-63.5 \"/>\n<text text-anchor=\"middle\" x=\"1166.5\" y=\"-41.8\" font-family=\"Times,serif\" font-size=\"14.00\">data &#45;8.0000</text>\n<polyline fill=\"none\" stroke=\"black\" points=\"1220,-27.5 1220,-63.5 \"/>\n<text text-anchor=\"middle\" x=\"1272\" y=\"-41.8\" font-family=\"Times,serif\" font-size=\"14.00\">grad 0.0000</text>\n</g>\n<!-- 139650041135056*&#45;&gt;139650041135056 -->\n<g id=\"edge3\" class=\"edge\">\n<title>139650041135056*&#45;&gt;139650041135056</title>\n<path fill=\"none\" stroke=\"black\" d=\"M1051.1,-45.5C1058.61,-45.5 1067.33,-45.5 1076.75,-45.5\"/>\n<polygon fill=\"black\" stroke=\"black\" points=\"1076.78,-49 1086.78,-45.5 1076.78,-42 1076.78,-49\"/>\n</g>\n</g>\n</svg>\n",
            "text/plain": [
              "<graphviz.graphs.Digraph at 0x7f02cf181fc0>"
            ]
          },
          "execution_count": 13,
          "metadata": {},
          "output_type": "execute_result"
        }
      ],
      "source": [
        "draw_dot(L)"
      ]
    },
    {
      "cell_type": "markdown",
      "metadata": {
        "id": "XM4wsT2yvFT9"
      },
      "source": [
        "## Manual backpropagation example #1: simple expression"
      ]
    },
    {
      "cell_type": "markdown",
      "metadata": {
        "id": "PL42zKnyvFT-"
      },
      "source": [
        "### Gating function. Calculating the gradient values.\n",
        "Reason: To avoid the polution of the global scope. All the variables are locally defined in the function."
      ]
    },
    {
      "cell_type": "code",
      "execution_count": 14,
      "metadata": {
        "colab": {
          "base_uri": "https://localhost:8080/"
        },
        "id": "76rpL28gvFT-",
        "outputId": "272995ef-067b-4300-d137-727f292ec6b3"
      },
      "outputs": [
        {
          "name": "stdout",
          "output_type": "stream",
          "text": [
            "dL/dL = 1.0000 [(L_L - L) / 0.001]\n",
            "dL/da = 6.0000 [(L_a - L) / 0.001]\n",
            "dL/db = -4.0000 [(L_b - L) / 0.001]\n",
            "dL/dc = -2.0000 [(L_c - L) / 0.001]\n",
            "dL/de = -2.0000 [(L_e - L) / 0.001]\n",
            "dL/dd = -2.0000 [(L_d - L) / 0.001]\n",
            "dL/df = 4.0000 [(L_f - L) / 0.001]\n"
          ]
        }
      ],
      "source": [
        "def lol():\n",
        "    h = 0.001\n",
        "    a = Value(2.0).label(\"a\")\n",
        "    b = Value(-3.0).label(\"b\")\n",
        "    c = Value(10.0).label(\"c\")\n",
        "    e = (a * b).label('e')\n",
        "    d = (e + c).label('d')\n",
        "    f = Value(-2.0).label(\"f\")\n",
        "    L = (d * f).label('L')\n",
        "\n",
        "    ###############\n",
        "    # dL/dL = 1.0 #\n",
        "    ###############\n",
        "    a = Value(2.0).label(\"a\")\n",
        "    b = Value(-3.0).label(\"b\")\n",
        "    c = Value(10.0).label(\"c\")\n",
        "    e = (a * b).label('e')\n",
        "    d = (e + c).label('d')\n",
        "    f = Value(-2.0).label(\"f\")\n",
        "    L_L = (d * f + h).label(\"L_L\")\n",
        "\n",
        "    # 1. dL/dL = 1.0\n",
        "    # 2. L(d, f) = d * f\n",
        "    # 3. L(d, f) + h = d * f + h\n",
        "    # 4. L'_L(d, f) = (L(d, f) + h - L(d, f)) / h\n",
        "    # 5. L'_L(d, f) = (d * f + h - d * f) / h\n",
        "    # 6. L'_L(d, f) = h / h = 1\n",
        "    print(f\"dL/dL = {(L_L - L) / h}\")\n",
        "\n",
        "    ###############\n",
        "    # dL/da = 6.0 #\n",
        "    ###############\n",
        "    a = Value(2.0 + h).label(\"a\")\n",
        "    b = Value(-3.0).label(\"b\")\n",
        "    c = Value(10.0).label(\"c\")\n",
        "    e = (a * b).label('e')\n",
        "    d = (e + c).label('d')\n",
        "    f = Value(-2.0).label(\"f\")\n",
        "    L_a = (d * f).label('L_a')\n",
        "\n",
        "    # 1. dL/da = b * f = -3.0 * -2.0 = 6.0\n",
        "    # 2. L(d, f) = d * f\n",
        "    # 3. L(e, c, f) = (e + c) * f\n",
        "    # 4. L(a, b, c, f) = (a * b + c) * f\n",
        "    # 5. L(a + h, b, c, f) = ((a + h) * b + c) * f\n",
        "    # 6. L'_a(a, b, c, f) = (L(a + h, b, c, f) - L(a, b, c, f)) / h\n",
        "    # 7. L'_a(a, b, c, f) = (((a + h) * b + c) * f - (a * b + c) * f) / h\n",
        "    # 8. L'_a(a, b, c, f) = ((a * b + h * b + c) * f - (a * b + c) * f) / h\n",
        "    # 9. L'_a(a, b, c, f) = ((a * b * f) + h * b * f + (c * f) - (a * b * f) - (c * f)) / h\n",
        "    # A. L'_a(a, b, c, f) = (h * b * f) / h = b * f\n",
        "    print(f\"dL/da = {(L_a - L) / h}\")\n",
        "\n",
        "    ################\n",
        "    # dL/db = -4.0 #\n",
        "    ################\n",
        "    a = Value(2.0).label(\"a\")\n",
        "    b = Value(-3.0 + h).label(\"b\")\n",
        "    c = Value(10.0).label(\"c\")\n",
        "    e = (a * b).label('e')\n",
        "    d = (e + c).label('d')\n",
        "    f = Value(-2.0).label(\"f\")\n",
        "    L_b = (d * f).label('L_b')\n",
        "\n",
        "    # 1. dL/db = a * f = 2.0 * -2.0 = -4.0\n",
        "    # 2. L(d, f) = d * f\n",
        "    # 3. L(e, c, f) = (e + c) * f\n",
        "    # 4. L(a, b, c, f) = (a * b + c) * f\n",
        "    # 5. L(a, b + h, c, f) = (a * (b + h) + c) * f\n",
        "    # 6. L'_b(a, b, c, f) = (L(a, b + h, c, f) - L(a, b, c, f)) / h\n",
        "    # 7. L'_b(a, b, c, f) = ((a * (b + h) + c) * f - (a * b + c) * f) / h\n",
        "    # 8. L'_b(a, b, c, f) = ((a * b + a * h + c) * f - (a * b * f + c * f)) / h\n",
        "    # 9. L'_b(a, b, c, f) = ((a * b * f) + a * h * f + (c * f) - (a * b * f) - (c * f)) / h\n",
        "    # 9. L'_b(a, b, c, f) = (a * h * f) / h = a * f\n",
        "    print(f\"dL/db = {(L_b - L) / h}\")\n",
        "\n",
        "    ################\n",
        "    # dL/dc = -2.0 #\n",
        "    ################\n",
        "    a = Value(2.0).label(\"a\")\n",
        "    b = Value(-3.0).label(\"b\")\n",
        "    c = Value(10.0 + h).label(\"c\")\n",
        "    e = (a * b).label('e')\n",
        "    d = (e + c).label('d')\n",
        "    f = Value(-2.0).label(\"f\")\n",
        "    L_c = (d * f).label('L_c')\n",
        "\n",
        "    # 1. dL/dc = f = -2.0\n",
        "    # 2. L(d, f) = d * f\n",
        "    # 3. L(e, c, f) = (e + c) * f\n",
        "    # 4. L(e, c + h, f) = (e + c + h) * f\n",
        "    # 5. L'_c(e, c, f) = (L(e, c + h, f) - L(e, c, f)) / h\n",
        "    # 6. L'_c(e, c, f) = ((e + c + h) * f - (e + c) * f) / h\n",
        "    # 7. L'_c(e, c, f) = ((e * f) + (c * f) + h * f - (e * f) - (c * f)) / h\n",
        "    # 8. L'_c(e, c, f) = (h * f) / h = f\n",
        "    print(f\"dL/dc = {(L_c - L) / h}\")\n",
        "\n",
        "    ################\n",
        "    # dL/de = -2.0 #\n",
        "    ################\n",
        "    a = Value(2.0).label(\"a\")\n",
        "    b = Value(-3.0).label(\"b\")\n",
        "    c = Value(10.0).label(\"c\")\n",
        "    e = (a * b + h).label('e')\n",
        "    d = (e + c).label('d')\n",
        "    f = Value(-2.0).label(\"f\")\n",
        "    L_e = (d * f).label(\"L_e\")\n",
        "\n",
        "    # 1. dL/de = f = -2.0\n",
        "    # 2. L(d, f) = d * f\n",
        "    # 3. L(e, c, f) = (e + c) * f\n",
        "    # 4. L(e + h, c, f) = (e + h + c) * f\n",
        "    # 5. L'_e(e, c, f) = (L(e + h, c, f) - L(e, c, f)) / h\n",
        "    # 6. L'_e(e, c, f) = ((e + h + c) * f - (e + c) * f) / h\n",
        "    # 7. L'_e(e, c, f) = (h * f) / h = f\n",
        "    print(f\"dL/de = {(L_e - L) / h}\")\n",
        "\n",
        "    ################\n",
        "    # dL/dd = -2.0 #\n",
        "    ################\n",
        "    a = Value(2.0).label(\"a\")\n",
        "    b = Value(-3.0).label(\"b\")\n",
        "    c = Value(10.0).label(\"c\")\n",
        "    e = (a * b).label('e')\n",
        "    d = (e + c + h).label('d')\n",
        "    f = Value(-2.0).label(\"f\")\n",
        "    L_d = (d * f).label(\"L_d\")\n",
        "\n",
        "    # 1. dL/dd = f = -2.0\n",
        "    # 2. L(d, f) = d * f\n",
        "    # 3. L(d + h, f) = (d + h) * f\n",
        "    # 4. L'_d(d, f) = (L(d + h, f) - L(d, f)) / h\n",
        "    # 5. L'_d(d, f) = ((d + h) * f - d * f) / h\n",
        "    # 6. L'_d(d, f) = (d * f + f * h - d * f) / h\n",
        "    # 7. L'_d(d, f) = (f * h) / h = f\n",
        "    print(f\"dL/dd = {(L_d - L) / h}\")\n",
        "\n",
        "    ###############\n",
        "    # dL/df = 4.0 #\n",
        "    ###############\n",
        "    a = Value(2.0).label(\"a\")\n",
        "    b = Value(-3.0).label(\"b\")\n",
        "    c = Value(10.0).label(\"c\")\n",
        "    e = (a * b).label('e')\n",
        "    d = (e + c).label('d')\n",
        "    f = Value(-2.0 + h).label(\"f\")\n",
        "    L_f = (d * f).label(\"L_f\")\n",
        "\n",
        "    # 1. dL/df = d = e + c = a * b + c = (2 * -3) + 10 = -6 + 10 = 4.0\n",
        "    # 2. L(d, f) = d * f\n",
        "    # 3. L(d, f + h) = (d + h) * f\n",
        "    # 4. L'_f(d, f) = (L(d, f + h) - L(d, f)) / h\n",
        "    # 5. L'_f(d, f) = (d * (f + h) - d * f) / h\n",
        "    # 6. L'_f(d, f) = (d * f + d * h - d * f) / h\n",
        "    # 7. L'_f(d, f) = (d * h) / h = d\n",
        "    print(f\"dL/df = {(L_f - L) / h}\")\n",
        "\n",
        "\n",
        "lol()\n"
      ]
    },
    {
      "attachments": {},
      "cell_type": "markdown",
      "metadata": {},
      "source": [
        "### Setting the calculated gradient values"
      ]
    },
    {
      "cell_type": "code",
      "execution_count": 15,
      "metadata": {},
      "outputs": [
        {
          "data": {
            "image/svg+xml": "<?xml version=\"1.0\" encoding=\"UTF-8\" standalone=\"no\"?>\n<!DOCTYPE svg PUBLIC \"-//W3C//DTD SVG 1.1//EN\"\n \"http://www.w3.org/Graphics/SVG/1.1/DTD/svg11.dtd\">\n<!-- Generated by graphviz version 2.43.0 (0)\n -->\n<!-- Title: %3 Pages: 1 -->\n<svg width=\"1343pt\" height=\"156pt\"\n viewBox=\"0.00 0.00 1343.00 156.00\" xmlns=\"http://www.w3.org/2000/svg\" xmlns:xlink=\"http://www.w3.org/1999/xlink\">\n<g id=\"graph0\" class=\"graph\" transform=\"scale(1 1) rotate(0) translate(4 152)\">\n<title>%3</title>\n<polygon fill=\"white\" stroke=\"transparent\" points=\"-4,4 -4,-152 1339,-152 1339,4 -4,4\"/>\n<!-- 139650041134192 -->\n<g id=\"node1\" class=\"node\">\n<title>139650041134192</title>\n<polygon fill=\"none\" stroke=\"black\" points=\"0,-111.5 0,-147.5 241,-147.5 241,-111.5 0,-111.5\"/>\n<text text-anchor=\"middle\" x=\"13\" y=\"-125.8\" font-family=\"Times,serif\" font-size=\"14.00\">b</text>\n<polyline fill=\"none\" stroke=\"black\" points=\"26,-111.5 26,-147.5 \"/>\n<text text-anchor=\"middle\" x=\"79.5\" y=\"-125.8\" font-family=\"Times,serif\" font-size=\"14.00\">data &#45;3.0000</text>\n<polyline fill=\"none\" stroke=\"black\" points=\"133,-111.5 133,-147.5 \"/>\n<text text-anchor=\"middle\" x=\"187\" y=\"-125.8\" font-family=\"Times,serif\" font-size=\"14.00\">grad &#45;4.0000</text>\n</g>\n<!-- 139650041129344* -->\n<g id=\"node8\" class=\"node\">\n<title>139650041129344*</title>\n<ellipse fill=\"none\" stroke=\"black\" cx=\"304\" cy=\"-101.5\" rx=\"27\" ry=\"18\"/>\n<text text-anchor=\"middle\" x=\"304\" y=\"-97.8\" font-family=\"Times,serif\" font-size=\"14.00\">*</text>\n</g>\n<!-- 139650041134192&#45;&gt;139650041129344* -->\n<g id=\"edge4\" class=\"edge\">\n<title>139650041134192&#45;&gt;139650041129344*</title>\n<path fill=\"none\" stroke=\"black\" d=\"M238.24,-111.49C248.61,-109.89 258.49,-108.37 267.27,-107.01\"/>\n<polygon fill=\"black\" stroke=\"black\" points=\"268.03,-110.44 277.38,-105.45 266.97,-103.52 268.03,-110.44\"/>\n</g>\n<!-- 139650041134816 -->\n<g id=\"node2\" class=\"node\">\n<title>139650041134816</title>\n<polygon fill=\"none\" stroke=\"black\" points=\"736,-55.5 736,-91.5 972,-91.5 972,-55.5 736,-55.5\"/>\n<text text-anchor=\"middle\" x=\"749\" y=\"-69.8\" font-family=\"Times,serif\" font-size=\"14.00\">d</text>\n<polyline fill=\"none\" stroke=\"black\" points=\"762,-55.5 762,-91.5 \"/>\n<text text-anchor=\"middle\" x=\"813\" y=\"-69.8\" font-family=\"Times,serif\" font-size=\"14.00\">data 4.0000</text>\n<polyline fill=\"none\" stroke=\"black\" points=\"864,-55.5 864,-91.5 \"/>\n<text text-anchor=\"middle\" x=\"918\" y=\"-69.8\" font-family=\"Times,serif\" font-size=\"14.00\">grad &#45;2.0000</text>\n</g>\n<!-- 139650041135056* -->\n<g id=\"node10\" class=\"node\">\n<title>139650041135056*</title>\n<ellipse fill=\"none\" stroke=\"black\" cx=\"1035\" cy=\"-45.5\" rx=\"27\" ry=\"18\"/>\n<text text-anchor=\"middle\" x=\"1035\" y=\"-41.8\" font-family=\"Times,serif\" font-size=\"14.00\">*</text>\n</g>\n<!-- 139650041134816&#45;&gt;139650041135056* -->\n<g id=\"edge8\" class=\"edge\">\n<title>139650041134816&#45;&gt;139650041135056*</title>\n<path fill=\"none\" stroke=\"black\" d=\"M970.13,-55.49C980.27,-53.91 989.92,-52.4 998.51,-51.05\"/>\n<polygon fill=\"black\" stroke=\"black\" points=\"999.09,-54.5 1008.43,-49.5 998.01,-47.59 999.09,-54.5\"/>\n</g>\n<!-- 139650041134816+ -->\n<g id=\"node3\" class=\"node\">\n<title>139650041134816+</title>\n<ellipse fill=\"none\" stroke=\"black\" cx=\"673\" cy=\"-73.5\" rx=\"27\" ry=\"18\"/>\n<text text-anchor=\"middle\" x=\"673\" y=\"-69.8\" font-family=\"Times,serif\" font-size=\"14.00\">+</text>\n</g>\n<!-- 139650041134816+&#45;&gt;139650041134816 -->\n<g id=\"edge1\" class=\"edge\">\n<title>139650041134816+&#45;&gt;139650041134816</title>\n<path fill=\"none\" stroke=\"black\" d=\"M700.03,-73.5C707.58,-73.5 716.38,-73.5 725.87,-73.5\"/>\n<polygon fill=\"black\" stroke=\"black\" points=\"725.99,-77 735.99,-73.5 725.99,-70 725.99,-77\"/>\n</g>\n<!-- 139650041126128 -->\n<g id=\"node4\" class=\"node\">\n<title>139650041126128</title>\n<polygon fill=\"none\" stroke=\"black\" points=\"5,-56.5 5,-92.5 236,-92.5 236,-56.5 5,-56.5\"/>\n<text text-anchor=\"middle\" x=\"17.5\" y=\"-70.8\" font-family=\"Times,serif\" font-size=\"14.00\">a</text>\n<polyline fill=\"none\" stroke=\"black\" points=\"30,-56.5 30,-92.5 \"/>\n<text text-anchor=\"middle\" x=\"81\" y=\"-70.8\" font-family=\"Times,serif\" font-size=\"14.00\">data 2.0000</text>\n<polyline fill=\"none\" stroke=\"black\" points=\"132,-56.5 132,-92.5 \"/>\n<text text-anchor=\"middle\" x=\"184\" y=\"-70.8\" font-family=\"Times,serif\" font-size=\"14.00\">grad 6.0000</text>\n</g>\n<!-- 139650041126128&#45;&gt;139650041129344* -->\n<g id=\"edge9\" class=\"edge\">\n<title>139650041126128&#45;&gt;139650041129344*</title>\n<path fill=\"none\" stroke=\"black\" d=\"M236.19,-91.56C247.37,-93.22 258.02,-94.81 267.41,-96.21\"/>\n<polygon fill=\"black\" stroke=\"black\" points=\"267.02,-99.69 277.43,-97.7 268.05,-92.76 267.02,-99.69\"/>\n</g>\n<!-- 139650041127232 -->\n<g id=\"node5\" class=\"node\">\n<title>139650041127232</title>\n<polygon fill=\"none\" stroke=\"black\" points=\"367,-28.5 367,-64.5 610,-64.5 610,-28.5 367,-28.5\"/>\n<text text-anchor=\"middle\" x=\"379\" y=\"-42.8\" font-family=\"Times,serif\" font-size=\"14.00\">c</text>\n<polyline fill=\"none\" stroke=\"black\" points=\"391,-28.5 391,-64.5 \"/>\n<text text-anchor=\"middle\" x=\"446.5\" y=\"-42.8\" font-family=\"Times,serif\" font-size=\"14.00\">data 10.0000</text>\n<polyline fill=\"none\" stroke=\"black\" points=\"502,-28.5 502,-64.5 \"/>\n<text text-anchor=\"middle\" x=\"556\" y=\"-42.8\" font-family=\"Times,serif\" font-size=\"14.00\">grad &#45;2.0000</text>\n</g>\n<!-- 139650041127232&#45;&gt;139650041134816+ -->\n<g id=\"edge7\" class=\"edge\">\n<title>139650041127232&#45;&gt;139650041134816+</title>\n<path fill=\"none\" stroke=\"black\" d=\"M610.21,-64.36C619.62,-65.75 628.55,-67.07 636.56,-68.26\"/>\n<polygon fill=\"black\" stroke=\"black\" points=\"636.1,-71.73 646.5,-69.73 637.12,-64.8 636.1,-71.73\"/>\n</g>\n<!-- 139650041134912 -->\n<g id=\"node6\" class=\"node\">\n<title>139650041134912</title>\n<polygon fill=\"none\" stroke=\"black\" points=\"737.5,-0.5 737.5,-36.5 970.5,-36.5 970.5,-0.5 737.5,-0.5\"/>\n<text text-anchor=\"middle\" x=\"748.5\" y=\"-14.8\" font-family=\"Times,serif\" font-size=\"14.00\">f</text>\n<polyline fill=\"none\" stroke=\"black\" points=\"759.5,-0.5 759.5,-36.5 \"/>\n<text text-anchor=\"middle\" x=\"813\" y=\"-14.8\" font-family=\"Times,serif\" font-size=\"14.00\">data &#45;2.0000</text>\n<polyline fill=\"none\" stroke=\"black\" points=\"866.5,-0.5 866.5,-36.5 \"/>\n<text text-anchor=\"middle\" x=\"918.5\" y=\"-14.8\" font-family=\"Times,serif\" font-size=\"14.00\">grad 4.0000</text>\n</g>\n<!-- 139650041134912&#45;&gt;139650041135056* -->\n<g id=\"edge5\" class=\"edge\">\n<title>139650041134912&#45;&gt;139650041135056*</title>\n<path fill=\"none\" stroke=\"black\" d=\"M970.64,-35.94C980.5,-37.43 989.9,-38.85 998.29,-40.11\"/>\n<polygon fill=\"black\" stroke=\"black\" points=\"997.94,-43.6 1008.35,-41.63 998.98,-36.68 997.94,-43.6\"/>\n</g>\n<!-- 139650041129344 -->\n<g id=\"node7\" class=\"node\">\n<title>139650041129344</title>\n<polygon fill=\"none\" stroke=\"black\" points=\"368.5,-83.5 368.5,-119.5 608.5,-119.5 608.5,-83.5 368.5,-83.5\"/>\n<text text-anchor=\"middle\" x=\"381\" y=\"-97.8\" font-family=\"Times,serif\" font-size=\"14.00\">e</text>\n<polyline fill=\"none\" stroke=\"black\" points=\"393.5,-83.5 393.5,-119.5 \"/>\n<text text-anchor=\"middle\" x=\"447\" y=\"-97.8\" font-family=\"Times,serif\" font-size=\"14.00\">data &#45;6.0000</text>\n<polyline fill=\"none\" stroke=\"black\" points=\"500.5,-83.5 500.5,-119.5 \"/>\n<text text-anchor=\"middle\" x=\"554.5\" y=\"-97.8\" font-family=\"Times,serif\" font-size=\"14.00\">grad &#45;2.0000</text>\n</g>\n<!-- 139650041129344&#45;&gt;139650041134816+ -->\n<g id=\"edge6\" class=\"edge\">\n<title>139650041129344&#45;&gt;139650041134816+</title>\n<path fill=\"none\" stroke=\"black\" d=\"M606.89,-83.49C617.53,-81.86 627.65,-80.3 636.61,-78.93\"/>\n<polygon fill=\"black\" stroke=\"black\" points=\"637.2,-82.38 646.55,-77.4 636.14,-75.46 637.2,-82.38\"/>\n</g>\n<!-- 139650041129344*&#45;&gt;139650041129344 -->\n<g id=\"edge2\" class=\"edge\">\n<title>139650041129344*&#45;&gt;139650041129344</title>\n<path fill=\"none\" stroke=\"black\" d=\"M331.15,-101.5C338.98,-101.5 348.16,-101.5 358.06,-101.5\"/>\n<polygon fill=\"black\" stroke=\"black\" points=\"358.19,-105 368.19,-101.5 358.19,-98 358.19,-105\"/>\n</g>\n<!-- 139650041135056 -->\n<g id=\"node9\" class=\"node\">\n<title>139650041135056</title>\n<polygon fill=\"none\" stroke=\"black\" points=\"1098,-27.5 1098,-63.5 1335,-63.5 1335,-27.5 1098,-27.5\"/>\n<text text-anchor=\"middle\" x=\"1111\" y=\"-41.8\" font-family=\"Times,serif\" font-size=\"14.00\">L</text>\n<polyline fill=\"none\" stroke=\"black\" points=\"1124,-27.5 1124,-63.5 \"/>\n<text text-anchor=\"middle\" x=\"1177.5\" y=\"-41.8\" font-family=\"Times,serif\" font-size=\"14.00\">data &#45;8.0000</text>\n<polyline fill=\"none\" stroke=\"black\" points=\"1231,-27.5 1231,-63.5 \"/>\n<text text-anchor=\"middle\" x=\"1283\" y=\"-41.8\" font-family=\"Times,serif\" font-size=\"14.00\">grad 1.0000</text>\n</g>\n<!-- 139650041135056*&#45;&gt;139650041135056 -->\n<g id=\"edge3\" class=\"edge\">\n<title>139650041135056*&#45;&gt;139650041135056</title>\n<path fill=\"none\" stroke=\"black\" d=\"M1062.1,-45.5C1069.61,-45.5 1078.33,-45.5 1087.75,-45.5\"/>\n<polygon fill=\"black\" stroke=\"black\" points=\"1087.78,-49 1097.78,-45.5 1087.78,-42 1087.78,-49\"/>\n</g>\n</g>\n</svg>\n",
            "text/plain": [
              "<graphviz.graphs.Digraph at 0x7f02cf1137f0>"
            ]
          },
          "execution_count": 15,
          "metadata": {},
          "output_type": "execute_result"
        }
      ],
      "source": [
        "L.grad = 1.0\n",
        "a.grad = 6.0\n",
        "b.grad = -4.0\n",
        "c.grad = -2.0\n",
        "e.grad = -2.0\n",
        "d.grad = -2.0\n",
        "f.grad = 4.0\n",
        "\n",
        "draw_dot(L)"
      ]
    },
    {
      "attachments": {},
      "cell_type": "markdown",
      "metadata": {},
      "source": [
        "### Preview of a single optimization step"
      ]
    },
    {
      "cell_type": "code",
      "execution_count": 16,
      "metadata": {},
      "outputs": [
        {
          "name": "stdout",
          "output_type": "stream",
          "text": [
            "-7.2865\n"
          ]
        },
        {
          "data": {
            "image/svg+xml": "<?xml version=\"1.0\" encoding=\"UTF-8\" standalone=\"no\"?>\n<!DOCTYPE svg PUBLIC \"-//W3C//DTD SVG 1.1//EN\"\n \"http://www.w3.org/Graphics/SVG/1.1/DTD/svg11.dtd\">\n<!-- Generated by graphviz version 2.43.0 (0)\n -->\n<!-- Title: %3 Pages: 1 -->\n<svg width=\"1514pt\" height=\"156pt\"\n viewBox=\"0.00 0.00 1514.00 156.00\" xmlns=\"http://www.w3.org/2000/svg\" xmlns:xlink=\"http://www.w3.org/1999/xlink\">\n<g id=\"graph0\" class=\"graph\" transform=\"scale(1 1) rotate(0) translate(4 152)\">\n<title>%3</title>\n<polygon fill=\"white\" stroke=\"transparent\" points=\"-4,4 -4,-152 1510,-152 1510,4 -4,4\"/>\n<!-- 139650041134192 -->\n<g id=\"node1\" class=\"node\">\n<title>139650041134192</title>\n<polygon fill=\"none\" stroke=\"black\" points=\"0,-111.5 0,-147.5 241,-147.5 241,-111.5 0,-111.5\"/>\n<text text-anchor=\"middle\" x=\"13\" y=\"-125.8\" font-family=\"Times,serif\" font-size=\"14.00\">b</text>\n<polyline fill=\"none\" stroke=\"black\" points=\"26,-111.5 26,-147.5 \"/>\n<text text-anchor=\"middle\" x=\"79.5\" y=\"-125.8\" font-family=\"Times,serif\" font-size=\"14.00\">data &#45;3.0400</text>\n<polyline fill=\"none\" stroke=\"black\" points=\"133,-111.5 133,-147.5 \"/>\n<text text-anchor=\"middle\" x=\"187\" y=\"-125.8\" font-family=\"Times,serif\" font-size=\"14.00\">grad &#45;4.0000</text>\n</g>\n<!-- 139650041304000* -->\n<g id=\"node8\" class=\"node\">\n<title>139650041304000*</title>\n<ellipse fill=\"none\" stroke=\"black\" cx=\"304\" cy=\"-101.5\" rx=\"27\" ry=\"18\"/>\n<text text-anchor=\"middle\" x=\"304\" y=\"-97.8\" font-family=\"Times,serif\" font-size=\"14.00\">*</text>\n</g>\n<!-- 139650041134192&#45;&gt;139650041304000* -->\n<g id=\"edge5\" class=\"edge\">\n<title>139650041134192&#45;&gt;139650041304000*</title>\n<path fill=\"none\" stroke=\"black\" d=\"M238.24,-111.49C248.61,-109.89 258.49,-108.37 267.27,-107.01\"/>\n<polygon fill=\"black\" stroke=\"black\" points=\"268.03,-110.44 277.38,-105.45 266.97,-103.52 268.03,-110.44\"/>\n</g>\n<!-- 139650041307840 -->\n<g id=\"node2\" class=\"node\">\n<title>139650041307840</title>\n<polygon fill=\"none\" stroke=\"black\" points=\"1175,-27.5 1175,-63.5 1506,-63.5 1506,-27.5 1175,-27.5\"/>\n<text text-anchor=\"middle\" x=\"1235\" y=\"-41.8\" font-family=\"Times,serif\" font-size=\"14.00\">((a * b) + c) * f</text>\n<polyline fill=\"none\" stroke=\"black\" points=\"1295,-27.5 1295,-63.5 \"/>\n<text text-anchor=\"middle\" x=\"1348.5\" y=\"-41.8\" font-family=\"Times,serif\" font-size=\"14.00\">data &#45;7.2865</text>\n<polyline fill=\"none\" stroke=\"black\" points=\"1402,-27.5 1402,-63.5 \"/>\n<text text-anchor=\"middle\" x=\"1454\" y=\"-41.8\" font-family=\"Times,serif\" font-size=\"14.00\">grad 0.0000</text>\n</g>\n<!-- 139650041307840* -->\n<g id=\"node3\" class=\"node\">\n<title>139650041307840*</title>\n<ellipse fill=\"none\" stroke=\"black\" cx=\"1112\" cy=\"-45.5\" rx=\"27\" ry=\"18\"/>\n<text text-anchor=\"middle\" x=\"1112\" y=\"-41.8\" font-family=\"Times,serif\" font-size=\"14.00\">*</text>\n</g>\n<!-- 139650041307840*&#45;&gt;139650041307840 -->\n<g id=\"edge1\" class=\"edge\">\n<title>139650041307840*&#45;&gt;139650041307840</title>\n<path fill=\"none\" stroke=\"black\" d=\"M1139.43,-45.5C1146.79,-45.5 1155.37,-45.5 1164.77,-45.5\"/>\n<polygon fill=\"black\" stroke=\"black\" points=\"1164.83,-49 1174.83,-45.5 1164.83,-42 1164.83,-49\"/>\n</g>\n<!-- 139650041126128 -->\n<g id=\"node4\" class=\"node\">\n<title>139650041126128</title>\n<polygon fill=\"none\" stroke=\"black\" points=\"5,-56.5 5,-92.5 236,-92.5 236,-56.5 5,-56.5\"/>\n<text text-anchor=\"middle\" x=\"17.5\" y=\"-70.8\" font-family=\"Times,serif\" font-size=\"14.00\">a</text>\n<polyline fill=\"none\" stroke=\"black\" points=\"30,-56.5 30,-92.5 \"/>\n<text text-anchor=\"middle\" x=\"81\" y=\"-70.8\" font-family=\"Times,serif\" font-size=\"14.00\">data 2.0600</text>\n<polyline fill=\"none\" stroke=\"black\" points=\"132,-56.5 132,-92.5 \"/>\n<text text-anchor=\"middle\" x=\"184\" y=\"-70.8\" font-family=\"Times,serif\" font-size=\"14.00\">grad 6.0000</text>\n</g>\n<!-- 139650041126128&#45;&gt;139650041304000* -->\n<g id=\"edge9\" class=\"edge\">\n<title>139650041126128&#45;&gt;139650041304000*</title>\n<path fill=\"none\" stroke=\"black\" d=\"M236.19,-91.56C247.37,-93.22 258.02,-94.81 267.41,-96.21\"/>\n<polygon fill=\"black\" stroke=\"black\" points=\"267.02,-99.69 277.43,-97.7 268.05,-92.76 267.02,-99.69\"/>\n</g>\n<!-- 139650041127232 -->\n<g id=\"node5\" class=\"node\">\n<title>139650041127232</title>\n<polygon fill=\"none\" stroke=\"black\" points=\"380.5,-28.5 380.5,-64.5 614.5,-64.5 614.5,-28.5 380.5,-28.5\"/>\n<text text-anchor=\"middle\" x=\"392.5\" y=\"-42.8\" font-family=\"Times,serif\" font-size=\"14.00\">c</text>\n<polyline fill=\"none\" stroke=\"black\" points=\"404.5,-28.5 404.5,-64.5 \"/>\n<text text-anchor=\"middle\" x=\"455.5\" y=\"-42.8\" font-family=\"Times,serif\" font-size=\"14.00\">data 9.9800</text>\n<polyline fill=\"none\" stroke=\"black\" points=\"506.5,-28.5 506.5,-64.5 \"/>\n<text text-anchor=\"middle\" x=\"560.5\" y=\"-42.8\" font-family=\"Times,serif\" font-size=\"14.00\">grad &#45;2.0000</text>\n</g>\n<!-- 139650041307072+ -->\n<g id=\"node10\" class=\"node\">\n<title>139650041307072+</title>\n<ellipse fill=\"none\" stroke=\"black\" cx=\"691\" cy=\"-73.5\" rx=\"27\" ry=\"18\"/>\n<text text-anchor=\"middle\" x=\"691\" y=\"-69.8\" font-family=\"Times,serif\" font-size=\"14.00\">+</text>\n</g>\n<!-- 139650041127232&#45;&gt;139650041307072+ -->\n<g id=\"edge4\" class=\"edge\">\n<title>139650041127232&#45;&gt;139650041307072+</title>\n<path fill=\"none\" stroke=\"black\" d=\"M614.59,-62.87C628.9,-64.89 642.58,-66.81 654.26,-68.46\"/>\n<polygon fill=\"black\" stroke=\"black\" points=\"653.99,-71.96 664.39,-69.89 654.97,-65.03 653.99,-71.96\"/>\n</g>\n<!-- 139650041134912 -->\n<g id=\"node6\" class=\"node\">\n<title>139650041134912</title>\n<polygon fill=\"none\" stroke=\"black\" points=\"785,-0.5 785,-36.5 1018,-36.5 1018,-0.5 785,-0.5\"/>\n<text text-anchor=\"middle\" x=\"796\" y=\"-14.8\" font-family=\"Times,serif\" font-size=\"14.00\">f</text>\n<polyline fill=\"none\" stroke=\"black\" points=\"807,-0.5 807,-36.5 \"/>\n<text text-anchor=\"middle\" x=\"860.5\" y=\"-14.8\" font-family=\"Times,serif\" font-size=\"14.00\">data &#45;1.9600</text>\n<polyline fill=\"none\" stroke=\"black\" points=\"914,-0.5 914,-36.5 \"/>\n<text text-anchor=\"middle\" x=\"966\" y=\"-14.8\" font-family=\"Times,serif\" font-size=\"14.00\">grad 4.0000</text>\n</g>\n<!-- 139650041134912&#45;&gt;139650041307840* -->\n<g id=\"edge6\" class=\"edge\">\n<title>139650041134912&#45;&gt;139650041307840*</title>\n<path fill=\"none\" stroke=\"black\" d=\"M1018.03,-33.46C1038.84,-36.16 1059.04,-38.77 1075.27,-40.87\"/>\n<polygon fill=\"black\" stroke=\"black\" points=\"1074.96,-44.36 1085.33,-42.18 1075.86,-37.42 1074.96,-44.36\"/>\n</g>\n<!-- 139650041304000 -->\n<g id=\"node7\" class=\"node\">\n<title>139650041304000</title>\n<polygon fill=\"none\" stroke=\"black\" points=\"367,-83.5 367,-119.5 628,-119.5 628,-83.5 367,-83.5\"/>\n<text text-anchor=\"middle\" x=\"392\" y=\"-97.8\" font-family=\"Times,serif\" font-size=\"14.00\">a * b</text>\n<polyline fill=\"none\" stroke=\"black\" points=\"417,-83.5 417,-119.5 \"/>\n<text text-anchor=\"middle\" x=\"470.5\" y=\"-97.8\" font-family=\"Times,serif\" font-size=\"14.00\">data &#45;6.2624</text>\n<polyline fill=\"none\" stroke=\"black\" points=\"524,-83.5 524,-119.5 \"/>\n<text text-anchor=\"middle\" x=\"576\" y=\"-97.8\" font-family=\"Times,serif\" font-size=\"14.00\">grad 0.0000</text>\n</g>\n<!-- 139650041304000&#45;&gt;139650041307072+ -->\n<g id=\"edge7\" class=\"edge\">\n<title>139650041304000&#45;&gt;139650041307072+</title>\n<path fill=\"none\" stroke=\"black\" d=\"M621.68,-83.49C633.41,-81.77 644.54,-80.15 654.28,-78.72\"/>\n<polygon fill=\"black\" stroke=\"black\" points=\"654.88,-82.17 664.27,-77.26 653.86,-75.25 654.88,-82.17\"/>\n</g>\n<!-- 139650041304000*&#45;&gt;139650041304000 -->\n<g id=\"edge2\" class=\"edge\">\n<title>139650041304000*&#45;&gt;139650041304000</title>\n<path fill=\"none\" stroke=\"black\" d=\"M331.23,-101.5C338.68,-101.5 347.35,-101.5 356.74,-101.5\"/>\n<polygon fill=\"black\" stroke=\"black\" points=\"356.76,-105 366.76,-101.5 356.76,-98 356.76,-105\"/>\n</g>\n<!-- 139650041307072 -->\n<g id=\"node9\" class=\"node\">\n<title>139650041307072</title>\n<polygon fill=\"none\" stroke=\"black\" points=\"754,-55.5 754,-91.5 1049,-91.5 1049,-55.5 754,-55.5\"/>\n<text text-anchor=\"middle\" x=\"798.5\" y=\"-69.8\" font-family=\"Times,serif\" font-size=\"14.00\">(a * b) + c</text>\n<polyline fill=\"none\" stroke=\"black\" points=\"843,-55.5 843,-91.5 \"/>\n<text text-anchor=\"middle\" x=\"894\" y=\"-69.8\" font-family=\"Times,serif\" font-size=\"14.00\">data 3.7176</text>\n<polyline fill=\"none\" stroke=\"black\" points=\"945,-55.5 945,-91.5 \"/>\n<text text-anchor=\"middle\" x=\"997\" y=\"-69.8\" font-family=\"Times,serif\" font-size=\"14.00\">grad 0.0000</text>\n</g>\n<!-- 139650041307072&#45;&gt;139650041307840* -->\n<g id=\"edge8\" class=\"edge\">\n<title>139650041307072&#45;&gt;139650041307840*</title>\n<path fill=\"none\" stroke=\"black\" d=\"M1036.61,-55.49C1050.63,-53.61 1063.86,-51.83 1075.17,-50.31\"/>\n<polygon fill=\"black\" stroke=\"black\" points=\"1075.94,-53.74 1085.38,-48.94 1075.01,-46.8 1075.94,-53.74\"/>\n</g>\n<!-- 139650041307072+&#45;&gt;139650041307072 -->\n<g id=\"edge3\" class=\"edge\">\n<title>139650041307072+&#45;&gt;139650041307072</title>\n<path fill=\"none\" stroke=\"black\" d=\"M718.41,-73.5C725.81,-73.5 734.42,-73.5 743.81,-73.5\"/>\n<polygon fill=\"black\" stroke=\"black\" points=\"743.84,-77 753.84,-73.5 743.84,-70 743.84,-77\"/>\n</g>\n</g>\n</svg>\n",
            "text/plain": [
              "<graphviz.graphs.Digraph at 0x7f02cf1ae1d0>"
            ]
          },
          "execution_count": 16,
          "metadata": {},
          "output_type": "execute_result"
        }
      ],
      "source": [
        "a.data += 0.01 * a.grad\n",
        "b.data += 0.01 * b.grad\n",
        "c.data += 0.01 * c.grad\n",
        "f.data += 0.01 * f.grad\n",
        "\n",
        "e = a * b\n",
        "d = e + c\n",
        "L = d * f\n",
        "\n",
        "print(\"%.4f\" % L.data)\n",
        "draw_dot(L)"
      ]
    },
    {
      "attachments": {},
      "cell_type": "markdown",
      "metadata": {},
      "source": [
        "## Manual backpropagation example #2: a neuron"
      ]
    },
    {
      "attachments": {},
      "cell_type": "markdown",
      "metadata": {},
      "source": [
        "### Activation function"
      ]
    },
    {
      "attachments": {},
      "cell_type": "markdown",
      "metadata": {},
      "source": [
        "#### np.tanh()"
      ]
    },
    {
      "cell_type": "code",
      "execution_count": 17,
      "metadata": {},
      "outputs": [
        {
          "data": {
            "image/png": "[encoded data removed]",
            "text/plain": [
              "<Figure size 640x480 with 1 Axes>"
            ]
          },
          "metadata": {},
          "output_type": "display_data"
        }
      ],
      "source": [
        "plt.plot(np.arange(-5, 5, 0.2), np.tanh(np.arange(-5, 5, 0.2))); plt.grid()"
      ]
    },
    {
      "attachments": {},
      "cell_type": "markdown",
      "metadata": {},
      "source": [
        "#### Value.tanh()"
      ]
    },
    {
      "cell_type": "code",
      "execution_count": 18,
      "metadata": {},
      "outputs": [
        {
          "data": {
            "text/plain": [
              "0.4621 [tanh(n)]"
            ]
          },
          "execution_count": 18,
          "metadata": {},
          "output_type": "execute_result"
        }
      ],
      "source": [
        "n = Value(0.5).label(\"n\")\n",
        "# t = ((2*n).exp() - 1) / ((2*n).exp() + 1)\n",
        "n.tanh()"
      ]
    },
    {
      "attachments": {},
      "cell_type": "markdown",
      "metadata": {},
      "source": [
        "### Backpropagation"
      ]
    },
    {
      "cell_type": "code",
      "execution_count": 19,
      "metadata": {},
      "outputs": [
        {
          "name": "stdout",
          "output_type": "stream",
          "text": [
            "n=0.8814 [x1*w1 + x2*w2 + b]\n",
            "o=0.7071 [tanh(n)]\n"
          ]
        }
      ],
      "source": [
        "# inputs x1, x2\n",
        "x1 = Value(2.0).label(\"x1\")\n",
        "x2 = Value(0.0).label(\"x2\")\n",
        "# weights w1, w2\n",
        "w1 = Value(-3.0).label(\"w1\")\n",
        "w2 = Value(1.0).label(\"w2\")\n",
        "# bias of the neuron\n",
        "b = Value(6.8813735870195432).label(\"b\")\n",
        "# x1*w1 + x2*w2 + b\n",
        "x1w1 = (x1 * w1).label(\"x1*w1\")\n",
        "x2w2 = (x2 * w2).label(\"x2*w2\")\n",
        "x1w1x2w2 = (x1w1 + x2w2).label(\"x1*w1 + x2*w2\")\n",
        "n = (x1w1x2w2 + b).label(\"n\")\n",
        "o = n.tanh().label(\"o\")\n",
        "print(n)\n",
        "print(o)"
      ]
    },
    {
      "cell_type": "code",
      "execution_count": 20,
      "metadata": {},
      "outputs": [
        {
          "data": {
            "image/svg+xml": "<?xml version=\"1.0\" encoding=\"UTF-8\" standalone=\"no\"?>\n<!DOCTYPE svg PUBLIC \"-//W3C//DTD SVG 1.1//EN\"\n \"http://www.w3.org/Graphics/SVG/1.1/DTD/svg11.dtd\">\n<!-- Generated by graphviz version 2.43.0 (0)\n -->\n<!-- Title: %3 Pages: 1 -->\n<svg width=\"1846pt\" height=\"210pt\"\n viewBox=\"0.00 0.00 1845.69 210.00\" xmlns=\"http://www.w3.org/2000/svg\" xmlns:xlink=\"http://www.w3.org/1999/xlink\">\n<g id=\"graph0\" class=\"graph\" transform=\"scale(1 1) rotate(0) translate(4 206)\">\n<title>%3</title>\n<polygon fill=\"white\" stroke=\"transparent\" points=\"-4,4 -4,-206 1841.69,-206 1841.69,4 -4,4\"/>\n<!-- 139650006549552 -->\n<g id=\"node1\" class=\"node\">\n<title>139650006549552</title>\n<polygon fill=\"none\" stroke=\"black\" points=\"774,-82.5 774,-118.5 1113,-118.5 1113,-82.5 774,-82.5\"/>\n<text text-anchor=\"middle\" x=\"838\" y=\"-96.8\" font-family=\"Times,serif\" font-size=\"14.00\">x1*w1 + x2*w2</text>\n<polyline fill=\"none\" stroke=\"black\" points=\"902,-82.5 902,-118.5 \"/>\n<text text-anchor=\"middle\" x=\"955.5\" y=\"-96.8\" font-family=\"Times,serif\" font-size=\"14.00\">data &#45;6.0000</text>\n<polyline fill=\"none\" stroke=\"black\" points=\"1009,-82.5 1009,-118.5 \"/>\n<text text-anchor=\"middle\" x=\"1061\" y=\"-96.8\" font-family=\"Times,serif\" font-size=\"14.00\">grad 0.5000</text>\n</g>\n<!-- 139650006553344+ -->\n<g id=\"node7\" class=\"node\">\n<title>139650006553344+</title>\n<ellipse fill=\"none\" stroke=\"black\" cx=\"1176\" cy=\"-127.5\" rx=\"27\" ry=\"18\"/>\n<text text-anchor=\"middle\" x=\"1176\" y=\"-123.8\" font-family=\"Times,serif\" font-size=\"14.00\">+</text>\n</g>\n<!-- 139650006549552&#45;&gt;139650006553344+ -->\n<g id=\"edge8\" class=\"edge\">\n<title>139650006549552&#45;&gt;139650006553344+</title>\n<path fill=\"none\" stroke=\"black\" d=\"M1098.25,-118.51C1113.17,-120.26 1127.12,-121.89 1138.92,-123.27\"/>\n<polygon fill=\"black\" stroke=\"black\" points=\"1138.79,-126.78 1149.13,-124.47 1139.6,-119.83 1138.79,-126.78\"/>\n</g>\n<!-- 139650006549552+ -->\n<g id=\"node2\" class=\"node\">\n<title>139650006549552+</title>\n<ellipse fill=\"none\" stroke=\"black\" cx=\"711\" cy=\"-100.5\" rx=\"27\" ry=\"18\"/>\n<text text-anchor=\"middle\" x=\"711\" y=\"-96.8\" font-family=\"Times,serif\" font-size=\"14.00\">+</text>\n</g>\n<!-- 139650006549552+&#45;&gt;139650006549552 -->\n<g id=\"edge1\" class=\"edge\">\n<title>139650006549552+&#45;&gt;139650006549552</title>\n<path fill=\"none\" stroke=\"black\" d=\"M738.44,-100.5C745.81,-100.5 754.42,-100.5 763.84,-100.5\"/>\n<polygon fill=\"black\" stroke=\"black\" points=\"763.94,-104 773.94,-100.5 763.94,-97 763.94,-104\"/>\n</g>\n<!-- 139650006560832 -->\n<g id=\"node3\" class=\"node\">\n<title>139650006560832</title>\n<polygon fill=\"none\" stroke=\"black\" points=\"375,-110.5 375,-146.5 648,-146.5 648,-110.5 375,-110.5\"/>\n<text text-anchor=\"middle\" x=\"406\" y=\"-124.8\" font-family=\"Times,serif\" font-size=\"14.00\">x1*w1</text>\n<polyline fill=\"none\" stroke=\"black\" points=\"437,-110.5 437,-146.5 \"/>\n<text text-anchor=\"middle\" x=\"490.5\" y=\"-124.8\" font-family=\"Times,serif\" font-size=\"14.00\">data &#45;6.0000</text>\n<polyline fill=\"none\" stroke=\"black\" points=\"544,-110.5 544,-146.5 \"/>\n<text text-anchor=\"middle\" x=\"596\" y=\"-124.8\" font-family=\"Times,serif\" font-size=\"14.00\">grad 0.5000</text>\n</g>\n<!-- 139650006560832&#45;&gt;139650006549552+ -->\n<g id=\"edge14\" class=\"edge\">\n<title>139650006560832&#45;&gt;139650006549552+</title>\n<path fill=\"none\" stroke=\"black\" d=\"M639.53,-110.49C652.09,-108.71 663.99,-107.02 674.3,-105.56\"/>\n<polygon fill=\"black\" stroke=\"black\" points=\"675.03,-108.99 684.44,-104.12 674.05,-102.06 675.03,-108.99\"/>\n</g>\n<!-- 139650006560832* -->\n<g id=\"node4\" class=\"node\">\n<title>139650006560832*</title>\n<ellipse fill=\"none\" stroke=\"black\" cx=\"312\" cy=\"-128.5\" rx=\"27\" ry=\"18\"/>\n<text text-anchor=\"middle\" x=\"312\" y=\"-124.8\" font-family=\"Times,serif\" font-size=\"14.00\">*</text>\n</g>\n<!-- 139650006560832*&#45;&gt;139650006560832 -->\n<g id=\"edge2\" class=\"edge\">\n<title>139650006560832*&#45;&gt;139650006560832</title>\n<path fill=\"none\" stroke=\"black\" d=\"M339.23,-128.5C346.7,-128.5 355.41,-128.5 364.87,-128.5\"/>\n<polygon fill=\"black\" stroke=\"black\" points=\"364.98,-132 374.98,-128.5 364.98,-125 364.98,-132\"/>\n</g>\n<!-- 139650040669824 -->\n<g id=\"node5\" class=\"node\">\n<title>139650040669824</title>\n<polygon fill=\"none\" stroke=\"black\" points=\"2.5,-55.5 2.5,-91.5 246.5,-91.5 246.5,-55.5 2.5,-55.5\"/>\n<text text-anchor=\"middle\" x=\"21.5\" y=\"-69.8\" font-family=\"Times,serif\" font-size=\"14.00\">w2</text>\n<polyline fill=\"none\" stroke=\"black\" points=\"40.5,-55.5 40.5,-91.5 \"/>\n<text text-anchor=\"middle\" x=\"91.5\" y=\"-69.8\" font-family=\"Times,serif\" font-size=\"14.00\">data 1.0000</text>\n<polyline fill=\"none\" stroke=\"black\" points=\"142.5,-55.5 142.5,-91.5 \"/>\n<text text-anchor=\"middle\" x=\"194.5\" y=\"-69.8\" font-family=\"Times,serif\" font-size=\"14.00\">grad 0.0000</text>\n</g>\n<!-- 139650006549360* -->\n<g id=\"node11\" class=\"node\">\n<title>139650006549360*</title>\n<ellipse fill=\"none\" stroke=\"black\" cx=\"312\" cy=\"-73.5\" rx=\"27\" ry=\"18\"/>\n<text text-anchor=\"middle\" x=\"312\" y=\"-69.8\" font-family=\"Times,serif\" font-size=\"14.00\">*</text>\n</g>\n<!-- 139650040669824&#45;&gt;139650006549360* -->\n<g id=\"edge7\" class=\"edge\">\n<title>139650040669824&#45;&gt;139650006549360*</title>\n<path fill=\"none\" stroke=\"black\" d=\"M246.64,-73.5C256.7,-73.5 266.26,-73.5 274.79,-73.5\"/>\n<polygon fill=\"black\" stroke=\"black\" points=\"275,-77 285,-73.5 275,-70 275,-77\"/>\n</g>\n<!-- 139650006553344 -->\n<g id=\"node6\" class=\"node\">\n<title>139650006553344</title>\n<polygon fill=\"none\" stroke=\"black\" points=\"1239,-109.5 1239,-145.5 1471,-145.5 1471,-109.5 1239,-109.5\"/>\n<text text-anchor=\"middle\" x=\"1252\" y=\"-123.8\" font-family=\"Times,serif\" font-size=\"14.00\">n</text>\n<polyline fill=\"none\" stroke=\"black\" points=\"1265,-109.5 1265,-145.5 \"/>\n<text text-anchor=\"middle\" x=\"1316\" y=\"-123.8\" font-family=\"Times,serif\" font-size=\"14.00\">data 0.8814</text>\n<polyline fill=\"none\" stroke=\"black\" points=\"1367,-109.5 1367,-145.5 \"/>\n<text text-anchor=\"middle\" x=\"1419\" y=\"-123.8\" font-family=\"Times,serif\" font-size=\"14.00\">grad 0.5000</text>\n</g>\n<!-- 139650006558624tanh -->\n<g id=\"node14\" class=\"node\">\n<title>139650006558624tanh</title>\n<ellipse fill=\"none\" stroke=\"black\" cx=\"1538.85\" cy=\"-127.5\" rx=\"31.7\" ry=\"18\"/>\n<text text-anchor=\"middle\" x=\"1538.85\" y=\"-123.8\" font-family=\"Times,serif\" font-size=\"14.00\">tanh</text>\n</g>\n<!-- 139650006553344&#45;&gt;139650006558624tanh -->\n<g id=\"edge12\" class=\"edge\">\n<title>139650006553344&#45;&gt;139650006558624tanh</title>\n<path fill=\"none\" stroke=\"black\" d=\"M1471.17,-127.5C1480.08,-127.5 1488.66,-127.5 1496.53,-127.5\"/>\n<polygon fill=\"black\" stroke=\"black\" points=\"1496.78,-131 1506.78,-127.5 1496.78,-124 1496.78,-131\"/>\n</g>\n<!-- 139650006553344+&#45;&gt;139650006553344 -->\n<g id=\"edge3\" class=\"edge\">\n<title>139650006553344+&#45;&gt;139650006553344</title>\n<path fill=\"none\" stroke=\"black\" d=\"M1203.12,-127.5C1210.53,-127.5 1219.14,-127.5 1228.4,-127.5\"/>\n<polygon fill=\"black\" stroke=\"black\" points=\"1228.69,-131 1238.69,-127.5 1228.69,-124 1228.69,-131\"/>\n</g>\n<!-- 139650785516304 -->\n<g id=\"node8\" class=\"node\">\n<title>139650785516304</title>\n<polygon fill=\"none\" stroke=\"black\" points=\"2.5,-165.5 2.5,-201.5 246.5,-201.5 246.5,-165.5 2.5,-165.5\"/>\n<text text-anchor=\"middle\" x=\"19.5\" y=\"-179.8\" font-family=\"Times,serif\" font-size=\"14.00\">x1</text>\n<polyline fill=\"none\" stroke=\"black\" points=\"36.5,-165.5 36.5,-201.5 \"/>\n<text text-anchor=\"middle\" x=\"87.5\" y=\"-179.8\" font-family=\"Times,serif\" font-size=\"14.00\">data 2.0000</text>\n<polyline fill=\"none\" stroke=\"black\" points=\"138.5,-165.5 138.5,-201.5 \"/>\n<text text-anchor=\"middle\" x=\"192.5\" y=\"-179.8\" font-family=\"Times,serif\" font-size=\"14.00\">grad &#45;1.5000</text>\n</g>\n<!-- 139650785516304&#45;&gt;139650006560832* -->\n<g id=\"edge13\" class=\"edge\">\n<title>139650785516304&#45;&gt;139650006560832*</title>\n<path fill=\"none\" stroke=\"black\" d=\"M218.13,-165.46C228.63,-162.77 239.1,-159.78 249,-156.5 259.71,-152.96 271.05,-148.16 281.07,-143.54\"/>\n<polygon fill=\"black\" stroke=\"black\" points=\"282.67,-146.66 290.2,-139.21 279.67,-140.33 282.67,-146.66\"/>\n</g>\n<!-- 139650785515344 -->\n<g id=\"node9\" class=\"node\">\n<title>139650785515344</title>\n<polygon fill=\"none\" stroke=\"black\" points=\"4.5,-0.5 4.5,-36.5 244.5,-36.5 244.5,-0.5 4.5,-0.5\"/>\n<text text-anchor=\"middle\" x=\"21.5\" y=\"-14.8\" font-family=\"Times,serif\" font-size=\"14.00\">x2</text>\n<polyline fill=\"none\" stroke=\"black\" points=\"38.5,-0.5 38.5,-36.5 \"/>\n<text text-anchor=\"middle\" x=\"89.5\" y=\"-14.8\" font-family=\"Times,serif\" font-size=\"14.00\">data 0.0000</text>\n<polyline fill=\"none\" stroke=\"black\" points=\"140.5,-0.5 140.5,-36.5 \"/>\n<text text-anchor=\"middle\" x=\"192.5\" y=\"-14.8\" font-family=\"Times,serif\" font-size=\"14.00\">grad 0.5000</text>\n</g>\n<!-- 139650785515344&#45;&gt;139650006549360* -->\n<g id=\"edge11\" class=\"edge\">\n<title>139650785515344&#45;&gt;139650006549360*</title>\n<path fill=\"none\" stroke=\"black\" d=\"M214.42,-36.55C226.15,-39.54 237.93,-42.87 249,-46.5 259.46,-49.93 270.57,-54.47 280.46,-58.84\"/>\n<polygon fill=\"black\" stroke=\"black\" points=\"279.31,-62.17 289.87,-63.12 282.21,-55.79 279.31,-62.17\"/>\n</g>\n<!-- 139650006549360 -->\n<g id=\"node10\" class=\"node\">\n<title>139650006549360</title>\n<polygon fill=\"none\" stroke=\"black\" points=\"377.5,-55.5 377.5,-91.5 645.5,-91.5 645.5,-55.5 377.5,-55.5\"/>\n<text text-anchor=\"middle\" x=\"408.5\" y=\"-69.8\" font-family=\"Times,serif\" font-size=\"14.00\">x2*w2</text>\n<polyline fill=\"none\" stroke=\"black\" points=\"439.5,-55.5 439.5,-91.5 \"/>\n<text text-anchor=\"middle\" x=\"490.5\" y=\"-69.8\" font-family=\"Times,serif\" font-size=\"14.00\">data 0.0000</text>\n<polyline fill=\"none\" stroke=\"black\" points=\"541.5,-55.5 541.5,-91.5 \"/>\n<text text-anchor=\"middle\" x=\"593.5\" y=\"-69.8\" font-family=\"Times,serif\" font-size=\"14.00\">grad 0.5000</text>\n</g>\n<!-- 139650006549360&#45;&gt;139650006549552+ -->\n<g id=\"edge10\" class=\"edge\">\n<title>139650006549360&#45;&gt;139650006549552+</title>\n<path fill=\"none\" stroke=\"black\" d=\"M644.24,-91.51C655.12,-93 665.4,-94.4 674.45,-95.64\"/>\n<polygon fill=\"black\" stroke=\"black\" points=\"674.11,-99.13 684.49,-97.01 675.05,-92.19 674.11,-99.13\"/>\n</g>\n<!-- 139650006549360*&#45;&gt;139650006549360 -->\n<g id=\"edge4\" class=\"edge\">\n<title>139650006549360*&#45;&gt;139650006549360</title>\n<path fill=\"none\" stroke=\"black\" d=\"M339.23,-73.5C347.26,-73.5 356.72,-73.5 366.99,-73.5\"/>\n<polygon fill=\"black\" stroke=\"black\" points=\"367.08,-77 377.08,-73.5 367.08,-70 367.08,-77\"/>\n</g>\n<!-- 139650785510784 -->\n<g id=\"node12\" class=\"node\">\n<title>139650785510784</title>\n<polygon fill=\"none\" stroke=\"black\" points=\"827.5,-137.5 827.5,-173.5 1059.5,-173.5 1059.5,-137.5 827.5,-137.5\"/>\n<text text-anchor=\"middle\" x=\"840.5\" y=\"-151.8\" font-family=\"Times,serif\" font-size=\"14.00\">b</text>\n<polyline fill=\"none\" stroke=\"black\" points=\"853.5,-137.5 853.5,-173.5 \"/>\n<text text-anchor=\"middle\" x=\"904.5\" y=\"-151.8\" font-family=\"Times,serif\" font-size=\"14.00\">data 6.8814</text>\n<polyline fill=\"none\" stroke=\"black\" points=\"955.5,-137.5 955.5,-173.5 \"/>\n<text text-anchor=\"middle\" x=\"1007.5\" y=\"-151.8\" font-family=\"Times,serif\" font-size=\"14.00\">grad 0.5000</text>\n</g>\n<!-- 139650785510784&#45;&gt;139650006553344+ -->\n<g id=\"edge6\" class=\"edge\">\n<title>139650785510784&#45;&gt;139650006553344+</title>\n<path fill=\"none\" stroke=\"black\" d=\"M1059.75,-141.5C1088.57,-138 1117.4,-134.5 1139.01,-131.87\"/>\n<polygon fill=\"black\" stroke=\"black\" points=\"1139.5,-135.34 1149.01,-130.66 1138.66,-128.39 1139.5,-135.34\"/>\n</g>\n<!-- 139650006558624 -->\n<g id=\"node13\" class=\"node\">\n<title>139650006558624</title>\n<polygon fill=\"none\" stroke=\"black\" points=\"1606.69,-109.5 1606.69,-145.5 1837.69,-145.5 1837.69,-109.5 1606.69,-109.5\"/>\n<text text-anchor=\"middle\" x=\"1619.19\" y=\"-123.8\" font-family=\"Times,serif\" font-size=\"14.00\">o</text>\n<polyline fill=\"none\" stroke=\"black\" points=\"1631.69,-109.5 1631.69,-145.5 \"/>\n<text text-anchor=\"middle\" x=\"1682.69\" y=\"-123.8\" font-family=\"Times,serif\" font-size=\"14.00\">data 0.7071</text>\n<polyline fill=\"none\" stroke=\"black\" points=\"1733.69,-109.5 1733.69,-145.5 \"/>\n<text text-anchor=\"middle\" x=\"1785.69\" y=\"-123.8\" font-family=\"Times,serif\" font-size=\"14.00\">grad 1.0000</text>\n</g>\n<!-- 139650006558624tanh&#45;&gt;139650006558624 -->\n<g id=\"edge5\" class=\"edge\">\n<title>139650006558624tanh&#45;&gt;139650006558624</title>\n<path fill=\"none\" stroke=\"black\" d=\"M1571.02,-127.5C1578.61,-127.5 1587.19,-127.5 1596.31,-127.5\"/>\n<polygon fill=\"black\" stroke=\"black\" points=\"1596.4,-131 1606.4,-127.5 1596.4,-124 1596.4,-131\"/>\n</g>\n<!-- 139650040669680 -->\n<g id=\"node15\" class=\"node\">\n<title>139650040669680</title>\n<polygon fill=\"none\" stroke=\"black\" points=\"0,-110.5 0,-146.5 249,-146.5 249,-110.5 0,-110.5\"/>\n<text text-anchor=\"middle\" x=\"19\" y=\"-124.8\" font-family=\"Times,serif\" font-size=\"14.00\">w1</text>\n<polyline fill=\"none\" stroke=\"black\" points=\"38,-110.5 38,-146.5 \"/>\n<text text-anchor=\"middle\" x=\"91.5\" y=\"-124.8\" font-family=\"Times,serif\" font-size=\"14.00\">data &#45;3.0000</text>\n<polyline fill=\"none\" stroke=\"black\" points=\"145,-110.5 145,-146.5 \"/>\n<text text-anchor=\"middle\" x=\"197\" y=\"-124.8\" font-family=\"Times,serif\" font-size=\"14.00\">grad 1.0000</text>\n</g>\n<!-- 139650040669680&#45;&gt;139650006560832* -->\n<g id=\"edge9\" class=\"edge\">\n<title>139650040669680&#45;&gt;139650006560832*</title>\n<path fill=\"none\" stroke=\"black\" d=\"M249.23,-128.5C258.37,-128.5 267.05,-128.5 274.87,-128.5\"/>\n<polygon fill=\"black\" stroke=\"black\" points=\"274.95,-132 284.95,-128.5 274.95,-125 274.95,-132\"/>\n</g>\n</g>\n</svg>\n",
            "text/plain": [
              "<graphviz.graphs.Digraph at 0x7f02cd08a6b0>"
            ]
          },
          "execution_count": 20,
          "metadata": {},
          "output_type": "execute_result"
        }
      ],
      "source": [
        "o.grad = 1.0\n",
        "\n",
        "# o = tanh(n)\n",
        "# do/dn = 1 - tanh(n) ** 2 = 1 - o ** 2\n",
        "# do/dn = 0.5\n",
        "n.grad = 0.5\n",
        "\n",
        "# d/dx f(x) = (f(x + h) - f(x)) / h\n",
        "\n",
        "# n = x1w1x2w2 + b\n",
        "# dn/dx1w1x2w2 = ((x1w1x2w2 + b + h) - (x1w1x2w2 + b)) / h\n",
        "# dn/dx1w1x2w2 = (x1w1x2w2 + b + h - x1w1x2w2 - b) / h\n",
        "# dn/dx1w1x2w2 = h / h = 1.0\n",
        "# do/dx1w1x2w2 = do/dn * dn/dx1w1x2w2 = 0.5 * 1.0 = 0.5\n",
        "# do/dx1w1x2w2 = 0.5\n",
        "x1w1x2w2.grad = 0.5\n",
        "\n",
        "# dn/db = ((x1w1x2w2 + b) - (x1w1x2w2 + b + h)) / h\n",
        "# dn/db = (x1w1x2w2 + b - x1w1x2w2 - b - h) / h\n",
        "# dn/db = h / h = 1.0\n",
        "# do/db = do/dn * dn/db = 0.5 * 1.0 = 0.5\n",
        "# do/db = 0.5\n",
        "b.grad = 0.5\n",
        "\n",
        "# x1w1x2w2 = x1w1 + x2w2\n",
        "# dx1w1x2w2/dx2w2 = ((x1w1 + x2w2 + h) - (x1w1 + x2w2)) / h\n",
        "# dx1w1x2w2/dx2w2 = (x1w1 + x2w2 + h - x1w1 - x2w2) / h\n",
        "# dx1w1x2w2/dx2w2 = h / h = 1.0\n",
        "# do/dx2w2 = do/dx1w1x2w2 * dx1w1x2w2/dx2w2 = 0.5 * 1.0 = 0.5\n",
        "# do/dx2w2 = 0.5\n",
        "x2w2.grad = 0.5\n",
        "\n",
        "# x1w1x2w2 = x1w1 + x2w2\n",
        "# dx1w1x2w2/dx1w1 = ((x1w1 + h + x2w2) - (x1w1 + x2w2)) / h\n",
        "# dx1w1x2w2/dx1w1 = (x1w1 + h + x2w2 - x1w1 - x2w2) / h\n",
        "# dx1w1x2w2/dx1w1 = h / h = 1.0\n",
        "# do/dx1w1 = do/dx1w1x2w2 * dx1w1x2w2/dx1w1 = 0.5 * 1.0 = 0.5\n",
        "# do/dx1w1 = 0.5\n",
        "x1w1.grad = 0.5\n",
        "\n",
        "# x2w2 = x2 * w2\n",
        "# dx2w2/dx2 = (((x2 + h) * w2) - (x2 * w2)) / h\n",
        "# dx2w2/dx2 = (x2 * w2 + h * w2 - x2 * w2) / h\n",
        "# dx2w2/dx2 = (h * w2) / h = w2 = 1.0\n",
        "# do/dx2 = do/dx2w2 * dx2w2/dx2 = 0.5 * 1.0 = 0.5\n",
        "# do/dx2 = 0.5\n",
        "x2.grad = w2.data * x2w2.grad\n",
        "\n",
        "# x2w2 = x2 * w2\n",
        "# dx2w2/dw2 = ((x2 * (w2 + h)) - (x2 * w2)) / h\n",
        "# dx2w2/dw2 = (x2 * w2 + x2 * h - x2 * w2) / h\n",
        "# dx2w2/dw2 = (x2 * h) / h = x2 = 0.0\n",
        "# do/dw2 = do/dx2w2 * dx2w2/dw2 = 0.5 * 0.0 = 0.0\n",
        "w2.grad = x2.data * x2w2.grad\n",
        "\n",
        "# x1w1 = x1 * w1\n",
        "# dx1w1/dx1 = (((x1 + h) * w1) - (x1 * w1)) / h\n",
        "# dx1w1/dx1 = (x1 * w1 + h * w1 - x1 * w1) / h\n",
        "# dx1w1/dx1 = (h * w1) / h = w1 = -3.0\n",
        "# do/dx1 = do/dx1w1 * dx1w1/dx1 = 0.5 * -3.0 = -1.5\n",
        "# do/dx1 = -1.5\n",
        "x1.grad = w1.data * x1w1.grad\n",
        "\n",
        "# x1w1 = x1 * w1\n",
        "# dx1w1/dw1 = ((x1 * (w1 + h)) - (x1 * w1)) / h\n",
        "# dx1w1/dw1 = (x1 * w1 + x1 * h - x1 * w1) / h\n",
        "# dx1w1/dw1 = (x1 * h) / h = x1 = 2.0\n",
        "# do/dw1 = do/dx1w1 * dx1w1/dw1 = 0.5 * 2.0 = 1.0\n",
        "w1.grad = x1.data * x1w1.grad\n",
        "\n",
        "draw_dot(o)"
      ]
    },
    {
      "attachments": {},
      "cell_type": "markdown",
      "metadata": {},
      "source": [
        "## Implementing the backward function"
      ]
    },
    {
      "attachments": {},
      "cell_type": "markdown",
      "metadata": {},
      "source": [
        "### For each operation"
      ]
    },
    {
      "cell_type": "code",
      "execution_count": 21,
      "metadata": {},
      "outputs": [
        {
          "data": {
            "image/svg+xml": "<?xml version=\"1.0\" encoding=\"UTF-8\" standalone=\"no\"?>\n<!DOCTYPE svg PUBLIC \"-//W3C//DTD SVG 1.1//EN\"\n \"http://www.w3.org/Graphics/SVG/1.1/DTD/svg11.dtd\">\n<!-- Generated by graphviz version 2.43.0 (0)\n -->\n<!-- Title: %3 Pages: 1 -->\n<svg width=\"1846pt\" height=\"210pt\"\n viewBox=\"0.00 0.00 1845.69 210.00\" xmlns=\"http://www.w3.org/2000/svg\" xmlns:xlink=\"http://www.w3.org/1999/xlink\">\n<g id=\"graph0\" class=\"graph\" transform=\"scale(1 1) rotate(0) translate(4 206)\">\n<title>%3</title>\n<polygon fill=\"white\" stroke=\"transparent\" points=\"-4,4 -4,-206 1841.69,-206 1841.69,4 -4,4\"/>\n<!-- 139650006561312 -->\n<g id=\"node1\" class=\"node\">\n<title>139650006561312</title>\n<polygon fill=\"none\" stroke=\"black\" points=\"774,-82.5 774,-118.5 1113,-118.5 1113,-82.5 774,-82.5\"/>\n<text text-anchor=\"middle\" x=\"838\" y=\"-96.8\" font-family=\"Times,serif\" font-size=\"14.00\">x1*w1 + x2*w2</text>\n<polyline fill=\"none\" stroke=\"black\" points=\"902,-82.5 902,-118.5 \"/>\n<text text-anchor=\"middle\" x=\"955.5\" y=\"-96.8\" font-family=\"Times,serif\" font-size=\"14.00\">data &#45;6.0000</text>\n<polyline fill=\"none\" stroke=\"black\" points=\"1009,-82.5 1009,-118.5 \"/>\n<text text-anchor=\"middle\" x=\"1061\" y=\"-96.8\" font-family=\"Times,serif\" font-size=\"14.00\">grad 0.5000</text>\n</g>\n<!-- 139650006555072+ -->\n<g id=\"node14\" class=\"node\">\n<title>139650006555072+</title>\n<ellipse fill=\"none\" stroke=\"black\" cx=\"1176\" cy=\"-127.5\" rx=\"27\" ry=\"18\"/>\n<text text-anchor=\"middle\" x=\"1176\" y=\"-123.8\" font-family=\"Times,serif\" font-size=\"14.00\">+</text>\n</g>\n<!-- 139650006561312&#45;&gt;139650006555072+ -->\n<g id=\"edge10\" class=\"edge\">\n<title>139650006561312&#45;&gt;139650006555072+</title>\n<path fill=\"none\" stroke=\"black\" d=\"M1098.25,-118.51C1113.17,-120.26 1127.12,-121.89 1138.92,-123.27\"/>\n<polygon fill=\"black\" stroke=\"black\" points=\"1138.79,-126.78 1149.13,-124.47 1139.6,-119.83 1138.79,-126.78\"/>\n</g>\n<!-- 139650006561312+ -->\n<g id=\"node2\" class=\"node\">\n<title>139650006561312+</title>\n<ellipse fill=\"none\" stroke=\"black\" cx=\"711\" cy=\"-100.5\" rx=\"27\" ry=\"18\"/>\n<text text-anchor=\"middle\" x=\"711\" y=\"-96.8\" font-family=\"Times,serif\" font-size=\"14.00\">+</text>\n</g>\n<!-- 139650006561312+&#45;&gt;139650006561312 -->\n<g id=\"edge1\" class=\"edge\">\n<title>139650006561312+&#45;&gt;139650006561312</title>\n<path fill=\"none\" stroke=\"black\" d=\"M738.44,-100.5C745.81,-100.5 754.42,-100.5 763.84,-100.5\"/>\n<polygon fill=\"black\" stroke=\"black\" points=\"763.94,-104 773.94,-100.5 763.94,-97 763.94,-104\"/>\n</g>\n<!-- 139650006552624 -->\n<g id=\"node3\" class=\"node\">\n<title>139650006552624</title>\n<polygon fill=\"none\" stroke=\"black\" points=\"375,-110.5 375,-146.5 648,-146.5 648,-110.5 375,-110.5\"/>\n<text text-anchor=\"middle\" x=\"406\" y=\"-124.8\" font-family=\"Times,serif\" font-size=\"14.00\">x1*w1</text>\n<polyline fill=\"none\" stroke=\"black\" points=\"437,-110.5 437,-146.5 \"/>\n<text text-anchor=\"middle\" x=\"490.5\" y=\"-124.8\" font-family=\"Times,serif\" font-size=\"14.00\">data &#45;6.0000</text>\n<polyline fill=\"none\" stroke=\"black\" points=\"544,-110.5 544,-146.5 \"/>\n<text text-anchor=\"middle\" x=\"596\" y=\"-124.8\" font-family=\"Times,serif\" font-size=\"14.00\">grad 0.5000</text>\n</g>\n<!-- 139650006552624&#45;&gt;139650006561312+ -->\n<g id=\"edge11\" class=\"edge\">\n<title>139650006552624&#45;&gt;139650006561312+</title>\n<path fill=\"none\" stroke=\"black\" d=\"M639.53,-110.49C652.09,-108.71 663.99,-107.02 674.3,-105.56\"/>\n<polygon fill=\"black\" stroke=\"black\" points=\"675.03,-108.99 684.44,-104.12 674.05,-102.06 675.03,-108.99\"/>\n</g>\n<!-- 139650006552624* -->\n<g id=\"node4\" class=\"node\">\n<title>139650006552624*</title>\n<ellipse fill=\"none\" stroke=\"black\" cx=\"312\" cy=\"-128.5\" rx=\"27\" ry=\"18\"/>\n<text text-anchor=\"middle\" x=\"312\" y=\"-124.8\" font-family=\"Times,serif\" font-size=\"14.00\">*</text>\n</g>\n<!-- 139650006552624*&#45;&gt;139650006552624 -->\n<g id=\"edge2\" class=\"edge\">\n<title>139650006552624*&#45;&gt;139650006552624</title>\n<path fill=\"none\" stroke=\"black\" d=\"M339.23,-128.5C346.7,-128.5 355.41,-128.5 364.87,-128.5\"/>\n<polygon fill=\"black\" stroke=\"black\" points=\"364.98,-132 374.98,-128.5 364.98,-125 364.98,-132\"/>\n</g>\n<!-- 139650006552096 -->\n<g id=\"node5\" class=\"node\">\n<title>139650006552096</title>\n<polygon fill=\"none\" stroke=\"black\" points=\"2.5,-55.5 2.5,-91.5 246.5,-91.5 246.5,-55.5 2.5,-55.5\"/>\n<text text-anchor=\"middle\" x=\"21.5\" y=\"-69.8\" font-family=\"Times,serif\" font-size=\"14.00\">w2</text>\n<polyline fill=\"none\" stroke=\"black\" points=\"40.5,-55.5 40.5,-91.5 \"/>\n<text text-anchor=\"middle\" x=\"91.5\" y=\"-69.8\" font-family=\"Times,serif\" font-size=\"14.00\">data 1.0000</text>\n<polyline fill=\"none\" stroke=\"black\" points=\"142.5,-55.5 142.5,-91.5 \"/>\n<text text-anchor=\"middle\" x=\"194.5\" y=\"-69.8\" font-family=\"Times,serif\" font-size=\"14.00\">grad 0.0000</text>\n</g>\n<!-- 139650006552000* -->\n<g id=\"node12\" class=\"node\">\n<title>139650006552000*</title>\n<ellipse fill=\"none\" stroke=\"black\" cx=\"312\" cy=\"-73.5\" rx=\"27\" ry=\"18\"/>\n<text text-anchor=\"middle\" x=\"312\" y=\"-69.8\" font-family=\"Times,serif\" font-size=\"14.00\">*</text>\n</g>\n<!-- 139650006552096&#45;&gt;139650006552000* -->\n<g id=\"edge13\" class=\"edge\">\n<title>139650006552096&#45;&gt;139650006552000*</title>\n<path fill=\"none\" stroke=\"black\" d=\"M246.64,-73.5C256.7,-73.5 266.26,-73.5 274.79,-73.5\"/>\n<polygon fill=\"black\" stroke=\"black\" points=\"275,-77 285,-73.5 275,-70 275,-77\"/>\n</g>\n<!-- 139650006564480 -->\n<g id=\"node6\" class=\"node\">\n<title>139650006564480</title>\n<polygon fill=\"none\" stroke=\"black\" points=\"2.5,-165.5 2.5,-201.5 246.5,-201.5 246.5,-165.5 2.5,-165.5\"/>\n<text text-anchor=\"middle\" x=\"19.5\" y=\"-179.8\" font-family=\"Times,serif\" font-size=\"14.00\">x1</text>\n<polyline fill=\"none\" stroke=\"black\" points=\"36.5,-165.5 36.5,-201.5 \"/>\n<text text-anchor=\"middle\" x=\"87.5\" y=\"-179.8\" font-family=\"Times,serif\" font-size=\"14.00\">data 2.0000</text>\n<polyline fill=\"none\" stroke=\"black\" points=\"138.5,-165.5 138.5,-201.5 \"/>\n<text text-anchor=\"middle\" x=\"192.5\" y=\"-179.8\" font-family=\"Times,serif\" font-size=\"14.00\">grad &#45;1.5000</text>\n</g>\n<!-- 139650006564480&#45;&gt;139650006552624* -->\n<g id=\"edge12\" class=\"edge\">\n<title>139650006564480&#45;&gt;139650006552624*</title>\n<path fill=\"none\" stroke=\"black\" d=\"M218.13,-165.46C228.63,-162.77 239.1,-159.78 249,-156.5 259.71,-152.96 271.05,-148.16 281.07,-143.54\"/>\n<polygon fill=\"black\" stroke=\"black\" points=\"282.67,-146.66 290.2,-139.21 279.67,-140.33 282.67,-146.66\"/>\n</g>\n<!-- 139650006560400 -->\n<g id=\"node7\" class=\"node\">\n<title>139650006560400</title>\n<polygon fill=\"none\" stroke=\"black\" points=\"1606.69,-109.5 1606.69,-145.5 1837.69,-145.5 1837.69,-109.5 1606.69,-109.5\"/>\n<text text-anchor=\"middle\" x=\"1619.19\" y=\"-123.8\" font-family=\"Times,serif\" font-size=\"14.00\">o</text>\n<polyline fill=\"none\" stroke=\"black\" points=\"1631.69,-109.5 1631.69,-145.5 \"/>\n<text text-anchor=\"middle\" x=\"1682.69\" y=\"-123.8\" font-family=\"Times,serif\" font-size=\"14.00\">data 0.7071</text>\n<polyline fill=\"none\" stroke=\"black\" points=\"1733.69,-109.5 1733.69,-145.5 \"/>\n<text text-anchor=\"middle\" x=\"1785.69\" y=\"-123.8\" font-family=\"Times,serif\" font-size=\"14.00\">grad 1.0000</text>\n</g>\n<!-- 139650006560400tanh -->\n<g id=\"node8\" class=\"node\">\n<title>139650006560400tanh</title>\n<ellipse fill=\"none\" stroke=\"black\" cx=\"1538.85\" cy=\"-127.5\" rx=\"31.7\" ry=\"18\"/>\n<text text-anchor=\"middle\" x=\"1538.85\" y=\"-123.8\" font-family=\"Times,serif\" font-size=\"14.00\">tanh</text>\n</g>\n<!-- 139650006560400tanh&#45;&gt;139650006560400 -->\n<g id=\"edge3\" class=\"edge\">\n<title>139650006560400tanh&#45;&gt;139650006560400</title>\n<path fill=\"none\" stroke=\"black\" d=\"M1571.02,-127.5C1578.61,-127.5 1587.19,-127.5 1596.31,-127.5\"/>\n<polygon fill=\"black\" stroke=\"black\" points=\"1596.4,-131 1606.4,-127.5 1596.4,-124 1596.4,-131\"/>\n</g>\n<!-- 139650006562752 -->\n<g id=\"node9\" class=\"node\">\n<title>139650006562752</title>\n<polygon fill=\"none\" stroke=\"black\" points=\"0,-110.5 0,-146.5 249,-146.5 249,-110.5 0,-110.5\"/>\n<text text-anchor=\"middle\" x=\"19\" y=\"-124.8\" font-family=\"Times,serif\" font-size=\"14.00\">w1</text>\n<polyline fill=\"none\" stroke=\"black\" points=\"38,-110.5 38,-146.5 \"/>\n<text text-anchor=\"middle\" x=\"91.5\" y=\"-124.8\" font-family=\"Times,serif\" font-size=\"14.00\">data &#45;3.0000</text>\n<polyline fill=\"none\" stroke=\"black\" points=\"145,-110.5 145,-146.5 \"/>\n<text text-anchor=\"middle\" x=\"197\" y=\"-124.8\" font-family=\"Times,serif\" font-size=\"14.00\">grad 1.0000</text>\n</g>\n<!-- 139650006562752&#45;&gt;139650006552624* -->\n<g id=\"edge6\" class=\"edge\">\n<title>139650006562752&#45;&gt;139650006552624*</title>\n<path fill=\"none\" stroke=\"black\" d=\"M249.23,-128.5C258.37,-128.5 267.05,-128.5 274.87,-128.5\"/>\n<polygon fill=\"black\" stroke=\"black\" points=\"274.95,-132 284.95,-128.5 274.95,-125 274.95,-132\"/>\n</g>\n<!-- 139650006552192 -->\n<g id=\"node10\" class=\"node\">\n<title>139650006552192</title>\n<polygon fill=\"none\" stroke=\"black\" points=\"827.5,-137.5 827.5,-173.5 1059.5,-173.5 1059.5,-137.5 827.5,-137.5\"/>\n<text text-anchor=\"middle\" x=\"840.5\" y=\"-151.8\" font-family=\"Times,serif\" font-size=\"14.00\">b</text>\n<polyline fill=\"none\" stroke=\"black\" points=\"853.5,-137.5 853.5,-173.5 \"/>\n<text text-anchor=\"middle\" x=\"904.5\" y=\"-151.8\" font-family=\"Times,serif\" font-size=\"14.00\">data 6.8814</text>\n<polyline fill=\"none\" stroke=\"black\" points=\"955.5,-137.5 955.5,-173.5 \"/>\n<text text-anchor=\"middle\" x=\"1007.5\" y=\"-151.8\" font-family=\"Times,serif\" font-size=\"14.00\">grad 0.5000</text>\n</g>\n<!-- 139650006552192&#45;&gt;139650006555072+ -->\n<g id=\"edge14\" class=\"edge\">\n<title>139650006552192&#45;&gt;139650006555072+</title>\n<path fill=\"none\" stroke=\"black\" d=\"M1059.75,-141.5C1088.57,-138 1117.4,-134.5 1139.01,-131.87\"/>\n<polygon fill=\"black\" stroke=\"black\" points=\"1139.5,-135.34 1149.01,-130.66 1138.66,-128.39 1139.5,-135.34\"/>\n</g>\n<!-- 139650006552000 -->\n<g id=\"node11\" class=\"node\">\n<title>139650006552000</title>\n<polygon fill=\"none\" stroke=\"black\" points=\"377.5,-55.5 377.5,-91.5 645.5,-91.5 645.5,-55.5 377.5,-55.5\"/>\n<text text-anchor=\"middle\" x=\"408.5\" y=\"-69.8\" font-family=\"Times,serif\" font-size=\"14.00\">x2*w2</text>\n<polyline fill=\"none\" stroke=\"black\" points=\"439.5,-55.5 439.5,-91.5 \"/>\n<text text-anchor=\"middle\" x=\"490.5\" y=\"-69.8\" font-family=\"Times,serif\" font-size=\"14.00\">data 0.0000</text>\n<polyline fill=\"none\" stroke=\"black\" points=\"541.5,-55.5 541.5,-91.5 \"/>\n<text text-anchor=\"middle\" x=\"593.5\" y=\"-69.8\" font-family=\"Times,serif\" font-size=\"14.00\">grad 0.5000</text>\n</g>\n<!-- 139650006552000&#45;&gt;139650006561312+ -->\n<g id=\"edge9\" class=\"edge\">\n<title>139650006552000&#45;&gt;139650006561312+</title>\n<path fill=\"none\" stroke=\"black\" d=\"M644.24,-91.51C655.12,-93 665.4,-94.4 674.45,-95.64\"/>\n<polygon fill=\"black\" stroke=\"black\" points=\"674.11,-99.13 684.49,-97.01 675.05,-92.19 674.11,-99.13\"/>\n</g>\n<!-- 139650006552000*&#45;&gt;139650006552000 -->\n<g id=\"edge4\" class=\"edge\">\n<title>139650006552000*&#45;&gt;139650006552000</title>\n<path fill=\"none\" stroke=\"black\" d=\"M339.23,-73.5C347.26,-73.5 356.72,-73.5 366.99,-73.5\"/>\n<polygon fill=\"black\" stroke=\"black\" points=\"367.08,-77 377.08,-73.5 367.08,-70 367.08,-77\"/>\n</g>\n<!-- 139650006555072 -->\n<g id=\"node13\" class=\"node\">\n<title>139650006555072</title>\n<polygon fill=\"none\" stroke=\"black\" points=\"1239,-109.5 1239,-145.5 1471,-145.5 1471,-109.5 1239,-109.5\"/>\n<text text-anchor=\"middle\" x=\"1252\" y=\"-123.8\" font-family=\"Times,serif\" font-size=\"14.00\">n</text>\n<polyline fill=\"none\" stroke=\"black\" points=\"1265,-109.5 1265,-145.5 \"/>\n<text text-anchor=\"middle\" x=\"1316\" y=\"-123.8\" font-family=\"Times,serif\" font-size=\"14.00\">data 0.8814</text>\n<polyline fill=\"none\" stroke=\"black\" points=\"1367,-109.5 1367,-145.5 \"/>\n<text text-anchor=\"middle\" x=\"1419\" y=\"-123.8\" font-family=\"Times,serif\" font-size=\"14.00\">grad 0.5000</text>\n</g>\n<!-- 139650006555072&#45;&gt;139650006560400tanh -->\n<g id=\"edge8\" class=\"edge\">\n<title>139650006555072&#45;&gt;139650006560400tanh</title>\n<path fill=\"none\" stroke=\"black\" d=\"M1471.17,-127.5C1480.08,-127.5 1488.66,-127.5 1496.53,-127.5\"/>\n<polygon fill=\"black\" stroke=\"black\" points=\"1496.78,-131 1506.78,-127.5 1496.78,-124 1496.78,-131\"/>\n</g>\n<!-- 139650006555072+&#45;&gt;139650006555072 -->\n<g id=\"edge5\" class=\"edge\">\n<title>139650006555072+&#45;&gt;139650006555072</title>\n<path fill=\"none\" stroke=\"black\" d=\"M1203.12,-127.5C1210.53,-127.5 1219.14,-127.5 1228.4,-127.5\"/>\n<polygon fill=\"black\" stroke=\"black\" points=\"1228.69,-131 1238.69,-127.5 1228.69,-124 1228.69,-131\"/>\n</g>\n<!-- 139650006562800 -->\n<g id=\"node15\" class=\"node\">\n<title>139650006562800</title>\n<polygon fill=\"none\" stroke=\"black\" points=\"4.5,-0.5 4.5,-36.5 244.5,-36.5 244.5,-0.5 4.5,-0.5\"/>\n<text text-anchor=\"middle\" x=\"21.5\" y=\"-14.8\" font-family=\"Times,serif\" font-size=\"14.00\">x2</text>\n<polyline fill=\"none\" stroke=\"black\" points=\"38.5,-0.5 38.5,-36.5 \"/>\n<text text-anchor=\"middle\" x=\"89.5\" y=\"-14.8\" font-family=\"Times,serif\" font-size=\"14.00\">data 0.0000</text>\n<polyline fill=\"none\" stroke=\"black\" points=\"140.5,-0.5 140.5,-36.5 \"/>\n<text text-anchor=\"middle\" x=\"192.5\" y=\"-14.8\" font-family=\"Times,serif\" font-size=\"14.00\">grad 0.5000</text>\n</g>\n<!-- 139650006562800&#45;&gt;139650006552000* -->\n<g id=\"edge7\" class=\"edge\">\n<title>139650006562800&#45;&gt;139650006552000*</title>\n<path fill=\"none\" stroke=\"black\" d=\"M214.42,-36.55C226.15,-39.54 237.93,-42.87 249,-46.5 259.46,-49.93 270.57,-54.47 280.46,-58.84\"/>\n<polygon fill=\"black\" stroke=\"black\" points=\"279.31,-62.17 289.87,-63.12 282.21,-55.79 279.31,-62.17\"/>\n</g>\n</g>\n</svg>\n",
            "text/plain": [
              "<graphviz.graphs.Digraph at 0x7f02cd08ada0>"
            ]
          },
          "execution_count": 21,
          "metadata": {},
          "output_type": "execute_result"
        }
      ],
      "source": [
        "def test():\n",
        "    # inputs x1, x2\n",
        "    x1 = Value(2.0).label(\"x1\")\n",
        "    x2 = Value(0.0).label(\"x2\")\n",
        "    # weights w1, w2\n",
        "    w1 = Value(-3.0).label(\"w1\")\n",
        "    w2 = Value(1.0).label(\"w2\")\n",
        "    # bias of the neuron\n",
        "    b = Value(6.8813735870195432).label(\"b\")\n",
        "    # x1*w1 + x2*w2 + b\n",
        "    x1w1 = (x1 * w1).label(\"x1*w1\")\n",
        "    x2w2 = (x2 * w2).label(\"x2*w2\")\n",
        "    x1w1x2w2 = (x1w1 + x2w2).label(\"x1*w1 + x2*w2\")\n",
        "    n = (x1w1x2w2 + b).label(\"n\")\n",
        "    o = n.tanh().label(\"o\")\n",
        "\n",
        "    o.grad = 1.0\n",
        "    o._backward()\n",
        "    n._backward()\n",
        "    b._backward()\n",
        "    x1w1x2w2._backward()\n",
        "    x1w1._backward()\n",
        "    x2w2._backward()\n",
        "    x1._backward()\n",
        "    x2._backward()\n",
        "    w1._backward()\n",
        "    w2._backward()\n",
        "\n",
        "    return draw_dot(o)\n",
        "\n",
        "\n",
        "test()\n"
      ]
    },
    {
      "attachments": {},
      "cell_type": "markdown",
      "metadata": {},
      "source": [
        "### For a whole expression graph"
      ]
    },
    {
      "attachments": {},
      "cell_type": "markdown",
      "metadata": {},
      "source": [
        "#### Andrej Karpathy's implementation (topological sort)"
      ]
    },
    {
      "attachments": {},
      "cell_type": "markdown",
      "metadata": {},
      "source": [
        "```python\n",
        "def backward(self):\n",
        "\n",
        "    topo = []\n",
        "    visited = set()\n",
        "    def build_topo(v):\n",
        "        if v not in visited:\n",
        "            visited.add(v)\n",
        "            for child in v._prev:\n",
        "                build_topo(child)\n",
        "            topo.append(v)\n",
        "    build_topo(self)\n",
        "\n",
        "    self.grad = 1.0\n",
        "    for node in reversed(topo):\n",
        "        node._backward()\n",
        "```"
      ]
    },
    {
      "cell_type": "code",
      "execution_count": 22,
      "metadata": {},
      "outputs": [
        {
          "data": {
            "image/svg+xml": "<?xml version=\"1.0\" encoding=\"UTF-8\" standalone=\"no\"?>\n<!DOCTYPE svg PUBLIC \"-//W3C//DTD SVG 1.1//EN\"\n \"http://www.w3.org/Graphics/SVG/1.1/DTD/svg11.dtd\">\n<!-- Generated by graphviz version 2.43.0 (0)\n -->\n<!-- Title: %3 Pages: 1 -->\n<svg width=\"1846pt\" height=\"210pt\"\n viewBox=\"0.00 0.00 1845.69 210.00\" xmlns=\"http://www.w3.org/2000/svg\" xmlns:xlink=\"http://www.w3.org/1999/xlink\">\n<g id=\"graph0\" class=\"graph\" transform=\"scale(1 1) rotate(0) translate(4 206)\">\n<title>%3</title>\n<polygon fill=\"white\" stroke=\"transparent\" points=\"-4,4 -4,-206 1841.69,-206 1841.69,4 -4,4\"/>\n<!-- 139650006559248 -->\n<g id=\"node1\" class=\"node\">\n<title>139650006559248</title>\n<polygon fill=\"none\" stroke=\"black\" points=\"2.5,-165.5 2.5,-201.5 246.5,-201.5 246.5,-165.5 2.5,-165.5\"/>\n<text text-anchor=\"middle\" x=\"21.5\" y=\"-179.8\" font-family=\"Times,serif\" font-size=\"14.00\">w2</text>\n<polyline fill=\"none\" stroke=\"black\" points=\"40.5,-165.5 40.5,-201.5 \"/>\n<text text-anchor=\"middle\" x=\"91.5\" y=\"-179.8\" font-family=\"Times,serif\" font-size=\"14.00\">data 1.0000</text>\n<polyline fill=\"none\" stroke=\"black\" points=\"142.5,-165.5 142.5,-201.5 \"/>\n<text text-anchor=\"middle\" x=\"194.5\" y=\"-179.8\" font-family=\"Times,serif\" font-size=\"14.00\">grad 0.0000</text>\n</g>\n<!-- 139650006561168* -->\n<g id=\"node11\" class=\"node\">\n<title>139650006561168*</title>\n<ellipse fill=\"none\" stroke=\"black\" cx=\"312\" cy=\"-128.5\" rx=\"27\" ry=\"18\"/>\n<text text-anchor=\"middle\" x=\"312\" y=\"-124.8\" font-family=\"Times,serif\" font-size=\"14.00\">*</text>\n</g>\n<!-- 139650006559248&#45;&gt;139650006561168* -->\n<g id=\"edge14\" class=\"edge\">\n<title>139650006559248&#45;&gt;139650006561168*</title>\n<path fill=\"none\" stroke=\"black\" d=\"M218.13,-165.46C228.63,-162.77 239.1,-159.78 249,-156.5 259.71,-152.96 271.05,-148.16 281.07,-143.54\"/>\n<polygon fill=\"black\" stroke=\"black\" points=\"282.67,-146.66 290.2,-139.21 279.67,-140.33 282.67,-146.66\"/>\n</g>\n<!-- 139650006552144 -->\n<g id=\"node2\" class=\"node\">\n<title>139650006552144</title>\n<polygon fill=\"none\" stroke=\"black\" points=\"0,-55.5 0,-91.5 249,-91.5 249,-55.5 0,-55.5\"/>\n<text text-anchor=\"middle\" x=\"19\" y=\"-69.8\" font-family=\"Times,serif\" font-size=\"14.00\">w1</text>\n<polyline fill=\"none\" stroke=\"black\" points=\"38,-55.5 38,-91.5 \"/>\n<text text-anchor=\"middle\" x=\"91.5\" y=\"-69.8\" font-family=\"Times,serif\" font-size=\"14.00\">data &#45;3.0000</text>\n<polyline fill=\"none\" stroke=\"black\" points=\"145,-55.5 145,-91.5 \"/>\n<text text-anchor=\"middle\" x=\"197\" y=\"-69.8\" font-family=\"Times,serif\" font-size=\"14.00\">grad 1.0000</text>\n</g>\n<!-- 139650006561936* -->\n<g id=\"node6\" class=\"node\">\n<title>139650006561936*</title>\n<ellipse fill=\"none\" stroke=\"black\" cx=\"312\" cy=\"-73.5\" rx=\"27\" ry=\"18\"/>\n<text text-anchor=\"middle\" x=\"312\" y=\"-69.8\" font-family=\"Times,serif\" font-size=\"14.00\">*</text>\n</g>\n<!-- 139650006552144&#45;&gt;139650006561936* -->\n<g id=\"edge6\" class=\"edge\">\n<title>139650006552144&#45;&gt;139650006561936*</title>\n<path fill=\"none\" stroke=\"black\" d=\"M249.23,-73.5C258.37,-73.5 267.05,-73.5 274.87,-73.5\"/>\n<polygon fill=\"black\" stroke=\"black\" points=\"274.95,-77 284.95,-73.5 274.95,-70 274.95,-77\"/>\n</g>\n<!-- 139650006550656 -->\n<g id=\"node3\" class=\"node\">\n<title>139650006550656</title>\n<polygon fill=\"none\" stroke=\"black\" points=\"774,-82.5 774,-118.5 1113,-118.5 1113,-82.5 774,-82.5\"/>\n<text text-anchor=\"middle\" x=\"838\" y=\"-96.8\" font-family=\"Times,serif\" font-size=\"14.00\">x1*w1 + x2*w2</text>\n<polyline fill=\"none\" stroke=\"black\" points=\"902,-82.5 902,-118.5 \"/>\n<text text-anchor=\"middle\" x=\"955.5\" y=\"-96.8\" font-family=\"Times,serif\" font-size=\"14.00\">data &#45;6.0000</text>\n<polyline fill=\"none\" stroke=\"black\" points=\"1009,-82.5 1009,-118.5 \"/>\n<text text-anchor=\"middle\" x=\"1061\" y=\"-96.8\" font-family=\"Times,serif\" font-size=\"14.00\">grad 0.5000</text>\n</g>\n<!-- 139650006552000+ -->\n<g id=\"node13\" class=\"node\">\n<title>139650006552000+</title>\n<ellipse fill=\"none\" stroke=\"black\" cx=\"1176\" cy=\"-72.5\" rx=\"27\" ry=\"18\"/>\n<text text-anchor=\"middle\" x=\"1176\" y=\"-68.8\" font-family=\"Times,serif\" font-size=\"14.00\">+</text>\n</g>\n<!-- 139650006550656&#45;&gt;139650006552000+ -->\n<g id=\"edge13\" class=\"edge\">\n<title>139650006550656&#45;&gt;139650006552000+</title>\n<path fill=\"none\" stroke=\"black\" d=\"M1092.76,-82.49C1109.86,-80.41 1125.9,-78.46 1139.2,-76.85\"/>\n<polygon fill=\"black\" stroke=\"black\" points=\"1139.74,-80.31 1149.24,-75.63 1138.89,-73.36 1139.74,-80.31\"/>\n</g>\n<!-- 139650006550656+ -->\n<g id=\"node4\" class=\"node\">\n<title>139650006550656+</title>\n<ellipse fill=\"none\" stroke=\"black\" cx=\"711\" cy=\"-100.5\" rx=\"27\" ry=\"18\"/>\n<text text-anchor=\"middle\" x=\"711\" y=\"-96.8\" font-family=\"Times,serif\" font-size=\"14.00\">+</text>\n</g>\n<!-- 139650006550656+&#45;&gt;139650006550656 -->\n<g id=\"edge1\" class=\"edge\">\n<title>139650006550656+&#45;&gt;139650006550656</title>\n<path fill=\"none\" stroke=\"black\" d=\"M738.44,-100.5C745.81,-100.5 754.42,-100.5 763.84,-100.5\"/>\n<polygon fill=\"black\" stroke=\"black\" points=\"763.94,-104 773.94,-100.5 763.94,-97 763.94,-104\"/>\n</g>\n<!-- 139650006561936 -->\n<g id=\"node5\" class=\"node\">\n<title>139650006561936</title>\n<polygon fill=\"none\" stroke=\"black\" points=\"375,-55.5 375,-91.5 648,-91.5 648,-55.5 375,-55.5\"/>\n<text text-anchor=\"middle\" x=\"406\" y=\"-69.8\" font-family=\"Times,serif\" font-size=\"14.00\">x1*w1</text>\n<polyline fill=\"none\" stroke=\"black\" points=\"437,-55.5 437,-91.5 \"/>\n<text text-anchor=\"middle\" x=\"490.5\" y=\"-69.8\" font-family=\"Times,serif\" font-size=\"14.00\">data &#45;6.0000</text>\n<polyline fill=\"none\" stroke=\"black\" points=\"544,-55.5 544,-91.5 \"/>\n<text text-anchor=\"middle\" x=\"596\" y=\"-69.8\" font-family=\"Times,serif\" font-size=\"14.00\">grad 0.5000</text>\n</g>\n<!-- 139650006561936&#45;&gt;139650006550656+ -->\n<g id=\"edge12\" class=\"edge\">\n<title>139650006561936&#45;&gt;139650006550656+</title>\n<path fill=\"none\" stroke=\"black\" d=\"M644.24,-91.51C655.12,-93 665.4,-94.4 674.45,-95.64\"/>\n<polygon fill=\"black\" stroke=\"black\" points=\"674.11,-99.13 684.49,-97.01 675.05,-92.19 674.11,-99.13\"/>\n</g>\n<!-- 139650006561936*&#45;&gt;139650006561936 -->\n<g id=\"edge2\" class=\"edge\">\n<title>139650006561936*&#45;&gt;139650006561936</title>\n<path fill=\"none\" stroke=\"black\" d=\"M339.23,-73.5C346.7,-73.5 355.41,-73.5 364.87,-73.5\"/>\n<polygon fill=\"black\" stroke=\"black\" points=\"364.98,-77 374.98,-73.5 364.98,-70 364.98,-77\"/>\n</g>\n<!-- 139650006552240 -->\n<g id=\"node7\" class=\"node\">\n<title>139650006552240</title>\n<polygon fill=\"none\" stroke=\"black\" points=\"2.5,-0.5 2.5,-36.5 246.5,-36.5 246.5,-0.5 2.5,-0.5\"/>\n<text text-anchor=\"middle\" x=\"19.5\" y=\"-14.8\" font-family=\"Times,serif\" font-size=\"14.00\">x1</text>\n<polyline fill=\"none\" stroke=\"black\" points=\"36.5,-0.5 36.5,-36.5 \"/>\n<text text-anchor=\"middle\" x=\"87.5\" y=\"-14.8\" font-family=\"Times,serif\" font-size=\"14.00\">data 2.0000</text>\n<polyline fill=\"none\" stroke=\"black\" points=\"138.5,-0.5 138.5,-36.5 \"/>\n<text text-anchor=\"middle\" x=\"192.5\" y=\"-14.8\" font-family=\"Times,serif\" font-size=\"14.00\">grad &#45;1.5000</text>\n</g>\n<!-- 139650006552240&#45;&gt;139650006561936* -->\n<g id=\"edge7\" class=\"edge\">\n<title>139650006552240&#45;&gt;139650006561936*</title>\n<path fill=\"none\" stroke=\"black\" d=\"M214.42,-36.55C226.15,-39.54 237.93,-42.87 249,-46.5 259.46,-49.93 270.57,-54.47 280.46,-58.84\"/>\n<polygon fill=\"black\" stroke=\"black\" points=\"279.31,-62.17 289.87,-63.12 282.21,-55.79 279.31,-62.17\"/>\n</g>\n<!-- 139650006559056 -->\n<g id=\"node8\" class=\"node\">\n<title>139650006559056</title>\n<polygon fill=\"none\" stroke=\"black\" points=\"1606.69,-54.5 1606.69,-90.5 1837.69,-90.5 1837.69,-54.5 1606.69,-54.5\"/>\n<text text-anchor=\"middle\" x=\"1619.19\" y=\"-68.8\" font-family=\"Times,serif\" font-size=\"14.00\">o</text>\n<polyline fill=\"none\" stroke=\"black\" points=\"1631.69,-54.5 1631.69,-90.5 \"/>\n<text text-anchor=\"middle\" x=\"1682.69\" y=\"-68.8\" font-family=\"Times,serif\" font-size=\"14.00\">data 0.7071</text>\n<polyline fill=\"none\" stroke=\"black\" points=\"1733.69,-54.5 1733.69,-90.5 \"/>\n<text text-anchor=\"middle\" x=\"1785.69\" y=\"-68.8\" font-family=\"Times,serif\" font-size=\"14.00\">grad 1.0000</text>\n</g>\n<!-- 139650006559056tanh -->\n<g id=\"node9\" class=\"node\">\n<title>139650006559056tanh</title>\n<ellipse fill=\"none\" stroke=\"black\" cx=\"1538.85\" cy=\"-72.5\" rx=\"31.7\" ry=\"18\"/>\n<text text-anchor=\"middle\" x=\"1538.85\" y=\"-68.8\" font-family=\"Times,serif\" font-size=\"14.00\">tanh</text>\n</g>\n<!-- 139650006559056tanh&#45;&gt;139650006559056 -->\n<g id=\"edge3\" class=\"edge\">\n<title>139650006559056tanh&#45;&gt;139650006559056</title>\n<path fill=\"none\" stroke=\"black\" d=\"M1571.02,-72.5C1578.61,-72.5 1587.19,-72.5 1596.31,-72.5\"/>\n<polygon fill=\"black\" stroke=\"black\" points=\"1596.4,-76 1606.4,-72.5 1596.4,-69 1596.4,-76\"/>\n</g>\n<!-- 139650006561168 -->\n<g id=\"node10\" class=\"node\">\n<title>139650006561168</title>\n<polygon fill=\"none\" stroke=\"black\" points=\"377.5,-110.5 377.5,-146.5 645.5,-146.5 645.5,-110.5 377.5,-110.5\"/>\n<text text-anchor=\"middle\" x=\"408.5\" y=\"-124.8\" font-family=\"Times,serif\" font-size=\"14.00\">x2*w2</text>\n<polyline fill=\"none\" stroke=\"black\" points=\"439.5,-110.5 439.5,-146.5 \"/>\n<text text-anchor=\"middle\" x=\"490.5\" y=\"-124.8\" font-family=\"Times,serif\" font-size=\"14.00\">data 0.0000</text>\n<polyline fill=\"none\" stroke=\"black\" points=\"541.5,-110.5 541.5,-146.5 \"/>\n<text text-anchor=\"middle\" x=\"593.5\" y=\"-124.8\" font-family=\"Times,serif\" font-size=\"14.00\">grad 0.5000</text>\n</g>\n<!-- 139650006561168&#45;&gt;139650006550656+ -->\n<g id=\"edge8\" class=\"edge\">\n<title>139650006561168&#45;&gt;139650006550656+</title>\n<path fill=\"none\" stroke=\"black\" d=\"M639.53,-110.49C652.09,-108.71 663.99,-107.02 674.3,-105.56\"/>\n<polygon fill=\"black\" stroke=\"black\" points=\"675.03,-108.99 684.44,-104.12 674.05,-102.06 675.03,-108.99\"/>\n</g>\n<!-- 139650006561168*&#45;&gt;139650006561168 -->\n<g id=\"edge4\" class=\"edge\">\n<title>139650006561168*&#45;&gt;139650006561168</title>\n<path fill=\"none\" stroke=\"black\" d=\"M339.23,-128.5C347.26,-128.5 356.72,-128.5 366.99,-128.5\"/>\n<polygon fill=\"black\" stroke=\"black\" points=\"367.08,-132 377.08,-128.5 367.08,-125 367.08,-132\"/>\n</g>\n<!-- 139650006552000 -->\n<g id=\"node12\" class=\"node\">\n<title>139650006552000</title>\n<polygon fill=\"none\" stroke=\"black\" points=\"1239,-54.5 1239,-90.5 1471,-90.5 1471,-54.5 1239,-54.5\"/>\n<text text-anchor=\"middle\" x=\"1252\" y=\"-68.8\" font-family=\"Times,serif\" font-size=\"14.00\">n</text>\n<polyline fill=\"none\" stroke=\"black\" points=\"1265,-54.5 1265,-90.5 \"/>\n<text text-anchor=\"middle\" x=\"1316\" y=\"-68.8\" font-family=\"Times,serif\" font-size=\"14.00\">data 0.8814</text>\n<polyline fill=\"none\" stroke=\"black\" points=\"1367,-54.5 1367,-90.5 \"/>\n<text text-anchor=\"middle\" x=\"1419\" y=\"-68.8\" font-family=\"Times,serif\" font-size=\"14.00\">grad 0.5000</text>\n</g>\n<!-- 139650006552000&#45;&gt;139650006559056tanh -->\n<g id=\"edge9\" class=\"edge\">\n<title>139650006552000&#45;&gt;139650006559056tanh</title>\n<path fill=\"none\" stroke=\"black\" d=\"M1471.17,-72.5C1480.08,-72.5 1488.66,-72.5 1496.53,-72.5\"/>\n<polygon fill=\"black\" stroke=\"black\" points=\"1496.78,-76 1506.78,-72.5 1496.78,-69 1496.78,-76\"/>\n</g>\n<!-- 139650006552000+&#45;&gt;139650006552000 -->\n<g id=\"edge5\" class=\"edge\">\n<title>139650006552000+&#45;&gt;139650006552000</title>\n<path fill=\"none\" stroke=\"black\" d=\"M1203.12,-72.5C1210.53,-72.5 1219.14,-72.5 1228.4,-72.5\"/>\n<polygon fill=\"black\" stroke=\"black\" points=\"1228.69,-76 1238.69,-72.5 1228.69,-69 1228.69,-76\"/>\n</g>\n<!-- 139650006556128 -->\n<g id=\"node14\" class=\"node\">\n<title>139650006556128</title>\n<polygon fill=\"none\" stroke=\"black\" points=\"827.5,-27.5 827.5,-63.5 1059.5,-63.5 1059.5,-27.5 827.5,-27.5\"/>\n<text text-anchor=\"middle\" x=\"840.5\" y=\"-41.8\" font-family=\"Times,serif\" font-size=\"14.00\">b</text>\n<polyline fill=\"none\" stroke=\"black\" points=\"853.5,-27.5 853.5,-63.5 \"/>\n<text text-anchor=\"middle\" x=\"904.5\" y=\"-41.8\" font-family=\"Times,serif\" font-size=\"14.00\">data 6.8814</text>\n<polyline fill=\"none\" stroke=\"black\" points=\"955.5,-27.5 955.5,-63.5 \"/>\n<text text-anchor=\"middle\" x=\"1007.5\" y=\"-41.8\" font-family=\"Times,serif\" font-size=\"14.00\">grad 0.5000</text>\n</g>\n<!-- 139650006556128&#45;&gt;139650006552000+ -->\n<g id=\"edge11\" class=\"edge\">\n<title>139650006556128&#45;&gt;139650006552000+</title>\n<path fill=\"none\" stroke=\"black\" d=\"M1059.75,-59C1088.57,-62.38 1117.4,-65.75 1139.01,-68.28\"/>\n<polygon fill=\"black\" stroke=\"black\" points=\"1138.67,-71.77 1149.01,-69.46 1139.48,-64.82 1138.67,-71.77\"/>\n</g>\n<!-- 139650006552048 -->\n<g id=\"node15\" class=\"node\">\n<title>139650006552048</title>\n<polygon fill=\"none\" stroke=\"black\" points=\"4.5,-110.5 4.5,-146.5 244.5,-146.5 244.5,-110.5 4.5,-110.5\"/>\n<text text-anchor=\"middle\" x=\"21.5\" y=\"-124.8\" font-family=\"Times,serif\" font-size=\"14.00\">x2</text>\n<polyline fill=\"none\" stroke=\"black\" points=\"38.5,-110.5 38.5,-146.5 \"/>\n<text text-anchor=\"middle\" x=\"89.5\" y=\"-124.8\" font-family=\"Times,serif\" font-size=\"14.00\">data 0.0000</text>\n<polyline fill=\"none\" stroke=\"black\" points=\"140.5,-110.5 140.5,-146.5 \"/>\n<text text-anchor=\"middle\" x=\"192.5\" y=\"-124.8\" font-family=\"Times,serif\" font-size=\"14.00\">grad 0.5000</text>\n</g>\n<!-- 139650006552048&#45;&gt;139650006561168* -->\n<g id=\"edge10\" class=\"edge\">\n<title>139650006552048&#45;&gt;139650006561168*</title>\n<path fill=\"none\" stroke=\"black\" d=\"M244.55,-128.5C255.31,-128.5 265.54,-128.5 274.62,-128.5\"/>\n<polygon fill=\"black\" stroke=\"black\" points=\"274.7,-132 284.7,-128.5 274.7,-125 274.7,-132\"/>\n</g>\n</g>\n</svg>\n",
            "text/plain": [
              "<graphviz.graphs.Digraph at 0x7f02cd08a860>"
            ]
          },
          "execution_count": 22,
          "metadata": {},
          "output_type": "execute_result"
        }
      ],
      "source": [
        "def test():\n",
        "    # inputs x1, x2\n",
        "    x1 = Value(2.0).label(\"x1\")\n",
        "    x2 = Value(0.0).label(\"x2\")\n",
        "    # weights w1, w2\n",
        "    w1 = Value(-3.0).label(\"w1\")\n",
        "    w2 = Value(1.0).label(\"w2\")\n",
        "    # bias of the neuron\n",
        "    b = Value(6.8813735870195432).label(\"b\")\n",
        "    # x1*w1 + x2*w2 + b\n",
        "    x1w1 = (x1 * w1).label(\"x1*w1\")\n",
        "    x2w2 = (x2 * w2).label(\"x2*w2\")\n",
        "    x1w1x2w2 = (x1w1 + x2w2).label(\"x1*w1 + x2*w2\")\n",
        "    n = (x1w1x2w2 + b).label(\"n\")\n",
        "    o = n.tanh().label(\"o\")\n",
        "\n",
        "    o.grad = 1.0\n",
        "    o.backward()\n",
        "\n",
        "    return draw_dot(o)\n",
        "\n",
        "\n",
        "test()\n"
      ]
    },
    {
      "attachments": {},
      "cell_type": "markdown",
      "metadata": {},
      "source": [
        "#### My implementation"
      ]
    },
    {
      "attachments": {},
      "cell_type": "markdown",
      "metadata": {},
      "source": [
        "```python\n",
        "def backward(self):\n",
        "    self._backward()\n",
        "    for child in self._prev:\n",
        "        child.backward()\n",
        "```"
      ]
    },
    {
      "cell_type": "code",
      "execution_count": 23,
      "metadata": {},
      "outputs": [
        {
          "data": {
            "image/svg+xml": "<?xml version=\"1.0\" encoding=\"UTF-8\" standalone=\"no\"?>\n<!DOCTYPE svg PUBLIC \"-//W3C//DTD SVG 1.1//EN\"\n \"http://www.w3.org/Graphics/SVG/1.1/DTD/svg11.dtd\">\n<!-- Generated by graphviz version 2.43.0 (0)\n -->\n<!-- Title: %3 Pages: 1 -->\n<svg width=\"1846pt\" height=\"210pt\"\n viewBox=\"0.00 0.00 1845.69 210.00\" xmlns=\"http://www.w3.org/2000/svg\" xmlns:xlink=\"http://www.w3.org/1999/xlink\">\n<g id=\"graph0\" class=\"graph\" transform=\"scale(1 1) rotate(0) translate(4 206)\">\n<title>%3</title>\n<polygon fill=\"white\" stroke=\"transparent\" points=\"-4,4 -4,-206 1841.69,-206 1841.69,4 -4,4\"/>\n<!-- 139650006563376 -->\n<g id=\"node1\" class=\"node\">\n<title>139650006563376</title>\n<polygon fill=\"none\" stroke=\"black\" points=\"4.5,-165.5 4.5,-201.5 244.5,-201.5 244.5,-165.5 4.5,-165.5\"/>\n<text text-anchor=\"middle\" x=\"21.5\" y=\"-179.8\" font-family=\"Times,serif\" font-size=\"14.00\">x2</text>\n<polyline fill=\"none\" stroke=\"black\" points=\"38.5,-165.5 38.5,-201.5 \"/>\n<text text-anchor=\"middle\" x=\"89.5\" y=\"-179.8\" font-family=\"Times,serif\" font-size=\"14.00\">data 0.0000</text>\n<polyline fill=\"none\" stroke=\"black\" points=\"140.5,-165.5 140.5,-201.5 \"/>\n<text text-anchor=\"middle\" x=\"192.5\" y=\"-179.8\" font-family=\"Times,serif\" font-size=\"14.00\">grad 0.5000</text>\n</g>\n<!-- 139650006552864* -->\n<g id=\"node10\" class=\"node\">\n<title>139650006552864*</title>\n<ellipse fill=\"none\" stroke=\"black\" cx=\"312\" cy=\"-128.5\" rx=\"27\" ry=\"18\"/>\n<text text-anchor=\"middle\" x=\"312\" y=\"-124.8\" font-family=\"Times,serif\" font-size=\"14.00\">*</text>\n</g>\n<!-- 139650006563376&#45;&gt;139650006552864* -->\n<g id=\"edge11\" class=\"edge\">\n<title>139650006563376&#45;&gt;139650006552864*</title>\n<path fill=\"none\" stroke=\"black\" d=\"M218.13,-165.46C228.63,-162.77 239.1,-159.78 249,-156.5 259.71,-152.96 271.05,-148.16 281.07,-143.54\"/>\n<polygon fill=\"black\" stroke=\"black\" points=\"282.67,-146.66 290.2,-139.21 279.67,-140.33 282.67,-146.66\"/>\n</g>\n<!-- 139650006556800 -->\n<g id=\"node2\" class=\"node\">\n<title>139650006556800</title>\n<polygon fill=\"none\" stroke=\"black\" points=\"2.5,-110.5 2.5,-146.5 246.5,-146.5 246.5,-110.5 2.5,-110.5\"/>\n<text text-anchor=\"middle\" x=\"21.5\" y=\"-124.8\" font-family=\"Times,serif\" font-size=\"14.00\">w2</text>\n<polyline fill=\"none\" stroke=\"black\" points=\"40.5,-110.5 40.5,-146.5 \"/>\n<text text-anchor=\"middle\" x=\"91.5\" y=\"-124.8\" font-family=\"Times,serif\" font-size=\"14.00\">data 1.0000</text>\n<polyline fill=\"none\" stroke=\"black\" points=\"142.5,-110.5 142.5,-146.5 \"/>\n<text text-anchor=\"middle\" x=\"194.5\" y=\"-124.8\" font-family=\"Times,serif\" font-size=\"14.00\">grad 0.0000</text>\n</g>\n<!-- 139650006556800&#45;&gt;139650006552864* -->\n<g id=\"edge9\" class=\"edge\">\n<title>139650006556800&#45;&gt;139650006552864*</title>\n<path fill=\"none\" stroke=\"black\" d=\"M246.64,-128.5C256.7,-128.5 266.26,-128.5 274.79,-128.5\"/>\n<polygon fill=\"black\" stroke=\"black\" points=\"275,-132 285,-128.5 275,-125 275,-132\"/>\n</g>\n<!-- 139650006559392 -->\n<g id=\"node3\" class=\"node\">\n<title>139650006559392</title>\n<polygon fill=\"none\" stroke=\"black\" points=\"1606.69,-54.5 1606.69,-90.5 1837.69,-90.5 1837.69,-54.5 1606.69,-54.5\"/>\n<text text-anchor=\"middle\" x=\"1619.19\" y=\"-68.8\" font-family=\"Times,serif\" font-size=\"14.00\">o</text>\n<polyline fill=\"none\" stroke=\"black\" points=\"1631.69,-54.5 1631.69,-90.5 \"/>\n<text text-anchor=\"middle\" x=\"1682.69\" y=\"-68.8\" font-family=\"Times,serif\" font-size=\"14.00\">data 0.7071</text>\n<polyline fill=\"none\" stroke=\"black\" points=\"1733.69,-54.5 1733.69,-90.5 \"/>\n<text text-anchor=\"middle\" x=\"1785.69\" y=\"-68.8\" font-family=\"Times,serif\" font-size=\"14.00\">grad 1.0000</text>\n</g>\n<!-- 139650006559392tanh -->\n<g id=\"node4\" class=\"node\">\n<title>139650006559392tanh</title>\n<ellipse fill=\"none\" stroke=\"black\" cx=\"1538.85\" cy=\"-72.5\" rx=\"31.7\" ry=\"18\"/>\n<text text-anchor=\"middle\" x=\"1538.85\" y=\"-68.8\" font-family=\"Times,serif\" font-size=\"14.00\">tanh</text>\n</g>\n<!-- 139650006559392tanh&#45;&gt;139650006559392 -->\n<g id=\"edge1\" class=\"edge\">\n<title>139650006559392tanh&#45;&gt;139650006559392</title>\n<path fill=\"none\" stroke=\"black\" d=\"M1571.02,-72.5C1578.61,-72.5 1587.19,-72.5 1596.31,-72.5\"/>\n<polygon fill=\"black\" stroke=\"black\" points=\"1596.4,-76 1606.4,-72.5 1596.4,-69 1596.4,-76\"/>\n</g>\n<!-- 139650006549168 -->\n<g id=\"node5\" class=\"node\">\n<title>139650006549168</title>\n<polygon fill=\"none\" stroke=\"black\" points=\"1239,-54.5 1239,-90.5 1471,-90.5 1471,-54.5 1239,-54.5\"/>\n<text text-anchor=\"middle\" x=\"1252\" y=\"-68.8\" font-family=\"Times,serif\" font-size=\"14.00\">n</text>\n<polyline fill=\"none\" stroke=\"black\" points=\"1265,-54.5 1265,-90.5 \"/>\n<text text-anchor=\"middle\" x=\"1316\" y=\"-68.8\" font-family=\"Times,serif\" font-size=\"14.00\">data 0.8814</text>\n<polyline fill=\"none\" stroke=\"black\" points=\"1367,-54.5 1367,-90.5 \"/>\n<text text-anchor=\"middle\" x=\"1419\" y=\"-68.8\" font-family=\"Times,serif\" font-size=\"14.00\">grad 0.5000</text>\n</g>\n<!-- 139650006549168&#45;&gt;139650006559392tanh -->\n<g id=\"edge12\" class=\"edge\">\n<title>139650006549168&#45;&gt;139650006559392tanh</title>\n<path fill=\"none\" stroke=\"black\" d=\"M1471.17,-72.5C1480.08,-72.5 1488.66,-72.5 1496.53,-72.5\"/>\n<polygon fill=\"black\" stroke=\"black\" points=\"1496.78,-76 1506.78,-72.5 1496.78,-69 1496.78,-76\"/>\n</g>\n<!-- 139650006549168+ -->\n<g id=\"node6\" class=\"node\">\n<title>139650006549168+</title>\n<ellipse fill=\"none\" stroke=\"black\" cx=\"1176\" cy=\"-72.5\" rx=\"27\" ry=\"18\"/>\n<text text-anchor=\"middle\" x=\"1176\" y=\"-68.8\" font-family=\"Times,serif\" font-size=\"14.00\">+</text>\n</g>\n<!-- 139650006549168+&#45;&gt;139650006549168 -->\n<g id=\"edge2\" class=\"edge\">\n<title>139650006549168+&#45;&gt;139650006549168</title>\n<path fill=\"none\" stroke=\"black\" d=\"M1203.12,-72.5C1210.53,-72.5 1219.14,-72.5 1228.4,-72.5\"/>\n<polygon fill=\"black\" stroke=\"black\" points=\"1228.69,-76 1238.69,-72.5 1228.69,-69 1228.69,-76\"/>\n</g>\n<!-- 139650006553296 -->\n<g id=\"node7\" class=\"node\">\n<title>139650006553296</title>\n<polygon fill=\"none\" stroke=\"black\" points=\"2.5,-55.5 2.5,-91.5 246.5,-91.5 246.5,-55.5 2.5,-55.5\"/>\n<text text-anchor=\"middle\" x=\"19.5\" y=\"-69.8\" font-family=\"Times,serif\" font-size=\"14.00\">x1</text>\n<polyline fill=\"none\" stroke=\"black\" points=\"36.5,-55.5 36.5,-91.5 \"/>\n<text text-anchor=\"middle\" x=\"87.5\" y=\"-69.8\" font-family=\"Times,serif\" font-size=\"14.00\">data 2.0000</text>\n<polyline fill=\"none\" stroke=\"black\" points=\"138.5,-55.5 138.5,-91.5 \"/>\n<text text-anchor=\"middle\" x=\"192.5\" y=\"-69.8\" font-family=\"Times,serif\" font-size=\"14.00\">grad &#45;1.5000</text>\n</g>\n<!-- 139650006553056* -->\n<g id=\"node15\" class=\"node\">\n<title>139650006553056*</title>\n<ellipse fill=\"none\" stroke=\"black\" cx=\"312\" cy=\"-73.5\" rx=\"27\" ry=\"18\"/>\n<text text-anchor=\"middle\" x=\"312\" y=\"-69.8\" font-family=\"Times,serif\" font-size=\"14.00\">*</text>\n</g>\n<!-- 139650006553296&#45;&gt;139650006553056* -->\n<g id=\"edge13\" class=\"edge\">\n<title>139650006553296&#45;&gt;139650006553056*</title>\n<path fill=\"none\" stroke=\"black\" d=\"M246.64,-73.5C256.7,-73.5 266.26,-73.5 274.79,-73.5\"/>\n<polygon fill=\"black\" stroke=\"black\" points=\"275,-77 285,-73.5 275,-70 275,-77\"/>\n</g>\n<!-- 139650006561504 -->\n<g id=\"node8\" class=\"node\">\n<title>139650006561504</title>\n<polygon fill=\"none\" stroke=\"black\" points=\"827.5,-27.5 827.5,-63.5 1059.5,-63.5 1059.5,-27.5 827.5,-27.5\"/>\n<text text-anchor=\"middle\" x=\"840.5\" y=\"-41.8\" font-family=\"Times,serif\" font-size=\"14.00\">b</text>\n<polyline fill=\"none\" stroke=\"black\" points=\"853.5,-27.5 853.5,-63.5 \"/>\n<text text-anchor=\"middle\" x=\"904.5\" y=\"-41.8\" font-family=\"Times,serif\" font-size=\"14.00\">data 6.8814</text>\n<polyline fill=\"none\" stroke=\"black\" points=\"955.5,-27.5 955.5,-63.5 \"/>\n<text text-anchor=\"middle\" x=\"1007.5\" y=\"-41.8\" font-family=\"Times,serif\" font-size=\"14.00\">grad 0.5000</text>\n</g>\n<!-- 139650006561504&#45;&gt;139650006549168+ -->\n<g id=\"edge8\" class=\"edge\">\n<title>139650006561504&#45;&gt;139650006549168+</title>\n<path fill=\"none\" stroke=\"black\" d=\"M1059.75,-59C1088.57,-62.38 1117.4,-65.75 1139.01,-68.28\"/>\n<polygon fill=\"black\" stroke=\"black\" points=\"1138.67,-71.77 1149.01,-69.46 1139.48,-64.82 1138.67,-71.77\"/>\n</g>\n<!-- 139650006552864 -->\n<g id=\"node9\" class=\"node\">\n<title>139650006552864</title>\n<polygon fill=\"none\" stroke=\"black\" points=\"377.5,-110.5 377.5,-146.5 645.5,-146.5 645.5,-110.5 377.5,-110.5\"/>\n<text text-anchor=\"middle\" x=\"408.5\" y=\"-124.8\" font-family=\"Times,serif\" font-size=\"14.00\">x2*w2</text>\n<polyline fill=\"none\" stroke=\"black\" points=\"439.5,-110.5 439.5,-146.5 \"/>\n<text text-anchor=\"middle\" x=\"490.5\" y=\"-124.8\" font-family=\"Times,serif\" font-size=\"14.00\">data 0.0000</text>\n<polyline fill=\"none\" stroke=\"black\" points=\"541.5,-110.5 541.5,-146.5 \"/>\n<text text-anchor=\"middle\" x=\"593.5\" y=\"-124.8\" font-family=\"Times,serif\" font-size=\"14.00\">grad 0.5000</text>\n</g>\n<!-- 139650006555504+ -->\n<g id=\"node13\" class=\"node\">\n<title>139650006555504+</title>\n<ellipse fill=\"none\" stroke=\"black\" cx=\"711\" cy=\"-100.5\" rx=\"27\" ry=\"18\"/>\n<text text-anchor=\"middle\" x=\"711\" y=\"-96.8\" font-family=\"Times,serif\" font-size=\"14.00\">+</text>\n</g>\n<!-- 139650006552864&#45;&gt;139650006555504+ -->\n<g id=\"edge6\" class=\"edge\">\n<title>139650006552864&#45;&gt;139650006555504+</title>\n<path fill=\"none\" stroke=\"black\" d=\"M639.53,-110.49C652.09,-108.71 663.99,-107.02 674.3,-105.56\"/>\n<polygon fill=\"black\" stroke=\"black\" points=\"675.03,-108.99 684.44,-104.12 674.05,-102.06 675.03,-108.99\"/>\n</g>\n<!-- 139650006552864*&#45;&gt;139650006552864 -->\n<g id=\"edge3\" class=\"edge\">\n<title>139650006552864*&#45;&gt;139650006552864</title>\n<path fill=\"none\" stroke=\"black\" d=\"M339.23,-128.5C347.26,-128.5 356.72,-128.5 366.99,-128.5\"/>\n<polygon fill=\"black\" stroke=\"black\" points=\"367.08,-132 377.08,-128.5 367.08,-125 367.08,-132\"/>\n</g>\n<!-- 139650006563136 -->\n<g id=\"node11\" class=\"node\">\n<title>139650006563136</title>\n<polygon fill=\"none\" stroke=\"black\" points=\"0,-0.5 0,-36.5 249,-36.5 249,-0.5 0,-0.5\"/>\n<text text-anchor=\"middle\" x=\"19\" y=\"-14.8\" font-family=\"Times,serif\" font-size=\"14.00\">w1</text>\n<polyline fill=\"none\" stroke=\"black\" points=\"38,-0.5 38,-36.5 \"/>\n<text text-anchor=\"middle\" x=\"91.5\" y=\"-14.8\" font-family=\"Times,serif\" font-size=\"14.00\">data &#45;3.0000</text>\n<polyline fill=\"none\" stroke=\"black\" points=\"145,-0.5 145,-36.5 \"/>\n<text text-anchor=\"middle\" x=\"197\" y=\"-14.8\" font-family=\"Times,serif\" font-size=\"14.00\">grad 1.0000</text>\n</g>\n<!-- 139650006563136&#45;&gt;139650006553056* -->\n<g id=\"edge14\" class=\"edge\">\n<title>139650006563136&#45;&gt;139650006553056*</title>\n<path fill=\"none\" stroke=\"black\" d=\"M214.42,-36.55C226.15,-39.54 237.93,-42.87 249,-46.5 259.46,-49.93 270.57,-54.47 280.46,-58.84\"/>\n<polygon fill=\"black\" stroke=\"black\" points=\"279.31,-62.17 289.87,-63.12 282.21,-55.79 279.31,-62.17\"/>\n</g>\n<!-- 139650006555504 -->\n<g id=\"node12\" class=\"node\">\n<title>139650006555504</title>\n<polygon fill=\"none\" stroke=\"black\" points=\"774,-82.5 774,-118.5 1113,-118.5 1113,-82.5 774,-82.5\"/>\n<text text-anchor=\"middle\" x=\"838\" y=\"-96.8\" font-family=\"Times,serif\" font-size=\"14.00\">x1*w1 + x2*w2</text>\n<polyline fill=\"none\" stroke=\"black\" points=\"902,-82.5 902,-118.5 \"/>\n<text text-anchor=\"middle\" x=\"955.5\" y=\"-96.8\" font-family=\"Times,serif\" font-size=\"14.00\">data &#45;6.0000</text>\n<polyline fill=\"none\" stroke=\"black\" points=\"1009,-82.5 1009,-118.5 \"/>\n<text text-anchor=\"middle\" x=\"1061\" y=\"-96.8\" font-family=\"Times,serif\" font-size=\"14.00\">grad 0.5000</text>\n</g>\n<!-- 139650006555504&#45;&gt;139650006549168+ -->\n<g id=\"edge10\" class=\"edge\">\n<title>139650006555504&#45;&gt;139650006549168+</title>\n<path fill=\"none\" stroke=\"black\" d=\"M1092.76,-82.49C1109.86,-80.41 1125.9,-78.46 1139.2,-76.85\"/>\n<polygon fill=\"black\" stroke=\"black\" points=\"1139.74,-80.31 1149.24,-75.63 1138.89,-73.36 1139.74,-80.31\"/>\n</g>\n<!-- 139650006555504+&#45;&gt;139650006555504 -->\n<g id=\"edge4\" class=\"edge\">\n<title>139650006555504+&#45;&gt;139650006555504</title>\n<path fill=\"none\" stroke=\"black\" d=\"M738.44,-100.5C745.81,-100.5 754.42,-100.5 763.84,-100.5\"/>\n<polygon fill=\"black\" stroke=\"black\" points=\"763.94,-104 773.94,-100.5 763.94,-97 763.94,-104\"/>\n</g>\n<!-- 139650006553056 -->\n<g id=\"node14\" class=\"node\">\n<title>139650006553056</title>\n<polygon fill=\"none\" stroke=\"black\" points=\"375,-55.5 375,-91.5 648,-91.5 648,-55.5 375,-55.5\"/>\n<text text-anchor=\"middle\" x=\"406\" y=\"-69.8\" font-family=\"Times,serif\" font-size=\"14.00\">x1*w1</text>\n<polyline fill=\"none\" stroke=\"black\" points=\"437,-55.5 437,-91.5 \"/>\n<text text-anchor=\"middle\" x=\"490.5\" y=\"-69.8\" font-family=\"Times,serif\" font-size=\"14.00\">data &#45;6.0000</text>\n<polyline fill=\"none\" stroke=\"black\" points=\"544,-55.5 544,-91.5 \"/>\n<text text-anchor=\"middle\" x=\"596\" y=\"-69.8\" font-family=\"Times,serif\" font-size=\"14.00\">grad 0.5000</text>\n</g>\n<!-- 139650006553056&#45;&gt;139650006555504+ -->\n<g id=\"edge7\" class=\"edge\">\n<title>139650006553056&#45;&gt;139650006555504+</title>\n<path fill=\"none\" stroke=\"black\" d=\"M644.24,-91.51C655.12,-93 665.4,-94.4 674.45,-95.64\"/>\n<polygon fill=\"black\" stroke=\"black\" points=\"674.11,-99.13 684.49,-97.01 675.05,-92.19 674.11,-99.13\"/>\n</g>\n<!-- 139650006553056*&#45;&gt;139650006553056 -->\n<g id=\"edge5\" class=\"edge\">\n<title>139650006553056*&#45;&gt;139650006553056</title>\n<path fill=\"none\" stroke=\"black\" d=\"M339.23,-73.5C346.7,-73.5 355.41,-73.5 364.87,-73.5\"/>\n<polygon fill=\"black\" stroke=\"black\" points=\"364.98,-77 374.98,-73.5 364.98,-70 364.98,-77\"/>\n</g>\n</g>\n</svg>\n",
            "text/plain": [
              "<graphviz.graphs.Digraph at 0x7f02cd089000>"
            ]
          },
          "execution_count": 23,
          "metadata": {},
          "output_type": "execute_result"
        }
      ],
      "source": [
        "def test():\n",
        "    # inputs x1, x2\n",
        "    x1 = Value(2.0).label(\"x1\")\n",
        "    x2 = Value(0.0).label(\"x2\")\n",
        "    # weights w1, w2\n",
        "    w1 = Value(-3.0).label(\"w1\")\n",
        "    w2 = Value(1.0).label(\"w2\")\n",
        "    # bias of the neuron\n",
        "    b = Value(6.8813735870195432).label(\"b\")\n",
        "    # x1*w1 + x2*w2 + b\n",
        "    x1w1 = (x1 * w1).label(\"x1*w1\")\n",
        "    x2w2 = (x2 * w2).label(\"x2*w2\")\n",
        "    x1w1x2w2 = (x1w1 + x2w2).label(\"x1*w1 + x2*w2\")\n",
        "    n = (x1w1x2w2 + b).label(\"n\")\n",
        "    o = n.tanh().label(\"o\")\n",
        "\n",
        "    o.grad = 1.0\n",
        "    o.my_backward()\n",
        "\n",
        "    return draw_dot(o)\n",
        "\n",
        "\n",
        "test()\n"
      ]
    },
    {
      "attachments": {},
      "cell_type": "markdown",
      "metadata": {},
      "source": [
        "## Fixing a backprop bug when one node is used multiple times\n",
        "\n",
        "The bug overrides the gradients, instead of accumulating them."
      ]
    },
    {
      "cell_type": "code",
      "execution_count": 24,
      "metadata": {},
      "outputs": [],
      "source": [
        "class BuggyValue(Value):\n",
        "    def __add__(self, other):\n",
        "        if not isinstance(other, Value):\n",
        "            other = Value(other).label(f\"{other}\")\n",
        "        out = Value(\n",
        "            data=self.data + other.data,\n",
        "            _op=\"+\",\n",
        "            _children=(self, other)\n",
        "        )\n",
        "\n",
        "        def _backward():\n",
        "            # not adding the gradient, should be:\n",
        "            # self.grad += out.grad\n",
        "            self.grad = out.grad\n",
        "            # not adding the gradient, should be:\n",
        "            # other.grad += out.grad\n",
        "            other.grad = out.grad\n",
        "        out._backward = _backward\n",
        "\n",
        "        return out\n",
        "\n",
        "    def __mul__(self, other):\n",
        "        if not isinstance(other, Value):\n",
        "            other = Value(other).label(f\"{other}\")\n",
        "        out = Value(\n",
        "            data=self.data * other.data,\n",
        "            _op=\"*\",\n",
        "            _children=(self, other)\n",
        "        )\n",
        "\n",
        "        def _backward():\n",
        "            # not adding the gradient, should be:\n",
        "            # self.grad += other.data * out.grad\n",
        "            self.grad = other.data * out.grad\n",
        "            # not adding the gradient, should be:\n",
        "            # other.grad += self.data * out.grad\n",
        "            other.grad = self.data * out.grad\n",
        "        out._backward = _backward\n",
        "\n",
        "        return out\n"
      ]
    },
    {
      "cell_type": "code",
      "execution_count": 25,
      "metadata": {},
      "outputs": [
        {
          "data": {
            "image/svg+xml": "<?xml version=\"1.0\" encoding=\"UTF-8\" standalone=\"no\"?>\n<!DOCTYPE svg PUBLIC \"-//W3C//DTD SVG 1.1//EN\"\n \"http://www.w3.org/Graphics/SVG/1.1/DTD/svg11.dtd\">\n<!-- Generated by graphviz version 2.43.0 (0)\n -->\n<!-- Title: %3 Pages: 1 -->\n<svg width=\"597pt\" height=\"45pt\"\n viewBox=\"0.00 0.00 597.00 45.00\" xmlns=\"http://www.w3.org/2000/svg\" xmlns:xlink=\"http://www.w3.org/1999/xlink\">\n<g id=\"graph0\" class=\"graph\" transform=\"scale(1 1) rotate(0) translate(4 41)\">\n<title>%3</title>\n<polygon fill=\"white\" stroke=\"transparent\" points=\"-4,4 -4,-41 593,-41 593,4 -4,4\"/>\n<!-- 139650006548880 -->\n<g id=\"node1\" class=\"node\">\n<title>139650006548880</title>\n<polygon fill=\"none\" stroke=\"black\" points=\"357,-0.5 357,-36.5 589,-36.5 589,-0.5 357,-0.5\"/>\n<text text-anchor=\"middle\" x=\"370\" y=\"-14.8\" font-family=\"Times,serif\" font-size=\"14.00\">b</text>\n<polyline fill=\"none\" stroke=\"black\" points=\"383,-0.5 383,-36.5 \"/>\n<text text-anchor=\"middle\" x=\"434\" y=\"-14.8\" font-family=\"Times,serif\" font-size=\"14.00\">data 6.0000</text>\n<polyline fill=\"none\" stroke=\"black\" points=\"485,-0.5 485,-36.5 \"/>\n<text text-anchor=\"middle\" x=\"537\" y=\"-14.8\" font-family=\"Times,serif\" font-size=\"14.00\">grad 1.0000</text>\n</g>\n<!-- 139650006548880+ -->\n<g id=\"node2\" class=\"node\">\n<title>139650006548880+</title>\n<ellipse fill=\"none\" stroke=\"black\" cx=\"294\" cy=\"-18.5\" rx=\"27\" ry=\"18\"/>\n<text text-anchor=\"middle\" x=\"294\" y=\"-14.8\" font-family=\"Times,serif\" font-size=\"14.00\">+</text>\n</g>\n<!-- 139650006548880+&#45;&gt;139650006548880 -->\n<g id=\"edge1\" class=\"edge\">\n<title>139650006548880+&#45;&gt;139650006548880</title>\n<path fill=\"none\" stroke=\"black\" d=\"M321.12,-18.5C328.53,-18.5 337.14,-18.5 346.4,-18.5\"/>\n<polygon fill=\"black\" stroke=\"black\" points=\"346.69,-22 356.69,-18.5 346.69,-15 346.69,-22\"/>\n</g>\n<!-- 139650006556368 -->\n<g id=\"node3\" class=\"node\">\n<title>139650006556368</title>\n<polygon fill=\"none\" stroke=\"black\" points=\"0,-0.5 0,-36.5 231,-36.5 231,-0.5 0,-0.5\"/>\n<text text-anchor=\"middle\" x=\"12.5\" y=\"-14.8\" font-family=\"Times,serif\" font-size=\"14.00\">a</text>\n<polyline fill=\"none\" stroke=\"black\" points=\"25,-0.5 25,-36.5 \"/>\n<text text-anchor=\"middle\" x=\"76\" y=\"-14.8\" font-family=\"Times,serif\" font-size=\"14.00\">data 3.0000</text>\n<polyline fill=\"none\" stroke=\"black\" points=\"127,-0.5 127,-36.5 \"/>\n<text text-anchor=\"middle\" x=\"179\" y=\"-14.8\" font-family=\"Times,serif\" font-size=\"14.00\">grad 1.0000</text>\n</g>\n<!-- 139650006556368&#45;&gt;139650006548880+ -->\n<g id=\"edge2\" class=\"edge\">\n<title>139650006556368&#45;&gt;139650006548880+</title>\n<path fill=\"none\" stroke=\"black\" d=\"M231.27,-18.5C240.32,-18.5 248.97,-18.5 256.76,-18.5\"/>\n<polygon fill=\"black\" stroke=\"black\" points=\"256.84,-22 266.84,-18.5 256.84,-15 256.84,-22\"/>\n</g>\n</g>\n</svg>\n",
            "text/plain": [
              "<graphviz.graphs.Digraph at 0x7f02cd08abf0>"
            ]
          },
          "execution_count": 25,
          "metadata": {},
          "output_type": "execute_result"
        }
      ],
      "source": [
        "def test():\n",
        "    a = BuggyValue(3.0).label(\"a\")\n",
        "    b = (a + a).label(\"b\")\n",
        "    b.backward()\n",
        "    return draw_dot(b)\n",
        "\n",
        "\n",
        "test()\n"
      ]
    },
    {
      "cell_type": "code",
      "execution_count": 26,
      "metadata": {},
      "outputs": [
        {
          "data": {
            "image/svg+xml": "<?xml version=\"1.0\" encoding=\"UTF-8\" standalone=\"no\"?>\n<!DOCTYPE svg PUBLIC \"-//W3C//DTD SVG 1.1//EN\"\n \"http://www.w3.org/Graphics/SVG/1.1/DTD/svg11.dtd\">\n<!-- Generated by graphviz version 2.43.0 (0)\n -->\n<!-- Title: %3 Pages: 1 -->\n<svg width=\"597pt\" height=\"45pt\"\n viewBox=\"0.00 0.00 597.00 45.00\" xmlns=\"http://www.w3.org/2000/svg\" xmlns:xlink=\"http://www.w3.org/1999/xlink\">\n<g id=\"graph0\" class=\"graph\" transform=\"scale(1 1) rotate(0) translate(4 41)\">\n<title>%3</title>\n<polygon fill=\"white\" stroke=\"transparent\" points=\"-4,4 -4,-41 593,-41 593,4 -4,4\"/>\n<!-- 139650006558096 -->\n<g id=\"node1\" class=\"node\">\n<title>139650006558096</title>\n<polygon fill=\"none\" stroke=\"black\" points=\"0,-0.5 0,-36.5 231,-36.5 231,-0.5 0,-0.5\"/>\n<text text-anchor=\"middle\" x=\"12.5\" y=\"-14.8\" font-family=\"Times,serif\" font-size=\"14.00\">a</text>\n<polyline fill=\"none\" stroke=\"black\" points=\"25,-0.5 25,-36.5 \"/>\n<text text-anchor=\"middle\" x=\"76\" y=\"-14.8\" font-family=\"Times,serif\" font-size=\"14.00\">data 3.0000</text>\n<polyline fill=\"none\" stroke=\"black\" points=\"127,-0.5 127,-36.5 \"/>\n<text text-anchor=\"middle\" x=\"179\" y=\"-14.8\" font-family=\"Times,serif\" font-size=\"14.00\">grad 2.0000</text>\n</g>\n<!-- 139650006556224+ -->\n<g id=\"node3\" class=\"node\">\n<title>139650006556224+</title>\n<ellipse fill=\"none\" stroke=\"black\" cx=\"294\" cy=\"-18.5\" rx=\"27\" ry=\"18\"/>\n<text text-anchor=\"middle\" x=\"294\" y=\"-14.8\" font-family=\"Times,serif\" font-size=\"14.00\">+</text>\n</g>\n<!-- 139650006558096&#45;&gt;139650006556224+ -->\n<g id=\"edge2\" class=\"edge\">\n<title>139650006558096&#45;&gt;139650006556224+</title>\n<path fill=\"none\" stroke=\"black\" d=\"M231.27,-18.5C240.32,-18.5 248.97,-18.5 256.76,-18.5\"/>\n<polygon fill=\"black\" stroke=\"black\" points=\"256.84,-22 266.84,-18.5 256.84,-15 256.84,-22\"/>\n</g>\n<!-- 139650006556224 -->\n<g id=\"node2\" class=\"node\">\n<title>139650006556224</title>\n<polygon fill=\"none\" stroke=\"black\" points=\"357,-0.5 357,-36.5 589,-36.5 589,-0.5 357,-0.5\"/>\n<text text-anchor=\"middle\" x=\"370\" y=\"-14.8\" font-family=\"Times,serif\" font-size=\"14.00\">b</text>\n<polyline fill=\"none\" stroke=\"black\" points=\"383,-0.5 383,-36.5 \"/>\n<text text-anchor=\"middle\" x=\"434\" y=\"-14.8\" font-family=\"Times,serif\" font-size=\"14.00\">data 6.0000</text>\n<polyline fill=\"none\" stroke=\"black\" points=\"485,-0.5 485,-36.5 \"/>\n<text text-anchor=\"middle\" x=\"537\" y=\"-14.8\" font-family=\"Times,serif\" font-size=\"14.00\">grad 1.0000</text>\n</g>\n<!-- 139650006556224+&#45;&gt;139650006556224 -->\n<g id=\"edge1\" class=\"edge\">\n<title>139650006556224+&#45;&gt;139650006556224</title>\n<path fill=\"none\" stroke=\"black\" d=\"M321.12,-18.5C328.53,-18.5 337.14,-18.5 346.4,-18.5\"/>\n<polygon fill=\"black\" stroke=\"black\" points=\"346.69,-22 356.69,-18.5 346.69,-15 346.69,-22\"/>\n</g>\n</g>\n</svg>\n",
            "text/plain": [
              "<graphviz.graphs.Digraph at 0x7f02cd08b8b0>"
            ]
          },
          "execution_count": 26,
          "metadata": {},
          "output_type": "execute_result"
        }
      ],
      "source": [
        "def test():\n",
        "    a = Value(3.0).label(\"a\")\n",
        "    b = (a + a).label(\"b\")\n",
        "    b.backward()\n",
        "    return draw_dot(b)\n",
        "\n",
        "\n",
        "test()\n"
      ]
    },
    {
      "cell_type": "code",
      "execution_count": 27,
      "metadata": {},
      "outputs": [
        {
          "data": {
            "image/svg+xml": "<?xml version=\"1.0\" encoding=\"UTF-8\" standalone=\"no\"?>\n<!DOCTYPE svg PUBLIC \"-//W3C//DTD SVG 1.1//EN\"\n \"http://www.w3.org/Graphics/SVG/1.1/DTD/svg11.dtd\">\n<!-- Generated by graphviz version 2.43.0 (0)\n -->\n<!-- Title: %3 Pages: 1 -->\n<svg width=\"966pt\" height=\"100pt\"\n viewBox=\"0.00 0.00 966.00 100.00\" xmlns=\"http://www.w3.org/2000/svg\" xmlns:xlink=\"http://www.w3.org/1999/xlink\">\n<g id=\"graph0\" class=\"graph\" transform=\"scale(1 1) rotate(0) translate(4 96)\">\n<title>%3</title>\n<polygon fill=\"white\" stroke=\"transparent\" points=\"-4,4 -4,-96 962,-96 962,4 -4,4\"/>\n<!-- 139650006557184 -->\n<g id=\"node1\" class=\"node\">\n<title>139650006557184</title>\n<polygon fill=\"none\" stroke=\"black\" points=\"362,-55.5 362,-91.5 599,-91.5 599,-55.5 362,-55.5\"/>\n<text text-anchor=\"middle\" x=\"375\" y=\"-69.8\" font-family=\"Times,serif\" font-size=\"14.00\">d</text>\n<polyline fill=\"none\" stroke=\"black\" points=\"388,-55.5 388,-91.5 \"/>\n<text text-anchor=\"middle\" x=\"441.5\" y=\"-69.8\" font-family=\"Times,serif\" font-size=\"14.00\">data &#45;6.0000</text>\n<polyline fill=\"none\" stroke=\"black\" points=\"495,-55.5 495,-91.5 \"/>\n<text text-anchor=\"middle\" x=\"547\" y=\"-69.8\" font-family=\"Times,serif\" font-size=\"14.00\">grad 1.0000</text>\n</g>\n<!-- 139650006551712* -->\n<g id=\"node7\" class=\"node\">\n<title>139650006551712*</title>\n<ellipse fill=\"none\" stroke=\"black\" cx=\"662\" cy=\"-45.5\" rx=\"27\" ry=\"18\"/>\n<text text-anchor=\"middle\" x=\"662\" y=\"-41.8\" font-family=\"Times,serif\" font-size=\"14.00\">*</text>\n</g>\n<!-- 139650006557184&#45;&gt;139650006551712* -->\n<g id=\"edge7\" class=\"edge\">\n<title>139650006557184&#45;&gt;139650006551712*</title>\n<path fill=\"none\" stroke=\"black\" d=\"M596.96,-55.49C607.12,-53.91 616.8,-52.4 625.41,-51.05\"/>\n<polygon fill=\"black\" stroke=\"black\" points=\"626.02,-54.5 635.36,-49.5 624.94,-47.58 626.02,-54.5\"/>\n</g>\n<!-- 139650006557184* -->\n<g id=\"node2\" class=\"node\">\n<title>139650006557184*</title>\n<ellipse fill=\"none\" stroke=\"black\" cx=\"299\" cy=\"-73.5\" rx=\"27\" ry=\"18\"/>\n<text text-anchor=\"middle\" x=\"299\" y=\"-69.8\" font-family=\"Times,serif\" font-size=\"14.00\">*</text>\n</g>\n<!-- 139650006557184*&#45;&gt;139650006557184 -->\n<g id=\"edge1\" class=\"edge\">\n<title>139650006557184*&#45;&gt;139650006557184</title>\n<path fill=\"none\" stroke=\"black\" d=\"M326.1,-73.5C333.61,-73.5 342.33,-73.5 351.75,-73.5\"/>\n<polygon fill=\"black\" stroke=\"black\" points=\"351.78,-77 361.78,-73.5 351.78,-70 351.78,-77\"/>\n</g>\n<!-- 139650006551616 -->\n<g id=\"node3\" class=\"node\">\n<title>139650006551616</title>\n<polygon fill=\"none\" stroke=\"black\" points=\"0,-55.5 0,-91.5 236,-91.5 236,-55.5 0,-55.5\"/>\n<text text-anchor=\"middle\" x=\"12.5\" y=\"-69.8\" font-family=\"Times,serif\" font-size=\"14.00\">a</text>\n<polyline fill=\"none\" stroke=\"black\" points=\"25,-55.5 25,-91.5 \"/>\n<text text-anchor=\"middle\" x=\"78.5\" y=\"-69.8\" font-family=\"Times,serif\" font-size=\"14.00\">data &#45;2.0000</text>\n<polyline fill=\"none\" stroke=\"black\" points=\"132,-55.5 132,-91.5 \"/>\n<text text-anchor=\"middle\" x=\"184\" y=\"-69.8\" font-family=\"Times,serif\" font-size=\"14.00\">grad 3.0000</text>\n</g>\n<!-- 139650006551616&#45;&gt;139650006557184* -->\n<g id=\"edge6\" class=\"edge\">\n<title>139650006551616&#45;&gt;139650006557184*</title>\n<path fill=\"none\" stroke=\"black\" d=\"M236.15,-73.5C245.24,-73.5 253.91,-73.5 261.73,-73.5\"/>\n<polygon fill=\"black\" stroke=\"black\" points=\"261.82,-77 271.82,-73.5 261.82,-70 261.82,-77\"/>\n</g>\n<!-- 139650006553152+ -->\n<g id=\"node5\" class=\"node\">\n<title>139650006553152+</title>\n<ellipse fill=\"none\" stroke=\"black\" cx=\"299\" cy=\"-18.5\" rx=\"27\" ry=\"18\"/>\n<text text-anchor=\"middle\" x=\"299\" y=\"-14.8\" font-family=\"Times,serif\" font-size=\"14.00\">+</text>\n</g>\n<!-- 139650006551616&#45;&gt;139650006553152+ -->\n<g id=\"edge9\" class=\"edge\">\n<title>139650006551616&#45;&gt;139650006553152+</title>\n<path fill=\"none\" stroke=\"black\" d=\"M205.8,-55.5C216.06,-52.77 226.32,-49.77 236,-46.5 246.69,-42.89 258.02,-38.08 268.04,-33.47\"/>\n<polygon fill=\"black\" stroke=\"black\" points=\"269.64,-36.59 277.18,-29.15 266.65,-30.26 269.64,-36.59\"/>\n</g>\n<!-- 139650006553152 -->\n<g id=\"node4\" class=\"node\">\n<title>139650006553152</title>\n<polygon fill=\"none\" stroke=\"black\" points=\"363,-0.5 363,-36.5 598,-36.5 598,-0.5 363,-0.5\"/>\n<text text-anchor=\"middle\" x=\"375.5\" y=\"-14.8\" font-family=\"Times,serif\" font-size=\"14.00\">e</text>\n<polyline fill=\"none\" stroke=\"black\" points=\"388,-0.5 388,-36.5 \"/>\n<text text-anchor=\"middle\" x=\"439\" y=\"-14.8\" font-family=\"Times,serif\" font-size=\"14.00\">data 1.0000</text>\n<polyline fill=\"none\" stroke=\"black\" points=\"490,-0.5 490,-36.5 \"/>\n<text text-anchor=\"middle\" x=\"544\" y=\"-14.8\" font-family=\"Times,serif\" font-size=\"14.00\">grad &#45;6.0000</text>\n</g>\n<!-- 139650006553152&#45;&gt;139650006551712* -->\n<g id=\"edge4\" class=\"edge\">\n<title>139650006553152&#45;&gt;139650006551712*</title>\n<path fill=\"none\" stroke=\"black\" d=\"M598.22,-36.06C607.92,-37.52 617.15,-38.9 625.41,-40.15\"/>\n<polygon fill=\"black\" stroke=\"black\" points=\"624.9,-43.61 635.31,-41.64 625.94,-36.69 624.9,-43.61\"/>\n</g>\n<!-- 139650006553152+&#45;&gt;139650006553152 -->\n<g id=\"edge2\" class=\"edge\">\n<title>139650006553152+&#45;&gt;139650006553152</title>\n<path fill=\"none\" stroke=\"black\" d=\"M326.1,-18.5C333.9,-18.5 343.03,-18.5 352.87,-18.5\"/>\n<polygon fill=\"black\" stroke=\"black\" points=\"352.93,-22 362.93,-18.5 352.93,-15 352.93,-22\"/>\n</g>\n<!-- 139650006551712 -->\n<g id=\"node6\" class=\"node\">\n<title>139650006551712</title>\n<polygon fill=\"none\" stroke=\"black\" points=\"725,-27.5 725,-63.5 958,-63.5 958,-27.5 725,-27.5\"/>\n<text text-anchor=\"middle\" x=\"736\" y=\"-41.8\" font-family=\"Times,serif\" font-size=\"14.00\">f</text>\n<polyline fill=\"none\" stroke=\"black\" points=\"747,-27.5 747,-63.5 \"/>\n<text text-anchor=\"middle\" x=\"800.5\" y=\"-41.8\" font-family=\"Times,serif\" font-size=\"14.00\">data &#45;6.0000</text>\n<polyline fill=\"none\" stroke=\"black\" points=\"854,-27.5 854,-63.5 \"/>\n<text text-anchor=\"middle\" x=\"906\" y=\"-41.8\" font-family=\"Times,serif\" font-size=\"14.00\">grad 1.0000</text>\n</g>\n<!-- 139650006551712*&#45;&gt;139650006551712 -->\n<g id=\"edge3\" class=\"edge\">\n<title>139650006551712*&#45;&gt;139650006551712</title>\n<path fill=\"none\" stroke=\"black\" d=\"M689.19,-45.5C696.71,-45.5 705.44,-45.5 714.84,-45.5\"/>\n<polygon fill=\"black\" stroke=\"black\" points=\"714.87,-49 724.87,-45.5 714.87,-42 714.87,-49\"/>\n</g>\n<!-- 139650006561264 -->\n<g id=\"node8\" class=\"node\">\n<title>139650006561264</title>\n<polygon fill=\"none\" stroke=\"black\" points=\"0,-0.5 0,-36.5 236,-36.5 236,-0.5 0,-0.5\"/>\n<text text-anchor=\"middle\" x=\"13\" y=\"-14.8\" font-family=\"Times,serif\" font-size=\"14.00\">b</text>\n<polyline fill=\"none\" stroke=\"black\" points=\"26,-0.5 26,-36.5 \"/>\n<text text-anchor=\"middle\" x=\"77\" y=\"-14.8\" font-family=\"Times,serif\" font-size=\"14.00\">data 3.0000</text>\n<polyline fill=\"none\" stroke=\"black\" points=\"128,-0.5 128,-36.5 \"/>\n<text text-anchor=\"middle\" x=\"182\" y=\"-14.8\" font-family=\"Times,serif\" font-size=\"14.00\">grad &#45;2.0000</text>\n</g>\n<!-- 139650006561264&#45;&gt;139650006557184* -->\n<g id=\"edge8\" class=\"edge\">\n<title>139650006561264&#45;&gt;139650006557184*</title>\n<path fill=\"none\" stroke=\"black\" d=\"M202.29,-36.52C213.7,-39.55 225.21,-42.89 236,-46.5 246.44,-49.99 257.55,-54.55 267.43,-58.92\"/>\n<polygon fill=\"black\" stroke=\"black\" points=\"266.29,-62.24 276.84,-63.18 269.18,-55.87 266.29,-62.24\"/>\n</g>\n<!-- 139650006561264&#45;&gt;139650006553152+ -->\n<g id=\"edge5\" class=\"edge\">\n<title>139650006561264&#45;&gt;139650006553152+</title>\n<path fill=\"none\" stroke=\"black\" d=\"M236.15,-18.5C245.24,-18.5 253.91,-18.5 261.73,-18.5\"/>\n<polygon fill=\"black\" stroke=\"black\" points=\"261.82,-22 271.82,-18.5 261.82,-15 261.82,-22\"/>\n</g>\n</g>\n</svg>\n",
            "text/plain": [
              "<graphviz.graphs.Digraph at 0x7f02cd08aa70>"
            ]
          },
          "execution_count": 27,
          "metadata": {},
          "output_type": "execute_result"
        }
      ],
      "source": [
        "def test():\n",
        "    a = BuggyValue(-2.0).label(\"a\")\n",
        "    b = BuggyValue(3.0).label(\"b\")\n",
        "    d = (a * b).label(\"d\")\n",
        "    e = (a + b).label(\"e\")\n",
        "    f = (d * e).label(\"f\")\n",
        "    \n",
        "    f.backward()\n",
        "    \n",
        "    return draw_dot(f)\n",
        "\n",
        "\n",
        "test()\n"
      ]
    },
    {
      "cell_type": "code",
      "execution_count": 28,
      "metadata": {},
      "outputs": [
        {
          "data": {
            "image/svg+xml": "<?xml version=\"1.0\" encoding=\"UTF-8\" standalone=\"no\"?>\n<!DOCTYPE svg PUBLIC \"-//W3C//DTD SVG 1.1//EN\"\n \"http://www.w3.org/Graphics/SVG/1.1/DTD/svg11.dtd\">\n<!-- Generated by graphviz version 2.43.0 (0)\n -->\n<!-- Title: %3 Pages: 1 -->\n<svg width=\"970pt\" height=\"100pt\"\n viewBox=\"0.00 0.00 970.00 100.00\" xmlns=\"http://www.w3.org/2000/svg\" xmlns:xlink=\"http://www.w3.org/1999/xlink\">\n<g id=\"graph0\" class=\"graph\" transform=\"scale(1 1) rotate(0) translate(4 96)\">\n<title>%3</title>\n<polygon fill=\"white\" stroke=\"transparent\" points=\"-4,4 -4,-96 966,-96 966,4 -4,4\"/>\n<!-- 139650006564432 -->\n<g id=\"node1\" class=\"node\">\n<title>139650006564432</title>\n<polygon fill=\"none\" stroke=\"black\" points=\"366,-55.5 366,-91.5 603,-91.5 603,-55.5 366,-55.5\"/>\n<text text-anchor=\"middle\" x=\"379\" y=\"-69.8\" font-family=\"Times,serif\" font-size=\"14.00\">d</text>\n<polyline fill=\"none\" stroke=\"black\" points=\"392,-55.5 392,-91.5 \"/>\n<text text-anchor=\"middle\" x=\"445.5\" y=\"-69.8\" font-family=\"Times,serif\" font-size=\"14.00\">data &#45;6.0000</text>\n<polyline fill=\"none\" stroke=\"black\" points=\"499,-55.5 499,-91.5 \"/>\n<text text-anchor=\"middle\" x=\"551\" y=\"-69.8\" font-family=\"Times,serif\" font-size=\"14.00\">grad 1.0000</text>\n</g>\n<!-- 139650006549984* -->\n<g id=\"node7\" class=\"node\">\n<title>139650006549984*</title>\n<ellipse fill=\"none\" stroke=\"black\" cx=\"666\" cy=\"-45.5\" rx=\"27\" ry=\"18\"/>\n<text text-anchor=\"middle\" x=\"666\" y=\"-41.8\" font-family=\"Times,serif\" font-size=\"14.00\">*</text>\n</g>\n<!-- 139650006564432&#45;&gt;139650006549984* -->\n<g id=\"edge6\" class=\"edge\">\n<title>139650006564432&#45;&gt;139650006549984*</title>\n<path fill=\"none\" stroke=\"black\" d=\"M600.96,-55.49C611.12,-53.91 620.8,-52.4 629.41,-51.05\"/>\n<polygon fill=\"black\" stroke=\"black\" points=\"630.02,-54.5 639.36,-49.5 628.94,-47.58 630.02,-54.5\"/>\n</g>\n<!-- 139650006564432* -->\n<g id=\"node2\" class=\"node\">\n<title>139650006564432*</title>\n<ellipse fill=\"none\" stroke=\"black\" cx=\"303\" cy=\"-73.5\" rx=\"27\" ry=\"18\"/>\n<text text-anchor=\"middle\" x=\"303\" y=\"-69.8\" font-family=\"Times,serif\" font-size=\"14.00\">*</text>\n</g>\n<!-- 139650006564432*&#45;&gt;139650006564432 -->\n<g id=\"edge1\" class=\"edge\">\n<title>139650006564432*&#45;&gt;139650006564432</title>\n<path fill=\"none\" stroke=\"black\" d=\"M330.1,-73.5C337.61,-73.5 346.33,-73.5 355.75,-73.5\"/>\n<polygon fill=\"black\" stroke=\"black\" points=\"355.78,-77 365.78,-73.5 355.78,-70 355.78,-77\"/>\n</g>\n<!-- 139650006556512 -->\n<g id=\"node3\" class=\"node\">\n<title>139650006556512</title>\n<polygon fill=\"none\" stroke=\"black\" points=\"367,-0.5 367,-36.5 602,-36.5 602,-0.5 367,-0.5\"/>\n<text text-anchor=\"middle\" x=\"379.5\" y=\"-14.8\" font-family=\"Times,serif\" font-size=\"14.00\">e</text>\n<polyline fill=\"none\" stroke=\"black\" points=\"392,-0.5 392,-36.5 \"/>\n<text text-anchor=\"middle\" x=\"443\" y=\"-14.8\" font-family=\"Times,serif\" font-size=\"14.00\">data 1.0000</text>\n<polyline fill=\"none\" stroke=\"black\" points=\"494,-0.5 494,-36.5 \"/>\n<text text-anchor=\"middle\" x=\"548\" y=\"-14.8\" font-family=\"Times,serif\" font-size=\"14.00\">grad &#45;6.0000</text>\n</g>\n<!-- 139650006556512&#45;&gt;139650006549984* -->\n<g id=\"edge4\" class=\"edge\">\n<title>139650006556512&#45;&gt;139650006549984*</title>\n<path fill=\"none\" stroke=\"black\" d=\"M602.22,-36.06C611.92,-37.52 621.15,-38.9 629.41,-40.15\"/>\n<polygon fill=\"black\" stroke=\"black\" points=\"628.9,-43.61 639.31,-41.64 629.94,-36.69 628.9,-43.61\"/>\n</g>\n<!-- 139650006556512+ -->\n<g id=\"node4\" class=\"node\">\n<title>139650006556512+</title>\n<ellipse fill=\"none\" stroke=\"black\" cx=\"303\" cy=\"-18.5\" rx=\"27\" ry=\"18\"/>\n<text text-anchor=\"middle\" x=\"303\" y=\"-14.8\" font-family=\"Times,serif\" font-size=\"14.00\">+</text>\n</g>\n<!-- 139650006556512+&#45;&gt;139650006556512 -->\n<g id=\"edge2\" class=\"edge\">\n<title>139650006556512+&#45;&gt;139650006556512</title>\n<path fill=\"none\" stroke=\"black\" d=\"M330.1,-18.5C337.9,-18.5 347.03,-18.5 356.87,-18.5\"/>\n<polygon fill=\"black\" stroke=\"black\" points=\"356.93,-22 366.93,-18.5 356.93,-15 356.93,-22\"/>\n</g>\n<!-- 139650006556560 -->\n<g id=\"node5\" class=\"node\">\n<title>139650006556560</title>\n<polygon fill=\"none\" stroke=\"black\" points=\"2,-55.5 2,-91.5 238,-91.5 238,-55.5 2,-55.5\"/>\n<text text-anchor=\"middle\" x=\"15\" y=\"-69.8\" font-family=\"Times,serif\" font-size=\"14.00\">b</text>\n<polyline fill=\"none\" stroke=\"black\" points=\"28,-55.5 28,-91.5 \"/>\n<text text-anchor=\"middle\" x=\"79\" y=\"-69.8\" font-family=\"Times,serif\" font-size=\"14.00\">data 3.0000</text>\n<polyline fill=\"none\" stroke=\"black\" points=\"130,-55.5 130,-91.5 \"/>\n<text text-anchor=\"middle\" x=\"184\" y=\"-69.8\" font-family=\"Times,serif\" font-size=\"14.00\">grad &#45;8.0000</text>\n</g>\n<!-- 139650006556560&#45;&gt;139650006564432* -->\n<g id=\"edge7\" class=\"edge\">\n<title>139650006556560&#45;&gt;139650006564432*</title>\n<path fill=\"none\" stroke=\"black\" d=\"M238.19,-73.5C248.03,-73.5 257.41,-73.5 265.8,-73.5\"/>\n<polygon fill=\"black\" stroke=\"black\" points=\"265.87,-77 275.87,-73.5 265.87,-70 265.87,-77\"/>\n</g>\n<!-- 139650006556560&#45;&gt;139650006556512+ -->\n<g id=\"edge8\" class=\"edge\">\n<title>139650006556560&#45;&gt;139650006556512+</title>\n<path fill=\"none\" stroke=\"black\" d=\"M209.61,-55.48C219.94,-52.77 230.26,-49.77 240,-46.5 250.69,-42.91 262.03,-38.11 272.05,-33.49\"/>\n<polygon fill=\"black\" stroke=\"black\" points=\"273.65,-36.61 281.19,-29.17 270.65,-30.28 273.65,-36.61\"/>\n</g>\n<!-- 139650006549984 -->\n<g id=\"node6\" class=\"node\">\n<title>139650006549984</title>\n<polygon fill=\"none\" stroke=\"black\" points=\"729,-27.5 729,-63.5 962,-63.5 962,-27.5 729,-27.5\"/>\n<text text-anchor=\"middle\" x=\"740\" y=\"-41.8\" font-family=\"Times,serif\" font-size=\"14.00\">f</text>\n<polyline fill=\"none\" stroke=\"black\" points=\"751,-27.5 751,-63.5 \"/>\n<text text-anchor=\"middle\" x=\"804.5\" y=\"-41.8\" font-family=\"Times,serif\" font-size=\"14.00\">data &#45;6.0000</text>\n<polyline fill=\"none\" stroke=\"black\" points=\"858,-27.5 858,-63.5 \"/>\n<text text-anchor=\"middle\" x=\"910\" y=\"-41.8\" font-family=\"Times,serif\" font-size=\"14.00\">grad 1.0000</text>\n</g>\n<!-- 139650006549984*&#45;&gt;139650006549984 -->\n<g id=\"edge3\" class=\"edge\">\n<title>139650006549984*&#45;&gt;139650006549984</title>\n<path fill=\"none\" stroke=\"black\" d=\"M693.19,-45.5C700.71,-45.5 709.44,-45.5 718.84,-45.5\"/>\n<polygon fill=\"black\" stroke=\"black\" points=\"718.87,-49 728.87,-45.5 718.87,-42 718.87,-49\"/>\n</g>\n<!-- 139650006558192 -->\n<g id=\"node8\" class=\"node\">\n<title>139650006558192</title>\n<polygon fill=\"none\" stroke=\"black\" points=\"0,-0.5 0,-36.5 240,-36.5 240,-0.5 0,-0.5\"/>\n<text text-anchor=\"middle\" x=\"12.5\" y=\"-14.8\" font-family=\"Times,serif\" font-size=\"14.00\">a</text>\n<polyline fill=\"none\" stroke=\"black\" points=\"25,-0.5 25,-36.5 \"/>\n<text text-anchor=\"middle\" x=\"78.5\" y=\"-14.8\" font-family=\"Times,serif\" font-size=\"14.00\">data &#45;2.0000</text>\n<polyline fill=\"none\" stroke=\"black\" points=\"132,-0.5 132,-36.5 \"/>\n<text text-anchor=\"middle\" x=\"186\" y=\"-14.8\" font-family=\"Times,serif\" font-size=\"14.00\">grad &#45;3.0000</text>\n</g>\n<!-- 139650006558192&#45;&gt;139650006564432* -->\n<g id=\"edge5\" class=\"edge\">\n<title>139650006558192&#45;&gt;139650006564432*</title>\n<path fill=\"none\" stroke=\"black\" d=\"M206.03,-36.54C217.54,-39.55 229.12,-42.88 240,-46.5 250.44,-49.97 261.55,-54.52 271.44,-58.89\"/>\n<polygon fill=\"black\" stroke=\"black\" points=\"270.3,-62.22 280.85,-63.16 273.19,-55.84 270.3,-62.22\"/>\n</g>\n<!-- 139650006558192&#45;&gt;139650006556512+ -->\n<g id=\"edge9\" class=\"edge\">\n<title>139650006558192&#45;&gt;139650006556512+</title>\n<path fill=\"none\" stroke=\"black\" d=\"M240.22,-18.5C249.32,-18.5 257.99,-18.5 265.8,-18.5\"/>\n<polygon fill=\"black\" stroke=\"black\" points=\"265.88,-22 275.88,-18.5 265.88,-15 265.88,-22\"/>\n</g>\n</g>\n</svg>\n",
            "text/plain": [
              "<graphviz.graphs.Digraph at 0x7f02cd08ab60>"
            ]
          },
          "execution_count": 28,
          "metadata": {},
          "output_type": "execute_result"
        }
      ],
      "source": [
        "def test():\n",
        "    a = Value(-2.0).label(\"a\")\n",
        "    b = Value(3.0).label(\"b\")\n",
        "    d = (a * b).label(\"d\")\n",
        "    e = (a + b).label(\"e\")\n",
        "    f = (d * e).label(\"f\")\n",
        "    \n",
        "    f.backward()\n",
        "    \n",
        "    return draw_dot(f)\n",
        "\n",
        "\n",
        "test()\n"
      ]
    },
    {
      "attachments": {},
      "cell_type": "markdown",
      "metadata": {},
      "source": [
        "## Exercising with more operations"
      ]
    },
    {
      "cell_type": "code",
      "execution_count": 29,
      "metadata": {},
      "outputs": [
        {
          "data": {
            "image/svg+xml": "<?xml version=\"1.0\" encoding=\"UTF-8\" standalone=\"no\"?>\n<!DOCTYPE svg PUBLIC \"-//W3C//DTD SVG 1.1//EN\"\n \"http://www.w3.org/Graphics/SVG/1.1/DTD/svg11.dtd\">\n<!-- Generated by graphviz version 2.43.0 (0)\n -->\n<!-- Title: %3 Pages: 1 -->\n<svg width=\"1846pt\" height=\"210pt\"\n viewBox=\"0.00 0.00 1845.69 210.00\" xmlns=\"http://www.w3.org/2000/svg\" xmlns:xlink=\"http://www.w3.org/1999/xlink\">\n<g id=\"graph0\" class=\"graph\" transform=\"scale(1 1) rotate(0) translate(4 206)\">\n<title>%3</title>\n<polygon fill=\"white\" stroke=\"transparent\" points=\"-4,4 -4,-206 1841.69,-206 1841.69,4 -4,4\"/>\n<!-- 139650006459408 -->\n<g id=\"node1\" class=\"node\">\n<title>139650006459408</title>\n<polygon fill=\"none\" stroke=\"black\" points=\"0,-165.5 0,-201.5 249,-201.5 249,-165.5 0,-165.5\"/>\n<text text-anchor=\"middle\" x=\"19\" y=\"-179.8\" font-family=\"Times,serif\" font-size=\"14.00\">w1</text>\n<polyline fill=\"none\" stroke=\"black\" points=\"38,-165.5 38,-201.5 \"/>\n<text text-anchor=\"middle\" x=\"91.5\" y=\"-179.8\" font-family=\"Times,serif\" font-size=\"14.00\">data &#45;3.0000</text>\n<polyline fill=\"none\" stroke=\"black\" points=\"145,-165.5 145,-201.5 \"/>\n<text text-anchor=\"middle\" x=\"197\" y=\"-179.8\" font-family=\"Times,serif\" font-size=\"14.00\">grad 1.0000</text>\n</g>\n<!-- 139650006458400* -->\n<g id=\"node3\" class=\"node\">\n<title>139650006458400*</title>\n<ellipse fill=\"none\" stroke=\"black\" cx=\"312\" cy=\"-128.5\" rx=\"27\" ry=\"18\"/>\n<text text-anchor=\"middle\" x=\"312\" y=\"-124.8\" font-family=\"Times,serif\" font-size=\"14.00\">*</text>\n</g>\n<!-- 139650006459408&#45;&gt;139650006458400* -->\n<g id=\"edge8\" class=\"edge\">\n<title>139650006459408&#45;&gt;139650006458400*</title>\n<path fill=\"none\" stroke=\"black\" d=\"M218.13,-165.46C228.63,-162.77 239.1,-159.78 249,-156.5 259.71,-152.96 271.05,-148.16 281.07,-143.54\"/>\n<polygon fill=\"black\" stroke=\"black\" points=\"282.67,-146.66 290.2,-139.21 279.67,-140.33 282.67,-146.66\"/>\n</g>\n<!-- 139650006458400 -->\n<g id=\"node2\" class=\"node\">\n<title>139650006458400</title>\n<polygon fill=\"none\" stroke=\"black\" points=\"375,-110.5 375,-146.5 648,-146.5 648,-110.5 375,-110.5\"/>\n<text text-anchor=\"middle\" x=\"406\" y=\"-124.8\" font-family=\"Times,serif\" font-size=\"14.00\">x1*w1</text>\n<polyline fill=\"none\" stroke=\"black\" points=\"437,-110.5 437,-146.5 \"/>\n<text text-anchor=\"middle\" x=\"490.5\" y=\"-124.8\" font-family=\"Times,serif\" font-size=\"14.00\">data &#45;6.0000</text>\n<polyline fill=\"none\" stroke=\"black\" points=\"544,-110.5 544,-146.5 \"/>\n<text text-anchor=\"middle\" x=\"596\" y=\"-124.8\" font-family=\"Times,serif\" font-size=\"14.00\">grad 0.5000</text>\n</g>\n<!-- 139650006555552+ -->\n<g id=\"node13\" class=\"node\">\n<title>139650006555552+</title>\n<ellipse fill=\"none\" stroke=\"black\" cx=\"711\" cy=\"-100.5\" rx=\"27\" ry=\"18\"/>\n<text text-anchor=\"middle\" x=\"711\" y=\"-96.8\" font-family=\"Times,serif\" font-size=\"14.00\">+</text>\n</g>\n<!-- 139650006458400&#45;&gt;139650006555552+ -->\n<g id=\"edge11\" class=\"edge\">\n<title>139650006458400&#45;&gt;139650006555552+</title>\n<path fill=\"none\" stroke=\"black\" d=\"M639.53,-110.49C652.09,-108.71 663.99,-107.02 674.3,-105.56\"/>\n<polygon fill=\"black\" stroke=\"black\" points=\"675.03,-108.99 684.44,-104.12 674.05,-102.06 675.03,-108.99\"/>\n</g>\n<!-- 139650006458400*&#45;&gt;139650006458400 -->\n<g id=\"edge1\" class=\"edge\">\n<title>139650006458400*&#45;&gt;139650006458400</title>\n<path fill=\"none\" stroke=\"black\" d=\"M339.23,-128.5C346.7,-128.5 355.41,-128.5 364.87,-128.5\"/>\n<polygon fill=\"black\" stroke=\"black\" points=\"364.98,-132 374.98,-128.5 364.98,-125 364.98,-132\"/>\n</g>\n<!-- 139650006457872 -->\n<g id=\"node4\" class=\"node\">\n<title>139650006457872</title>\n<polygon fill=\"none\" stroke=\"black\" points=\"377.5,-55.5 377.5,-91.5 645.5,-91.5 645.5,-55.5 377.5,-55.5\"/>\n<text text-anchor=\"middle\" x=\"408.5\" y=\"-69.8\" font-family=\"Times,serif\" font-size=\"14.00\">x2*w2</text>\n<polyline fill=\"none\" stroke=\"black\" points=\"439.5,-55.5 439.5,-91.5 \"/>\n<text text-anchor=\"middle\" x=\"490.5\" y=\"-69.8\" font-family=\"Times,serif\" font-size=\"14.00\">data 0.0000</text>\n<polyline fill=\"none\" stroke=\"black\" points=\"541.5,-55.5 541.5,-91.5 \"/>\n<text text-anchor=\"middle\" x=\"593.5\" y=\"-69.8\" font-family=\"Times,serif\" font-size=\"14.00\">grad 0.5000</text>\n</g>\n<!-- 139650006457872&#45;&gt;139650006555552+ -->\n<g id=\"edge10\" class=\"edge\">\n<title>139650006457872&#45;&gt;139650006555552+</title>\n<path fill=\"none\" stroke=\"black\" d=\"M644.24,-91.51C655.12,-93 665.4,-94.4 674.45,-95.64\"/>\n<polygon fill=\"black\" stroke=\"black\" points=\"674.11,-99.13 684.49,-97.01 675.05,-92.19 674.11,-99.13\"/>\n</g>\n<!-- 139650006457872* -->\n<g id=\"node5\" class=\"node\">\n<title>139650006457872*</title>\n<ellipse fill=\"none\" stroke=\"black\" cx=\"312\" cy=\"-73.5\" rx=\"27\" ry=\"18\"/>\n<text text-anchor=\"middle\" x=\"312\" y=\"-69.8\" font-family=\"Times,serif\" font-size=\"14.00\">*</text>\n</g>\n<!-- 139650006457872*&#45;&gt;139650006457872 -->\n<g id=\"edge2\" class=\"edge\">\n<title>139650006457872*&#45;&gt;139650006457872</title>\n<path fill=\"none\" stroke=\"black\" d=\"M339.23,-73.5C347.26,-73.5 356.72,-73.5 366.99,-73.5\"/>\n<polygon fill=\"black\" stroke=\"black\" points=\"367.08,-77 377.08,-73.5 367.08,-70 367.08,-77\"/>\n</g>\n<!-- 139650006464112 -->\n<g id=\"node6\" class=\"node\">\n<title>139650006464112</title>\n<polygon fill=\"none\" stroke=\"black\" points=\"827.5,-27.5 827.5,-63.5 1059.5,-63.5 1059.5,-27.5 827.5,-27.5\"/>\n<text text-anchor=\"middle\" x=\"840.5\" y=\"-41.8\" font-family=\"Times,serif\" font-size=\"14.00\">b</text>\n<polyline fill=\"none\" stroke=\"black\" points=\"853.5,-27.5 853.5,-63.5 \"/>\n<text text-anchor=\"middle\" x=\"904.5\" y=\"-41.8\" font-family=\"Times,serif\" font-size=\"14.00\">data 6.8814</text>\n<polyline fill=\"none\" stroke=\"black\" points=\"955.5,-27.5 955.5,-63.5 \"/>\n<text text-anchor=\"middle\" x=\"1007.5\" y=\"-41.8\" font-family=\"Times,serif\" font-size=\"14.00\">grad 0.5000</text>\n</g>\n<!-- 139650006551232+ -->\n<g id=\"node9\" class=\"node\">\n<title>139650006551232+</title>\n<ellipse fill=\"none\" stroke=\"black\" cx=\"1176\" cy=\"-72.5\" rx=\"27\" ry=\"18\"/>\n<text text-anchor=\"middle\" x=\"1176\" y=\"-68.8\" font-family=\"Times,serif\" font-size=\"14.00\">+</text>\n</g>\n<!-- 139650006464112&#45;&gt;139650006551232+ -->\n<g id=\"edge14\" class=\"edge\">\n<title>139650006464112&#45;&gt;139650006551232+</title>\n<path fill=\"none\" stroke=\"black\" d=\"M1059.75,-59C1088.57,-62.38 1117.4,-65.75 1139.01,-68.28\"/>\n<polygon fill=\"black\" stroke=\"black\" points=\"1138.67,-71.77 1149.01,-69.46 1139.48,-64.82 1138.67,-71.77\"/>\n</g>\n<!-- 139650006464160 -->\n<g id=\"node7\" class=\"node\">\n<title>139650006464160</title>\n<polygon fill=\"none\" stroke=\"black\" points=\"2.5,-55.5 2.5,-91.5 246.5,-91.5 246.5,-55.5 2.5,-55.5\"/>\n<text text-anchor=\"middle\" x=\"21.5\" y=\"-69.8\" font-family=\"Times,serif\" font-size=\"14.00\">w2</text>\n<polyline fill=\"none\" stroke=\"black\" points=\"40.5,-55.5 40.5,-91.5 \"/>\n<text text-anchor=\"middle\" x=\"91.5\" y=\"-69.8\" font-family=\"Times,serif\" font-size=\"14.00\">data 1.0000</text>\n<polyline fill=\"none\" stroke=\"black\" points=\"142.5,-55.5 142.5,-91.5 \"/>\n<text text-anchor=\"middle\" x=\"194.5\" y=\"-69.8\" font-family=\"Times,serif\" font-size=\"14.00\">grad 0.0000</text>\n</g>\n<!-- 139650006464160&#45;&gt;139650006457872* -->\n<g id=\"edge12\" class=\"edge\">\n<title>139650006464160&#45;&gt;139650006457872*</title>\n<path fill=\"none\" stroke=\"black\" d=\"M246.64,-73.5C256.7,-73.5 266.26,-73.5 274.79,-73.5\"/>\n<polygon fill=\"black\" stroke=\"black\" points=\"275,-77 285,-73.5 275,-70 275,-77\"/>\n</g>\n<!-- 139650006551232 -->\n<g id=\"node8\" class=\"node\">\n<title>139650006551232</title>\n<polygon fill=\"none\" stroke=\"black\" points=\"1239,-54.5 1239,-90.5 1471,-90.5 1471,-54.5 1239,-54.5\"/>\n<text text-anchor=\"middle\" x=\"1252\" y=\"-68.8\" font-family=\"Times,serif\" font-size=\"14.00\">n</text>\n<polyline fill=\"none\" stroke=\"black\" points=\"1265,-54.5 1265,-90.5 \"/>\n<text text-anchor=\"middle\" x=\"1316\" y=\"-68.8\" font-family=\"Times,serif\" font-size=\"14.00\">data 0.8814</text>\n<polyline fill=\"none\" stroke=\"black\" points=\"1367,-54.5 1367,-90.5 \"/>\n<text text-anchor=\"middle\" x=\"1419\" y=\"-68.8\" font-family=\"Times,serif\" font-size=\"14.00\">grad 0.5000</text>\n</g>\n<!-- 139650006555600tanh -->\n<g id=\"node15\" class=\"node\">\n<title>139650006555600tanh</title>\n<ellipse fill=\"none\" stroke=\"black\" cx=\"1538.85\" cy=\"-72.5\" rx=\"31.7\" ry=\"18\"/>\n<text text-anchor=\"middle\" x=\"1538.85\" y=\"-68.8\" font-family=\"Times,serif\" font-size=\"14.00\">tanh</text>\n</g>\n<!-- 139650006551232&#45;&gt;139650006555600tanh -->\n<g id=\"edge7\" class=\"edge\">\n<title>139650006551232&#45;&gt;139650006555600tanh</title>\n<path fill=\"none\" stroke=\"black\" d=\"M1471.17,-72.5C1480.08,-72.5 1488.66,-72.5 1496.53,-72.5\"/>\n<polygon fill=\"black\" stroke=\"black\" points=\"1496.78,-76 1506.78,-72.5 1496.78,-69 1496.78,-76\"/>\n</g>\n<!-- 139650006551232+&#45;&gt;139650006551232 -->\n<g id=\"edge3\" class=\"edge\">\n<title>139650006551232+&#45;&gt;139650006551232</title>\n<path fill=\"none\" stroke=\"black\" d=\"M1203.12,-72.5C1210.53,-72.5 1219.14,-72.5 1228.4,-72.5\"/>\n<polygon fill=\"black\" stroke=\"black\" points=\"1228.69,-76 1238.69,-72.5 1228.69,-69 1228.69,-76\"/>\n</g>\n<!-- 139650006463680 -->\n<g id=\"node10\" class=\"node\">\n<title>139650006463680</title>\n<polygon fill=\"none\" stroke=\"black\" points=\"4.5,-0.5 4.5,-36.5 244.5,-36.5 244.5,-0.5 4.5,-0.5\"/>\n<text text-anchor=\"middle\" x=\"21.5\" y=\"-14.8\" font-family=\"Times,serif\" font-size=\"14.00\">x2</text>\n<polyline fill=\"none\" stroke=\"black\" points=\"38.5,-0.5 38.5,-36.5 \"/>\n<text text-anchor=\"middle\" x=\"89.5\" y=\"-14.8\" font-family=\"Times,serif\" font-size=\"14.00\">data 0.0000</text>\n<polyline fill=\"none\" stroke=\"black\" points=\"140.5,-0.5 140.5,-36.5 \"/>\n<text text-anchor=\"middle\" x=\"192.5\" y=\"-14.8\" font-family=\"Times,serif\" font-size=\"14.00\">grad 0.5000</text>\n</g>\n<!-- 139650006463680&#45;&gt;139650006457872* -->\n<g id=\"edge13\" class=\"edge\">\n<title>139650006463680&#45;&gt;139650006457872*</title>\n<path fill=\"none\" stroke=\"black\" d=\"M214.42,-36.55C226.15,-39.54 237.93,-42.87 249,-46.5 259.46,-49.93 270.57,-54.47 280.46,-58.84\"/>\n<polygon fill=\"black\" stroke=\"black\" points=\"279.31,-62.17 289.87,-63.12 282.21,-55.79 279.31,-62.17\"/>\n</g>\n<!-- 139650006459696 -->\n<g id=\"node11\" class=\"node\">\n<title>139650006459696</title>\n<polygon fill=\"none\" stroke=\"black\" points=\"2.5,-110.5 2.5,-146.5 246.5,-146.5 246.5,-110.5 2.5,-110.5\"/>\n<text text-anchor=\"middle\" x=\"19.5\" y=\"-124.8\" font-family=\"Times,serif\" font-size=\"14.00\">x1</text>\n<polyline fill=\"none\" stroke=\"black\" points=\"36.5,-110.5 36.5,-146.5 \"/>\n<text text-anchor=\"middle\" x=\"87.5\" y=\"-124.8\" font-family=\"Times,serif\" font-size=\"14.00\">data 2.0000</text>\n<polyline fill=\"none\" stroke=\"black\" points=\"138.5,-110.5 138.5,-146.5 \"/>\n<text text-anchor=\"middle\" x=\"192.5\" y=\"-124.8\" font-family=\"Times,serif\" font-size=\"14.00\">grad &#45;1.5000</text>\n</g>\n<!-- 139650006459696&#45;&gt;139650006458400* -->\n<g id=\"edge9\" class=\"edge\">\n<title>139650006459696&#45;&gt;139650006458400*</title>\n<path fill=\"none\" stroke=\"black\" d=\"M246.64,-128.5C256.7,-128.5 266.26,-128.5 274.79,-128.5\"/>\n<polygon fill=\"black\" stroke=\"black\" points=\"275,-132 285,-128.5 275,-125 275,-132\"/>\n</g>\n<!-- 139650006555552 -->\n<g id=\"node12\" class=\"node\">\n<title>139650006555552</title>\n<polygon fill=\"none\" stroke=\"black\" points=\"774,-82.5 774,-118.5 1113,-118.5 1113,-82.5 774,-82.5\"/>\n<text text-anchor=\"middle\" x=\"838\" y=\"-96.8\" font-family=\"Times,serif\" font-size=\"14.00\">x1*w1 + x2*w2</text>\n<polyline fill=\"none\" stroke=\"black\" points=\"902,-82.5 902,-118.5 \"/>\n<text text-anchor=\"middle\" x=\"955.5\" y=\"-96.8\" font-family=\"Times,serif\" font-size=\"14.00\">data &#45;6.0000</text>\n<polyline fill=\"none\" stroke=\"black\" points=\"1009,-82.5 1009,-118.5 \"/>\n<text text-anchor=\"middle\" x=\"1061\" y=\"-96.8\" font-family=\"Times,serif\" font-size=\"14.00\">grad 0.5000</text>\n</g>\n<!-- 139650006555552&#45;&gt;139650006551232+ -->\n<g id=\"edge6\" class=\"edge\">\n<title>139650006555552&#45;&gt;139650006551232+</title>\n<path fill=\"none\" stroke=\"black\" d=\"M1092.76,-82.49C1109.86,-80.41 1125.9,-78.46 1139.2,-76.85\"/>\n<polygon fill=\"black\" stroke=\"black\" points=\"1139.74,-80.31 1149.24,-75.63 1138.89,-73.36 1139.74,-80.31\"/>\n</g>\n<!-- 139650006555552+&#45;&gt;139650006555552 -->\n<g id=\"edge4\" class=\"edge\">\n<title>139650006555552+&#45;&gt;139650006555552</title>\n<path fill=\"none\" stroke=\"black\" d=\"M738.44,-100.5C745.81,-100.5 754.42,-100.5 763.84,-100.5\"/>\n<polygon fill=\"black\" stroke=\"black\" points=\"763.94,-104 773.94,-100.5 763.94,-97 763.94,-104\"/>\n</g>\n<!-- 139650006555600 -->\n<g id=\"node14\" class=\"node\">\n<title>139650006555600</title>\n<polygon fill=\"none\" stroke=\"black\" points=\"1606.69,-54.5 1606.69,-90.5 1837.69,-90.5 1837.69,-54.5 1606.69,-54.5\"/>\n<text text-anchor=\"middle\" x=\"1619.19\" y=\"-68.8\" font-family=\"Times,serif\" font-size=\"14.00\">o</text>\n<polyline fill=\"none\" stroke=\"black\" points=\"1631.69,-54.5 1631.69,-90.5 \"/>\n<text text-anchor=\"middle\" x=\"1682.69\" y=\"-68.8\" font-family=\"Times,serif\" font-size=\"14.00\">data 0.7071</text>\n<polyline fill=\"none\" stroke=\"black\" points=\"1733.69,-54.5 1733.69,-90.5 \"/>\n<text text-anchor=\"middle\" x=\"1785.69\" y=\"-68.8\" font-family=\"Times,serif\" font-size=\"14.00\">grad 1.0000</text>\n</g>\n<!-- 139650006555600tanh&#45;&gt;139650006555600 -->\n<g id=\"edge5\" class=\"edge\">\n<title>139650006555600tanh&#45;&gt;139650006555600</title>\n<path fill=\"none\" stroke=\"black\" d=\"M1571.02,-72.5C1578.61,-72.5 1587.19,-72.5 1596.31,-72.5\"/>\n<polygon fill=\"black\" stroke=\"black\" points=\"1596.4,-76 1606.4,-72.5 1596.4,-69 1596.4,-76\"/>\n</g>\n</g>\n</svg>\n",
            "text/plain": [
              "<graphviz.graphs.Digraph at 0x7f02cd08ba90>"
            ]
          },
          "execution_count": 29,
          "metadata": {},
          "output_type": "execute_result"
        }
      ],
      "source": [
        "def test():\n",
        "    # inputs x1, x2\n",
        "    x1 = Value(2.0).label(\"x1\")\n",
        "    x2 = Value(0.0).label(\"x2\")\n",
        "    # weights w1, w2\n",
        "    w1 = Value(-3.0).label(\"w1\")\n",
        "    w2 = Value(1.0).label(\"w2\")\n",
        "    # bias of the neuron\n",
        "    b = Value(6.8813735870195432).label(\"b\")\n",
        "    # x1*w1 + x2*w2 + b\n",
        "    x1w1 = (x1 * w1).label(\"x1*w1\")\n",
        "    x2w2 = (x2 * w2).label(\"x2*w2\")\n",
        "    x1w1x2w2 = (x1w1 + x2w2).label(\"x1*w1 + x2*w2\")\n",
        "    n = (x1w1x2w2 + b).label(\"n\")\n",
        "    o = n.tanh().label(\"o\")\n",
        "    o.backward()\n",
        "    return draw_dot(o)\n",
        "\n",
        "\n",
        "test()\n"
      ]
    },
    {
      "cell_type": "code",
      "execution_count": 30,
      "metadata": {},
      "outputs": [
        {
          "data": {
            "image/svg+xml": "<?xml version=\"1.0\" encoding=\"UTF-8\" standalone=\"no\"?>\n<!DOCTYPE svg PUBLIC \"-//W3C//DTD SVG 1.1//EN\"\n \"http://www.w3.org/Graphics/SVG/1.1/DTD/svg11.dtd\">\n<!-- Generated by graphviz version 2.43.0 (0)\n -->\n<!-- Title: %3 Pages: 1 -->\n<svg width=\"3307pt\" height=\"236pt\"\n viewBox=\"0.00 0.00 3306.60 236.00\" xmlns=\"http://www.w3.org/2000/svg\" xmlns:xlink=\"http://www.w3.org/1999/xlink\">\n<g id=\"graph0\" class=\"graph\" transform=\"scale(1 1) rotate(0) translate(4 232)\">\n<title>%3</title>\n<polygon fill=\"white\" stroke=\"transparent\" points=\"-4,4 -4,-232 3302.6,-232 3302.6,4 -4,4\"/>\n<!-- 139650006557184 -->\n<g id=\"node1\" class=\"node\">\n<title>139650006557184</title>\n<polygon fill=\"none\" stroke=\"black\" points=\"377.5,-55.5 377.5,-91.5 645.5,-91.5 645.5,-55.5 377.5,-55.5\"/>\n<text text-anchor=\"middle\" x=\"408.5\" y=\"-69.8\" font-family=\"Times,serif\" font-size=\"14.00\">x2*w2</text>\n<polyline fill=\"none\" stroke=\"black\" points=\"439.5,-55.5 439.5,-91.5 \"/>\n<text text-anchor=\"middle\" x=\"490.5\" y=\"-69.8\" font-family=\"Times,serif\" font-size=\"14.00\">data 0.0000</text>\n<polyline fill=\"none\" stroke=\"black\" points=\"541.5,-55.5 541.5,-91.5 \"/>\n<text text-anchor=\"middle\" x=\"593.5\" y=\"-69.8\" font-family=\"Times,serif\" font-size=\"14.00\">grad 0.5000</text>\n</g>\n<!-- 139650006561264+ -->\n<g id=\"node26\" class=\"node\">\n<title>139650006561264+</title>\n<ellipse fill=\"none\" stroke=\"black\" cx=\"711\" cy=\"-100.5\" rx=\"27\" ry=\"18\"/>\n<text text-anchor=\"middle\" x=\"711\" y=\"-96.8\" font-family=\"Times,serif\" font-size=\"14.00\">+</text>\n</g>\n<!-- 139650006557184&#45;&gt;139650006561264+ -->\n<g id=\"edge25\" class=\"edge\">\n<title>139650006557184&#45;&gt;139650006561264+</title>\n<path fill=\"none\" stroke=\"black\" d=\"M644.24,-91.51C655.12,-93 665.4,-94.4 674.45,-95.64\"/>\n<polygon fill=\"black\" stroke=\"black\" points=\"674.11,-99.13 684.49,-97.01 675.05,-92.19 674.11,-99.13\"/>\n</g>\n<!-- 139650006557184* -->\n<g id=\"node2\" class=\"node\">\n<title>139650006557184*</title>\n<ellipse fill=\"none\" stroke=\"black\" cx=\"312\" cy=\"-73.5\" rx=\"27\" ry=\"18\"/>\n<text text-anchor=\"middle\" x=\"312\" y=\"-69.8\" font-family=\"Times,serif\" font-size=\"14.00\">*</text>\n</g>\n<!-- 139650006557184*&#45;&gt;139650006557184 -->\n<g id=\"edge1\" class=\"edge\">\n<title>139650006557184*&#45;&gt;139650006557184</title>\n<path fill=\"none\" stroke=\"black\" d=\"M339.23,-73.5C347.26,-73.5 356.72,-73.5 366.99,-73.5\"/>\n<polygon fill=\"black\" stroke=\"black\" points=\"367.08,-77 377.08,-73.5 367.08,-70 367.08,-77\"/>\n</g>\n<!-- 139650006552528 -->\n<g id=\"node3\" class=\"node\">\n<title>139650006552528</title>\n<polygon fill=\"none\" stroke=\"black\" points=\"4.5,-55.5 4.5,-91.5 244.5,-91.5 244.5,-55.5 4.5,-55.5\"/>\n<text text-anchor=\"middle\" x=\"21.5\" y=\"-69.8\" font-family=\"Times,serif\" font-size=\"14.00\">x2</text>\n<polyline fill=\"none\" stroke=\"black\" points=\"38.5,-55.5 38.5,-91.5 \"/>\n<text text-anchor=\"middle\" x=\"89.5\" y=\"-69.8\" font-family=\"Times,serif\" font-size=\"14.00\">data 0.0000</text>\n<polyline fill=\"none\" stroke=\"black\" points=\"140.5,-55.5 140.5,-91.5 \"/>\n<text text-anchor=\"middle\" x=\"192.5\" y=\"-69.8\" font-family=\"Times,serif\" font-size=\"14.00\">grad 0.5000</text>\n</g>\n<!-- 139650006552528&#45;&gt;139650006557184* -->\n<g id=\"edge21\" class=\"edge\">\n<title>139650006552528&#45;&gt;139650006557184*</title>\n<path fill=\"none\" stroke=\"black\" d=\"M244.55,-73.5C255.31,-73.5 265.54,-73.5 274.62,-73.5\"/>\n<polygon fill=\"black\" stroke=\"black\" points=\"274.7,-77 284.7,-73.5 274.7,-70 274.7,-77\"/>\n</g>\n<!-- 139650006559248 -->\n<g id=\"node4\" class=\"node\">\n<title>139650006559248</title>\n<polygon fill=\"none\" stroke=\"black\" points=\"2.5,-0.5 2.5,-36.5 246.5,-36.5 246.5,-0.5 2.5,-0.5\"/>\n<text text-anchor=\"middle\" x=\"21.5\" y=\"-14.8\" font-family=\"Times,serif\" font-size=\"14.00\">w2</text>\n<polyline fill=\"none\" stroke=\"black\" points=\"40.5,-0.5 40.5,-36.5 \"/>\n<text text-anchor=\"middle\" x=\"91.5\" y=\"-14.8\" font-family=\"Times,serif\" font-size=\"14.00\">data 1.0000</text>\n<polyline fill=\"none\" stroke=\"black\" points=\"142.5,-0.5 142.5,-36.5 \"/>\n<text text-anchor=\"middle\" x=\"194.5\" y=\"-14.8\" font-family=\"Times,serif\" font-size=\"14.00\">grad 0.0000</text>\n</g>\n<!-- 139650006559248&#45;&gt;139650006557184* -->\n<g id=\"edge20\" class=\"edge\">\n<title>139650006559248&#45;&gt;139650006557184*</title>\n<path fill=\"none\" stroke=\"black\" d=\"M214.42,-36.55C226.15,-39.54 237.93,-42.87 249,-46.5 259.46,-49.93 270.57,-54.47 280.46,-58.84\"/>\n<polygon fill=\"black\" stroke=\"black\" points=\"279.31,-62.17 289.87,-63.12 282.21,-55.79 279.31,-62.17\"/>\n</g>\n<!-- 139650040662576 -->\n<g id=\"node5\" class=\"node\">\n<title>139650040662576</title>\n<polygon fill=\"none\" stroke=\"black\" points=\"2.5,-165.5 2.5,-201.5 246.5,-201.5 246.5,-165.5 2.5,-165.5\"/>\n<text text-anchor=\"middle\" x=\"19.5\" y=\"-179.8\" font-family=\"Times,serif\" font-size=\"14.00\">x1</text>\n<polyline fill=\"none\" stroke=\"black\" points=\"36.5,-165.5 36.5,-201.5 \"/>\n<text text-anchor=\"middle\" x=\"87.5\" y=\"-179.8\" font-family=\"Times,serif\" font-size=\"14.00\">data 2.0000</text>\n<polyline fill=\"none\" stroke=\"black\" points=\"138.5,-165.5 138.5,-201.5 \"/>\n<text text-anchor=\"middle\" x=\"192.5\" y=\"-179.8\" font-family=\"Times,serif\" font-size=\"14.00\">grad &#45;1.5000</text>\n</g>\n<!-- 139650006555840* -->\n<g id=\"node9\" class=\"node\">\n<title>139650006555840*</title>\n<ellipse fill=\"none\" stroke=\"black\" cx=\"312\" cy=\"-128.5\" rx=\"27\" ry=\"18\"/>\n<text text-anchor=\"middle\" x=\"312\" y=\"-124.8\" font-family=\"Times,serif\" font-size=\"14.00\">*</text>\n</g>\n<!-- 139650040662576&#45;&gt;139650006555840* -->\n<g id=\"edge17\" class=\"edge\">\n<title>139650040662576&#45;&gt;139650006555840*</title>\n<path fill=\"none\" stroke=\"black\" d=\"M218.13,-165.46C228.63,-162.77 239.1,-159.78 249,-156.5 259.71,-152.96 271.05,-148.16 281.07,-143.54\"/>\n<polygon fill=\"black\" stroke=\"black\" points=\"282.67,-146.66 290.2,-139.21 279.67,-140.33 282.67,-146.66\"/>\n</g>\n<!-- 139650006560448 -->\n<g id=\"node6\" class=\"node\">\n<title>139650006560448</title>\n<polygon fill=\"none\" stroke=\"black\" points=\"2403.1,-108.5 2403.1,-144.5 2718.1,-144.5 2718.1,-108.5 2403.1,-108.5\"/>\n<text text-anchor=\"middle\" x=\"2457.6\" y=\"-122.8\" font-family=\"Times,serif\" font-size=\"14.00\">exp(2 * n) &#45; 1</text>\n<polyline fill=\"none\" stroke=\"black\" points=\"2512.1,-108.5 2512.1,-144.5 \"/>\n<text text-anchor=\"middle\" x=\"2563.1\" y=\"-122.8\" font-family=\"Times,serif\" font-size=\"14.00\">data 4.8284</text>\n<polyline fill=\"none\" stroke=\"black\" points=\"2614.1,-108.5 2614.1,-144.5 \"/>\n<text text-anchor=\"middle\" x=\"2666.1\" y=\"-122.8\" font-family=\"Times,serif\" font-size=\"14.00\">grad 0.1464</text>\n</g>\n<!-- 139650006550992/ -->\n<g id=\"node22\" class=\"node\">\n<title>139650006550992/</title>\n<ellipse fill=\"none\" stroke=\"black\" cx=\"2786.6\" cy=\"-153.5\" rx=\"27\" ry=\"18\"/>\n<text text-anchor=\"middle\" x=\"2786.6\" y=\"-149.8\" font-family=\"Times,serif\" font-size=\"14.00\">/</text>\n</g>\n<!-- 139650006560448&#45;&gt;139650006550992/ -->\n<g id=\"edge24\" class=\"edge\">\n<title>139650006560448&#45;&gt;139650006550992/</title>\n<path fill=\"none\" stroke=\"black\" d=\"M2711.01,-144.51C2725.12,-146.21 2738.33,-147.8 2749.6,-149.16\"/>\n<polygon fill=\"black\" stroke=\"black\" points=\"2749.43,-152.67 2759.78,-150.39 2750.27,-145.72 2749.43,-152.67\"/>\n</g>\n<!-- 139650006560448&#45; -->\n<g id=\"node7\" class=\"node\">\n<title>139650006560448&#45;</title>\n<ellipse fill=\"none\" stroke=\"black\" cx=\"2334.6\" cy=\"-126.5\" rx=\"27\" ry=\"18\"/>\n<text text-anchor=\"middle\" x=\"2334.6\" y=\"-122.8\" font-family=\"Times,serif\" font-size=\"14.00\">&#45;</text>\n</g>\n<!-- 139650006560448&#45;&#45;&gt;139650006560448 -->\n<g id=\"edge2\" class=\"edge\">\n<title>139650006560448&#45;&#45;&gt;139650006560448</title>\n<path fill=\"none\" stroke=\"black\" d=\"M2361.73,-126.5C2370.57,-126.5 2381.18,-126.5 2392.85,-126.5\"/>\n<polygon fill=\"black\" stroke=\"black\" points=\"2392.89,-130 2402.89,-126.5 2392.89,-123 2392.89,-130\"/>\n</g>\n<!-- 139650006555840 -->\n<g id=\"node8\" class=\"node\">\n<title>139650006555840</title>\n<polygon fill=\"none\" stroke=\"black\" points=\"375,-110.5 375,-146.5 648,-146.5 648,-110.5 375,-110.5\"/>\n<text text-anchor=\"middle\" x=\"406\" y=\"-124.8\" font-family=\"Times,serif\" font-size=\"14.00\">x1*w1</text>\n<polyline fill=\"none\" stroke=\"black\" points=\"437,-110.5 437,-146.5 \"/>\n<text text-anchor=\"middle\" x=\"490.5\" y=\"-124.8\" font-family=\"Times,serif\" font-size=\"14.00\">data &#45;6.0000</text>\n<polyline fill=\"none\" stroke=\"black\" points=\"544,-110.5 544,-146.5 \"/>\n<text text-anchor=\"middle\" x=\"596\" y=\"-124.8\" font-family=\"Times,serif\" font-size=\"14.00\">grad 0.5000</text>\n</g>\n<!-- 139650006555840&#45;&gt;139650006561264+ -->\n<g id=\"edge16\" class=\"edge\">\n<title>139650006555840&#45;&gt;139650006561264+</title>\n<path fill=\"none\" stroke=\"black\" d=\"M639.53,-110.49C652.09,-108.71 663.99,-107.02 674.3,-105.56\"/>\n<polygon fill=\"black\" stroke=\"black\" points=\"675.03,-108.99 684.44,-104.12 674.05,-102.06 675.03,-108.99\"/>\n</g>\n<!-- 139650006555840*&#45;&gt;139650006555840 -->\n<g id=\"edge3\" class=\"edge\">\n<title>139650006555840*&#45;&gt;139650006555840</title>\n<path fill=\"none\" stroke=\"black\" d=\"M339.23,-128.5C346.7,-128.5 355.41,-128.5 364.87,-128.5\"/>\n<polygon fill=\"black\" stroke=\"black\" points=\"364.98,-132 374.98,-128.5 364.98,-125 364.98,-132\"/>\n</g>\n<!-- 139650006558912 -->\n<g id=\"node10\" class=\"node\">\n<title>139650006558912</title>\n<polygon fill=\"none\" stroke=\"black\" points=\"0,-110.5 0,-146.5 249,-146.5 249,-110.5 0,-110.5\"/>\n<text text-anchor=\"middle\" x=\"19\" y=\"-124.8\" font-family=\"Times,serif\" font-size=\"14.00\">w1</text>\n<polyline fill=\"none\" stroke=\"black\" points=\"38,-110.5 38,-146.5 \"/>\n<text text-anchor=\"middle\" x=\"91.5\" y=\"-124.8\" font-family=\"Times,serif\" font-size=\"14.00\">data &#45;3.0000</text>\n<polyline fill=\"none\" stroke=\"black\" points=\"145,-110.5 145,-146.5 \"/>\n<text text-anchor=\"middle\" x=\"197\" y=\"-124.8\" font-family=\"Times,serif\" font-size=\"14.00\">grad 1.0000</text>\n</g>\n<!-- 139650006558912&#45;&gt;139650006555840* -->\n<g id=\"edge22\" class=\"edge\">\n<title>139650006558912&#45;&gt;139650006555840*</title>\n<path fill=\"none\" stroke=\"black\" d=\"M249.23,-128.5C258.37,-128.5 267.05,-128.5 274.87,-128.5\"/>\n<polygon fill=\"black\" stroke=\"black\" points=\"274.95,-132 284.95,-128.5 274.95,-125 274.95,-132\"/>\n</g>\n<!-- 139650006549744 -->\n<g id=\"node11\" class=\"node\">\n<title>139650006549744</title>\n<polygon fill=\"none\" stroke=\"black\" points=\"1239,-109.5 1239,-145.5 1471,-145.5 1471,-109.5 1239,-109.5\"/>\n<text text-anchor=\"middle\" x=\"1252\" y=\"-123.8\" font-family=\"Times,serif\" font-size=\"14.00\">n</text>\n<polyline fill=\"none\" stroke=\"black\" points=\"1265,-109.5 1265,-145.5 \"/>\n<text text-anchor=\"middle\" x=\"1316\" y=\"-123.8\" font-family=\"Times,serif\" font-size=\"14.00\">data 0.8814</text>\n<polyline fill=\"none\" stroke=\"black\" points=\"1367,-109.5 1367,-145.5 \"/>\n<text text-anchor=\"middle\" x=\"1419\" y=\"-123.8\" font-family=\"Times,serif\" font-size=\"14.00\">grad 0.5000</text>\n</g>\n<!-- 139650006560064* -->\n<g id=\"node15\" class=\"node\">\n<title>139650006560064*</title>\n<ellipse fill=\"none\" stroke=\"black\" cx=\"1534\" cy=\"-154.5\" rx=\"27\" ry=\"18\"/>\n<text text-anchor=\"middle\" x=\"1534\" y=\"-150.8\" font-family=\"Times,serif\" font-size=\"14.00\">*</text>\n</g>\n<!-- 139650006549744&#45;&gt;139650006560064* -->\n<g id=\"edge26\" class=\"edge\">\n<title>139650006549744&#45;&gt;139650006560064*</title>\n<path fill=\"none\" stroke=\"black\" d=\"M1471.09,-145.06C1480.46,-146.49 1489.39,-147.85 1497.4,-149.07\"/>\n<polygon fill=\"black\" stroke=\"black\" points=\"1496.96,-152.54 1507.37,-150.59 1498.01,-145.62 1496.96,-152.54\"/>\n</g>\n<!-- 139650006549744+ -->\n<g id=\"node12\" class=\"node\">\n<title>139650006549744+</title>\n<ellipse fill=\"none\" stroke=\"black\" cx=\"1176\" cy=\"-127.5\" rx=\"27\" ry=\"18\"/>\n<text text-anchor=\"middle\" x=\"1176\" y=\"-123.8\" font-family=\"Times,serif\" font-size=\"14.00\">+</text>\n</g>\n<!-- 139650006549744+&#45;&gt;139650006549744 -->\n<g id=\"edge4\" class=\"edge\">\n<title>139650006549744+&#45;&gt;139650006549744</title>\n<path fill=\"none\" stroke=\"black\" d=\"M1203.12,-127.5C1210.53,-127.5 1219.14,-127.5 1228.4,-127.5\"/>\n<polygon fill=\"black\" stroke=\"black\" points=\"1228.69,-131 1238.69,-127.5 1228.69,-124 1228.69,-131\"/>\n</g>\n<!-- 139650006550800 -->\n<g id=\"node13\" class=\"node\">\n<title>139650006550800</title>\n<polygon fill=\"none\" stroke=\"black\" points=\"1239,-164.5 1239,-200.5 1471,-200.5 1471,-164.5 1239,-164.5\"/>\n<text text-anchor=\"middle\" x=\"1252\" y=\"-178.8\" font-family=\"Times,serif\" font-size=\"14.00\">2</text>\n<polyline fill=\"none\" stroke=\"black\" points=\"1265,-164.5 1265,-200.5 \"/>\n<text text-anchor=\"middle\" x=\"1316\" y=\"-178.8\" font-family=\"Times,serif\" font-size=\"14.00\">data 2.0000</text>\n<polyline fill=\"none\" stroke=\"black\" points=\"1367,-164.5 1367,-200.5 \"/>\n<text text-anchor=\"middle\" x=\"1419\" y=\"-178.8\" font-family=\"Times,serif\" font-size=\"14.00\">grad 0.2203</text>\n</g>\n<!-- 139650006550800&#45;&gt;139650006560064* -->\n<g id=\"edge23\" class=\"edge\">\n<title>139650006550800&#45;&gt;139650006560064*</title>\n<path fill=\"none\" stroke=\"black\" d=\"M1470.1,-164.45C1479.88,-162.9 1489.21,-161.43 1497.54,-160.11\"/>\n<polygon fill=\"black\" stroke=\"black\" points=\"1498.19,-163.55 1507.52,-158.53 1497.1,-156.64 1498.19,-163.55\"/>\n</g>\n<!-- 139650006560064 -->\n<g id=\"node14\" class=\"node\">\n<title>139650006560064</title>\n<polygon fill=\"none\" stroke=\"black\" points=\"1597,-136.5 1597,-172.5 1853,-172.5 1853,-136.5 1597,-136.5\"/>\n<text text-anchor=\"middle\" x=\"1622\" y=\"-150.8\" font-family=\"Times,serif\" font-size=\"14.00\">2 * n</text>\n<polyline fill=\"none\" stroke=\"black\" points=\"1647,-136.5 1647,-172.5 \"/>\n<text text-anchor=\"middle\" x=\"1698\" y=\"-150.8\" font-family=\"Times,serif\" font-size=\"14.00\">data 1.7627</text>\n<polyline fill=\"none\" stroke=\"black\" points=\"1749,-136.5 1749,-172.5 \"/>\n<text text-anchor=\"middle\" x=\"1801\" y=\"-150.8\" font-family=\"Times,serif\" font-size=\"14.00\">grad 0.2500</text>\n</g>\n<!-- 139650006559632exp -->\n<g id=\"node18\" class=\"node\">\n<title>139650006559632exp</title>\n<ellipse fill=\"none\" stroke=\"black\" cx=\"1916.3\" cy=\"-154.5\" rx=\"27.1\" ry=\"18\"/>\n<text text-anchor=\"middle\" x=\"1916.3\" y=\"-150.8\" font-family=\"Times,serif\" font-size=\"14.00\">exp</text>\n</g>\n<!-- 139650006560064&#45;&gt;139650006559632exp -->\n<g id=\"edge10\" class=\"edge\">\n<title>139650006560064&#45;&gt;139650006559632exp</title>\n<path fill=\"none\" stroke=\"black\" d=\"M1853.05,-154.5C1862.19,-154.5 1870.87,-154.5 1878.68,-154.5\"/>\n<polygon fill=\"black\" stroke=\"black\" points=\"1878.77,-158 1888.77,-154.5 1878.77,-151 1878.77,-158\"/>\n</g>\n<!-- 139650006560064*&#45;&gt;139650006560064 -->\n<g id=\"edge5\" class=\"edge\">\n<title>139650006560064*&#45;&gt;139650006560064</title>\n<path fill=\"none\" stroke=\"black\" d=\"M1561.28,-154.5C1568.73,-154.5 1577.4,-154.5 1586.77,-154.5\"/>\n<polygon fill=\"black\" stroke=\"black\" points=\"1586.78,-158 1596.78,-154.5 1586.78,-151 1586.78,-158\"/>\n</g>\n<!-- 139650006563664 -->\n<g id=\"node16\" class=\"node\">\n<title>139650006563664</title>\n<polygon fill=\"none\" stroke=\"black\" points=\"827.5,-137.5 827.5,-173.5 1059.5,-173.5 1059.5,-137.5 827.5,-137.5\"/>\n<text text-anchor=\"middle\" x=\"840.5\" y=\"-151.8\" font-family=\"Times,serif\" font-size=\"14.00\">b</text>\n<polyline fill=\"none\" stroke=\"black\" points=\"853.5,-137.5 853.5,-173.5 \"/>\n<text text-anchor=\"middle\" x=\"904.5\" y=\"-151.8\" font-family=\"Times,serif\" font-size=\"14.00\">data 6.8814</text>\n<polyline fill=\"none\" stroke=\"black\" points=\"955.5,-137.5 955.5,-173.5 \"/>\n<text text-anchor=\"middle\" x=\"1007.5\" y=\"-151.8\" font-family=\"Times,serif\" font-size=\"14.00\">grad 0.5000</text>\n</g>\n<!-- 139650006563664&#45;&gt;139650006549744+ -->\n<g id=\"edge15\" class=\"edge\">\n<title>139650006563664&#45;&gt;139650006549744+</title>\n<path fill=\"none\" stroke=\"black\" d=\"M1059.75,-141.5C1088.57,-138 1117.4,-134.5 1139.01,-131.87\"/>\n<polygon fill=\"black\" stroke=\"black\" points=\"1139.5,-135.34 1149.01,-130.66 1138.66,-128.39 1139.5,-135.34\"/>\n</g>\n<!-- 139650006559632 -->\n<g id=\"node17\" class=\"node\">\n<title>139650006559632</title>\n<polygon fill=\"none\" stroke=\"black\" points=\"1979.6,-136.5 1979.6,-172.5 2271.6,-172.5 2271.6,-136.5 1979.6,-136.5\"/>\n<text text-anchor=\"middle\" x=\"2022.6\" y=\"-150.8\" font-family=\"Times,serif\" font-size=\"14.00\">exp(2 * n)</text>\n<polyline fill=\"none\" stroke=\"black\" points=\"2065.6,-136.5 2065.6,-172.5 \"/>\n<text text-anchor=\"middle\" x=\"2116.6\" y=\"-150.8\" font-family=\"Times,serif\" font-size=\"14.00\">data 5.8284</text>\n<polyline fill=\"none\" stroke=\"black\" points=\"2167.6,-136.5 2167.6,-172.5 \"/>\n<text text-anchor=\"middle\" x=\"2219.6\" y=\"-150.8\" font-family=\"Times,serif\" font-size=\"14.00\">grad 0.0429</text>\n</g>\n<!-- 139650006559632&#45;&gt;139650006560448&#45; -->\n<g id=\"edge12\" class=\"edge\">\n<title>139650006559632&#45;&gt;139650006560448&#45;</title>\n<path fill=\"none\" stroke=\"black\" d=\"M2259.74,-136.49C2273.54,-134.62 2286.57,-132.86 2297.73,-131.35\"/>\n<polygon fill=\"black\" stroke=\"black\" points=\"2298.39,-134.79 2307.83,-129.99 2297.45,-127.86 2298.39,-134.79\"/>\n</g>\n<!-- 139650006559200+ -->\n<g id=\"node24\" class=\"node\">\n<title>139650006559200+</title>\n<ellipse fill=\"none\" stroke=\"black\" cx=\"2334.6\" cy=\"-181.5\" rx=\"27\" ry=\"18\"/>\n<text text-anchor=\"middle\" x=\"2334.6\" y=\"-177.8\" font-family=\"Times,serif\" font-size=\"14.00\">+</text>\n</g>\n<!-- 139650006559632&#45;&gt;139650006559200+ -->\n<g id=\"edge18\" class=\"edge\">\n<title>139650006559632&#45;&gt;139650006559200+</title>\n<path fill=\"none\" stroke=\"black\" d=\"M2264.67,-172.51C2276.65,-174.07 2287.93,-175.54 2297.77,-176.83\"/>\n<polygon fill=\"black\" stroke=\"black\" points=\"2297.46,-180.32 2307.83,-178.14 2298.37,-173.38 2297.46,-180.32\"/>\n</g>\n<!-- 139650006559632exp&#45;&gt;139650006559632 -->\n<g id=\"edge6\" class=\"edge\">\n<title>139650006559632exp&#45;&gt;139650006559632</title>\n<path fill=\"none\" stroke=\"black\" d=\"M1943.97,-154.5C1951.28,-154.5 1959.76,-154.5 1968.98,-154.5\"/>\n<polygon fill=\"black\" stroke=\"black\" points=\"1969.25,-158 1979.25,-154.5 1969.25,-151 1969.25,-158\"/>\n</g>\n<!-- 139650006559152 -->\n<g id=\"node19\" class=\"node\">\n<title>139650006559152</title>\n<polygon fill=\"none\" stroke=\"black\" points=\"2007.6,-191.5 2007.6,-227.5 2243.6,-227.5 2243.6,-191.5 2007.6,-191.5\"/>\n<text text-anchor=\"middle\" x=\"2020.6\" y=\"-205.8\" font-family=\"Times,serif\" font-size=\"14.00\">1</text>\n<polyline fill=\"none\" stroke=\"black\" points=\"2033.6,-191.5 2033.6,-227.5 \"/>\n<text text-anchor=\"middle\" x=\"2084.6\" y=\"-205.8\" font-family=\"Times,serif\" font-size=\"14.00\">data 1.0000</text>\n<polyline fill=\"none\" stroke=\"black\" points=\"2135.6,-191.5 2135.6,-227.5 \"/>\n<text text-anchor=\"middle\" x=\"2189.6\" y=\"-205.8\" font-family=\"Times,serif\" font-size=\"14.00\">grad &#45;0.1036</text>\n</g>\n<!-- 139650006559152&#45;&gt;139650006559200+ -->\n<g id=\"edge14\" class=\"edge\">\n<title>139650006559152&#45;&gt;139650006559200+</title>\n<path fill=\"none\" stroke=\"black\" d=\"M2243.71,-193.66C2263.33,-191 2282.29,-188.44 2297.69,-186.36\"/>\n<polygon fill=\"black\" stroke=\"black\" points=\"2298.31,-189.8 2307.75,-185 2297.38,-182.87 2298.31,-189.8\"/>\n</g>\n<!-- 139650006555072 -->\n<g id=\"node20\" class=\"node\">\n<title>139650006555072</title>\n<polygon fill=\"none\" stroke=\"black\" points=\"2007.6,-81.5 2007.6,-117.5 2243.6,-117.5 2243.6,-81.5 2007.6,-81.5\"/>\n<text text-anchor=\"middle\" x=\"2020.6\" y=\"-95.8\" font-family=\"Times,serif\" font-size=\"14.00\">1</text>\n<polyline fill=\"none\" stroke=\"black\" points=\"2033.6,-81.5 2033.6,-117.5 \"/>\n<text text-anchor=\"middle\" x=\"2084.6\" y=\"-95.8\" font-family=\"Times,serif\" font-size=\"14.00\">data 1.0000</text>\n<polyline fill=\"none\" stroke=\"black\" points=\"2135.6,-81.5 2135.6,-117.5 \"/>\n<text text-anchor=\"middle\" x=\"2189.6\" y=\"-95.8\" font-family=\"Times,serif\" font-size=\"14.00\">grad &#45;0.1464</text>\n</g>\n<!-- 139650006555072&#45;&gt;139650006560448&#45; -->\n<g id=\"edge13\" class=\"edge\">\n<title>139650006555072&#45;&gt;139650006560448&#45;</title>\n<path fill=\"none\" stroke=\"black\" d=\"M2243.71,-114.78C2263.33,-117.33 2282.29,-119.81 2297.69,-121.82\"/>\n<polygon fill=\"black\" stroke=\"black\" points=\"2297.39,-125.31 2307.75,-123.13 2298.29,-118.37 2297.39,-125.31\"/>\n</g>\n<!-- 139650006550992 -->\n<g id=\"node21\" class=\"node\">\n<title>139650006550992</title>\n<polygon fill=\"none\" stroke=\"black\" points=\"2849.6,-135.5 2849.6,-171.5 3298.6,-171.5 3298.6,-135.5 2849.6,-135.5\"/>\n<text text-anchor=\"middle\" x=\"2971.1\" y=\"-149.8\" font-family=\"Times,serif\" font-size=\"14.00\">(exp(2 * n) &#45; 1) / (exp(2 * n) + 1)</text>\n<polyline fill=\"none\" stroke=\"black\" points=\"3092.6,-135.5 3092.6,-171.5 \"/>\n<text text-anchor=\"middle\" x=\"3143.6\" y=\"-149.8\" font-family=\"Times,serif\" font-size=\"14.00\">data 0.7071</text>\n<polyline fill=\"none\" stroke=\"black\" points=\"3194.6,-135.5 3194.6,-171.5 \"/>\n<text text-anchor=\"middle\" x=\"3246.6\" y=\"-149.8\" font-family=\"Times,serif\" font-size=\"14.00\">grad 1.0000</text>\n</g>\n<!-- 139650006550992/&#45;&gt;139650006550992 -->\n<g id=\"edge7\" class=\"edge\">\n<title>139650006550992/&#45;&gt;139650006550992</title>\n<path fill=\"none\" stroke=\"black\" d=\"M2813.69,-153.5C2821.12,-153.5 2829.87,-153.5 2839.58,-153.5\"/>\n<polygon fill=\"black\" stroke=\"black\" points=\"2839.59,-157 2849.59,-153.5 2839.59,-150 2839.59,-157\"/>\n</g>\n<!-- 139650006559200 -->\n<g id=\"node23\" class=\"node\">\n<title>139650006559200</title>\n<polygon fill=\"none\" stroke=\"black\" points=\"2397.6,-163.5 2397.6,-199.5 2723.6,-199.5 2723.6,-163.5 2397.6,-163.5\"/>\n<text text-anchor=\"middle\" x=\"2455.6\" y=\"-177.8\" font-family=\"Times,serif\" font-size=\"14.00\">exp(2 * n) + 1</text>\n<polyline fill=\"none\" stroke=\"black\" points=\"2513.6,-163.5 2513.6,-199.5 \"/>\n<text text-anchor=\"middle\" x=\"2564.6\" y=\"-177.8\" font-family=\"Times,serif\" font-size=\"14.00\">data 6.8284</text>\n<polyline fill=\"none\" stroke=\"black\" points=\"2615.6,-163.5 2615.6,-199.5 \"/>\n<text text-anchor=\"middle\" x=\"2669.6\" y=\"-177.8\" font-family=\"Times,serif\" font-size=\"14.00\">grad &#45;0.1036</text>\n</g>\n<!-- 139650006559200&#45;&gt;139650006550992/ -->\n<g id=\"edge11\" class=\"edge\">\n<title>139650006559200&#45;&gt;139650006550992/</title>\n<path fill=\"none\" stroke=\"black\" d=\"M2705.67,-163.49C2721.86,-161.47 2737.08,-159.56 2749.8,-157.97\"/>\n<polygon fill=\"black\" stroke=\"black\" points=\"2750.37,-161.43 2759.86,-156.72 2749.5,-154.48 2750.37,-161.43\"/>\n</g>\n<!-- 139650006559200+&#45;&gt;139650006559200 -->\n<g id=\"edge8\" class=\"edge\">\n<title>139650006559200+&#45;&gt;139650006559200</title>\n<path fill=\"none\" stroke=\"black\" d=\"M2361.73,-181.5C2369.1,-181.5 2377.7,-181.5 2387.12,-181.5\"/>\n<polygon fill=\"black\" stroke=\"black\" points=\"2387.21,-185 2397.21,-181.5 2387.21,-178 2387.21,-185\"/>\n</g>\n<!-- 139650006561264 -->\n<g id=\"node25\" class=\"node\">\n<title>139650006561264</title>\n<polygon fill=\"none\" stroke=\"black\" points=\"774,-82.5 774,-118.5 1113,-118.5 1113,-82.5 774,-82.5\"/>\n<text text-anchor=\"middle\" x=\"838\" y=\"-96.8\" font-family=\"Times,serif\" font-size=\"14.00\">x1*w1 + x2*w2</text>\n<polyline fill=\"none\" stroke=\"black\" points=\"902,-82.5 902,-118.5 \"/>\n<text text-anchor=\"middle\" x=\"955.5\" y=\"-96.8\" font-family=\"Times,serif\" font-size=\"14.00\">data &#45;6.0000</text>\n<polyline fill=\"none\" stroke=\"black\" points=\"1009,-82.5 1009,-118.5 \"/>\n<text text-anchor=\"middle\" x=\"1061\" y=\"-96.8\" font-family=\"Times,serif\" font-size=\"14.00\">grad 0.5000</text>\n</g>\n<!-- 139650006561264&#45;&gt;139650006549744+ -->\n<g id=\"edge19\" class=\"edge\">\n<title>139650006561264&#45;&gt;139650006549744+</title>\n<path fill=\"none\" stroke=\"black\" d=\"M1098.25,-118.51C1113.17,-120.26 1127.12,-121.89 1138.92,-123.27\"/>\n<polygon fill=\"black\" stroke=\"black\" points=\"1138.79,-126.78 1149.13,-124.47 1139.6,-119.83 1138.79,-126.78\"/>\n</g>\n<!-- 139650006561264+&#45;&gt;139650006561264 -->\n<g id=\"edge9\" class=\"edge\">\n<title>139650006561264+&#45;&gt;139650006561264</title>\n<path fill=\"none\" stroke=\"black\" d=\"M738.44,-100.5C745.81,-100.5 754.42,-100.5 763.84,-100.5\"/>\n<polygon fill=\"black\" stroke=\"black\" points=\"763.94,-104 773.94,-100.5 763.94,-97 763.94,-104\"/>\n</g>\n</g>\n</svg>\n",
            "text/plain": [
              "<graphviz.graphs.Digraph at 0x7f02cd0895a0>"
            ]
          },
          "execution_count": 30,
          "metadata": {},
          "output_type": "execute_result"
        }
      ],
      "source": [
        "def test():\n",
        "    # inputs x1, x2\n",
        "    x1 = Value(2.0).label(\"x1\")\n",
        "    x2 = Value(0.0).label(\"x2\")\n",
        "    # weights w1, w2\n",
        "    w1 = Value(-3.0).label(\"w1\")\n",
        "    w2 = Value(1.0).label(\"w2\")\n",
        "    # bias of the neuron\n",
        "    b = Value(6.8813735870195432).label(\"b\")\n",
        "    # x1*w1 + x2*w2 + b\n",
        "    x1w1 = (x1 * w1).label(\"x1*w1\")\n",
        "    x2w2 = (x2 * w2).label(\"x2*w2\")\n",
        "    x1w1x2w2 = (x1w1 + x2w2).label(\"x1*w1 + x2*w2\")\n",
        "    n = (x1w1x2w2 + b).label(\"n\")\n",
        "    # ----\n",
        "    e = (2*n).exp()\n",
        "    o = (e - 1) / (e + 1)\n",
        "    o._label = o._exp_label\n",
        "    # ----\n",
        "    o.backward()\n",
        "    return draw_dot(o)\n",
        "\n",
        "\n",
        "test()\n"
      ]
    }
  ],
  "metadata": {
    "colab": {
      "collapsed_sections": [
        "9XdOE2l_vFTx",
        "IiL4VtX_vFT3",
        "Z_NZ-dJvvFT4"
      ],
      "provenance": [],
      "toc_visible": true
    },
    "kernelspec": {
      "display_name": "Python 3 (ipykernel)",
      "language": "python",
      "name": "python3"
    },
    "language_info": {
      "codemirror_mode": {
        "name": "ipython",
        "version": 3
      },
      "file_extension": ".py",
      "mimetype": "text/x-python",
      "name": "python",
      "nbconvert_exporter": "python",
      "pygments_lexer": "ipython3",
      "version": "3.10.13"
    },
    "orig_nbformat": 4
  },
  "nbformat": 4,
  "nbformat_minor": 0
}
